{
 "cells": [
  {
   "cell_type": "raw",
   "id": "ce76eceb",
   "metadata": {},
   "source": [
    "---\n",
    "title: Plotting (in Python)\n",
    "subtitle: Fundamentals of Data Science\n",
    "format: html\n",
    "author: Jeremy Teitelbaum\n",
    "---"
   ]
  },
  {
   "cell_type": "markdown",
   "id": "b55fa7a5",
   "metadata": {},
   "source": [
    "The main tool for plotting in R is `ggplot`, which we have talked about\n",
    "a little and which will be covered in detail in other courses.\n",
    "\n",
    "The purpose of this lesson is to talk about tools for plotting in\n",
    "Python. Here the situation is more diverse, and there are a number of\n",
    "different plotting packages with different capabilities. The most\n",
    "notable ones are:\n",
    "\n",
    "-   `matplotlib` the most fundamental package. Very capable but\n",
    "    old-fashioned and the output isn't of the highest graphical quality.\n",
    "-   `bokeh` which offers high quality visuals and interactivity.  \n",
    "-   `altair` which is a package that has similar syntax to `ggplot` and\n",
    "    follows the Wilkinson \"Grammar of Graphics\" philosophy\n",
    "-   `plotly` which offers even more opportunities for interactivity\n",
    "-   `seaborn` which has very high quality visuals and is very common in\n",
    "    publications especially in genomics.\n",
    "\n",
    "We'll discuss `matplotlib`, `bokeh`, and `seaborn` and you can explore\n",
    "the others on your own to see what you like best.\n",
    "\n",
    "We'll work with the `penguins` dataset."
   ]
  },
  {
   "cell_type": "code",
   "execution_count": 2,
   "id": "1f690ec1",
   "metadata": {},
   "outputs": [],
   "source": [
    "import matplotlib.pyplot as plt  # this gives a \"matlab\"-like interface to matplotlib\n",
    "import pandas as pd\n",
    "import numpy as np\n",
    "\n",
    "penguins = pd.read_csv(\"data/penguins-raw.csv\")\n",
    "penguins = penguins.drop(\"Comments\", axis=1)\n",
    "penguins.dropna()\n",
    "\n",
    "x = np.linspace(-5, 5)\n",
    "y = x**2"
   ]
  },
  {
   "cell_type": "markdown",
   "id": "149b3571",
   "metadata": {},
   "source": [
    "The `matplotlib` package is organized around `figures` and `axes`.\n",
    "Essentially, a set of `axes` is a single graph, and a `figure` is a\n",
    "collection of axes organized into a single picture. To work with\n",
    "`matplotlib` one first creates a figure and then adds axes to it."
   ]
  },
  {
   "cell_type": "code",
   "execution_count": null,
   "id": "bcec6a7d",
   "metadata": {},
   "outputs": [],
   "source": [
    "fig = plt.figure(figsize=(3, 4))\n",
    "axes = fig.add_subplot(\n",
    "    1, 1, 1\n",
    ")  # here we are saying the figure will have 1 row, 1 column, and this is plot number 1.\n",
    "axes.plot(x, y)  # plot y vs x"
   ]
  },
  {
   "cell_type": "markdown",
   "id": "a3517868",
   "metadata": {},
   "source": [
    "You can plot multiple things on on set of axes. We also add a grid."
   ]
  },
  {
   "cell_type": "code",
   "execution_count": null,
   "id": "607fc0d7",
   "metadata": {},
   "outputs": [],
   "source": [
    "axes.plot(x, 1 - 2 * y)\n",
    "axes.grid(True)\n",
    "fig"
   ]
  },
  {
   "cell_type": "markdown",
   "id": "95d02a8c",
   "metadata": {},
   "source": [
    "If we want a 2x2 array of plots, we could proceed like this."
   ]
  },
  {
   "cell_type": "code",
   "execution_count": null,
   "id": "9e7235f9",
   "metadata": {},
   "outputs": [],
   "source": [
    "fig = plt.figure(figsize=(4, 3))\n",
    "axes1 = fig.add_subplot(2, 2, 1)\n",
    "axes2 = fig.add_subplot(2, 2, 2)\n",
    "axes3 = fig.add_subplot(2, 2, 3)\n",
    "axes4 = fig.add_subplot(2, 2, 4)\n",
    "axes1.plot(x, y)\n",
    "axes2.plot(x, 2 * y + 1)\n",
    "axes3.plot(x, -y)\n",
    "axes4.plot(x, -y + 2)"
   ]
  },
  {
   "cell_type": "markdown",
   "id": "c1002a95",
   "metadata": {},
   "source": [
    "There are lots of types of plots, as always."
   ]
  },
  {
   "cell_type": "code",
   "execution_count": null,
   "id": "7d904f20",
   "metadata": {},
   "outputs": [],
   "source": [
    "fig = plt.figure(figsize=(6, 8))\n",
    "axes1 = fig.add_subplot(2, 2, 1)\n",
    "axes2 = fig.add_subplot(2, 2, 2)\n",
    "axes3 = fig.add_subplot(2, 2, 3)\n",
    "axes4 = fig.add_subplot(2, 2, 4)\n",
    "axes1.plot(x, y)\n",
    "axes2.scatter(penguins[\"Body Mass (g)\"], penguins[\"Flipper Length (mm)\"], s=0.1)\n",
    "axes3.plot(x, -y, color=\"green\", linestyle=\"dashed\")\n",
    "axes4.plot(x, -y + 2, color=\"blue\", linestyle=\"--\", linewidth=3)"
   ]
  },
  {
   "cell_type": "markdown",
   "id": "0fb3cf81",
   "metadata": {},
   "source": [
    "You need titles (for the figure and the individual plots) and axis\n",
    "labels."
   ]
  },
  {
   "cell_type": "code",
   "execution_count": null,
   "id": "d224b1f7",
   "metadata": {},
   "outputs": [],
   "source": [
    "fig.set_size_inches(12, 12)\n",
    "fig.suptitle(\"Demonstration Plot\")\n",
    "axes1.set_title(\"A Parabola\")\n",
    "axes1.set_xlabel(\"x\")\n",
    "axes1.set_ylabel(\"y\")\n",
    "axes1.grid(True)\n",
    "axes2.set_title(\"A scatter plot\")\n",
    "axes3.set_title(\"A green\\n upside-down parabola\")\n",
    "axes4.set_title(\"A blue parabola\")\n",
    "fig"
   ]
  },
  {
   "cell_type": "markdown",
   "id": "b903bac4",
   "metadata": {},
   "source": [
    "Let's look at a fully developed scatter plot."
   ]
  },
  {
   "cell_type": "code",
   "execution_count": null,
   "id": "e8e4b441",
   "metadata": {},
   "outputs": [],
   "source": [
    "fig = plt.figure(figsize=(10, 10))\n",
    "# fig.suptitle(\"Flipper Length vs Body Mass\")\n",
    "axes = fig.add_subplot(1, 1, 1)\n",
    "axes.grid(True)\n",
    "axes.set_xlabel(\"Body Mass (g)\")\n",
    "axes.set_ylabel(\"Flipper Length (mm)\")\n",
    "axes.set_title(\"Flipper Length vs Body Mass\")\n",
    "# axes.set_xlim(0,5500)\n",
    "# axes.set_ylim(0,300)\n",
    "\n",
    "Males = penguins[penguins[\"Sex\"] == \"MALE\"]\n",
    "Females = penguins[penguins[\"Sex\"] == \"FEMALE\"]\n",
    "male_plot = axes.scatter(\n",
    "    x=Males[\"Body Mass (g)\"], y=Males[\"Flipper Length (mm)\"], c=\"blue\", label=\"Male\"\n",
    ")\n",
    "female_plot = axes.scatter(\n",
    "    x=Females[\"Body Mass (g)\"],\n",
    "    y=Females[\"Flipper Length (mm)\"],\n",
    "    c=\"red\",\n",
    "    label=\"Female\",\n",
    ")\n",
    "axes.legend([\"Male\", \"Female\"])"
   ]
  },
  {
   "cell_type": "markdown",
   "id": "18f20795",
   "metadata": {},
   "source": [
    "Finally we can generate a multiple plot."
   ]
  },
  {
   "cell_type": "code",
   "execution_count": null,
   "id": "42c17d41",
   "metadata": {},
   "outputs": [],
   "source": [
    "fig = plt.figure(figsize=(10, 30))\n",
    "Males = penguins[penguins[\"Sex\"] == \"MALE\"]\n",
    "Females = penguins[penguins[\"Sex\"] == \"FEMALE\"]\n",
    "for i, x in enumerate(\n",
    "    [\"Culmen Length (mm)\", \"Culmen Depth (mm)\", \"Flipper Length (mm)\"]\n",
    "):\n",
    "    axes = fig.add_subplot(3, 1, i + 1)\n",
    "    axes.grid(True)\n",
    "    axes.set_title(f\"{x} vs Body Mass\")\n",
    "    male_plot = axes.scatter(\n",
    "        x=Males[\"Body Mass (g)\"], y=Males[x], c=\"blue\", label=\"Male\"\n",
    "    )\n",
    "    female_plot = axes.scatter(\n",
    "        x=Females[\"Body Mass (g)\"], y=Females[x], c=\"red\", label=\"Female\"\n",
    "    )\n",
    "    axes.legend([\"Male\", \"Female\"])"
   ]
  },
  {
   "cell_type": "markdown",
   "id": "38136619",
   "metadata": {},
   "source": [
    "Matplotlib also offers a histogram command."
   ]
  },
  {
   "cell_type": "code",
   "execution_count": null,
   "id": "ce9998fb",
   "metadata": {},
   "outputs": [],
   "source": [
    "fig = plt.figure(figsize=(5, 5))\n",
    "axes = fig.add_subplot(1, 1, 1)\n",
    "axes.grid(True)\n",
    "axes.set_title(\"Distribution of Body Mass (Male and Female)\")\n",
    "axes.hist(\n",
    "    Males[\"Body Mass (g)\"],\n",
    "    color=\"forestgreen\",\n",
    "    bins=50,\n",
    "    density=True,\n",
    "    label=\"Male\",\n",
    "    alpha=0.5,\n",
    ")\n",
    "axes.hist(\n",
    "    Females[\"Body Mass (g)\"],\n",
    "    color=\"orange\",\n",
    "    bins=50,\n",
    "    density=True,\n",
    "    label=\"Female\",\n",
    "    alpha=0.5,\n",
    ")\n",
    "axes.legend([\"Male\", \"Female\"])\n",
    "fig"
   ]
  },
  {
   "cell_type": "markdown",
   "id": "4f547887",
   "metadata": {},
   "source": [
    "There are millions of others.....\n",
    "\n",
    "## Seaborn\n",
    "\n",
    "Seaborn is based on matplotlib but the graphics are of higher quality\n",
    "(IMHO) and many of the plots published in scientific journals in biology\n",
    "are recognizably seaborn.\n",
    "\n",
    "Seaborn is also better at handling data sources than matplotlib and has\n",
    "built in statistical capabilities (box plots, density curves, fitted\n",
    "lines...)\n",
    "\n",
    "Ultimately to make seaborn really work you need to know matplotlib well.\n",
    "\n",
    "See [the seaborn documentation](https://seaborn.pydata.org/index.html)"
   ]
  },
  {
   "cell_type": "code",
   "execution_count": null,
   "id": "925aaf79",
   "metadata": {},
   "outputs": [],
   "source": [
    "import seaborn as sns\n",
    "\n",
    "sns.set_theme()"
   ]
  },
  {
   "cell_type": "markdown",
   "id": "650ff98f",
   "metadata": {},
   "source": [
    "We can declare a data source for our plots.\n",
    "\n",
    "A scatter plot is called a `relplot` for \"relationship plot\"."
   ]
  },
  {
   "cell_type": "code",
   "execution_count": null,
   "id": "43e33194",
   "metadata": {},
   "outputs": [],
   "source": [
    "sns.relplot(data=penguins, x=\"Body Mass (g)\", y=\"Flipper Length (mm)\")"
   ]
  },
  {
   "cell_type": "code",
   "execution_count": null,
   "id": "909d99ed",
   "metadata": {},
   "outputs": [],
   "source": [
    "sns.relplot(\n",
    "    data=penguins, col=\"Sex\", hue=\"Species\", x=\"Body Mass (g)\", y=\"Flipper Length (mm)\"\n",
    ")"
   ]
  },
  {
   "cell_type": "code",
   "execution_count": null,
   "id": "9125aac8",
   "metadata": {},
   "outputs": [],
   "source": [
    "ax = sns.relplot(\n",
    "    data=penguins, hue=\"Species\", x=\"Body Mass (g)\", y=\"Flipper Length (mm)\"\n",
    ")"
   ]
  },
  {
   "cell_type": "markdown",
   "id": "955aa8ff",
   "metadata": {},
   "source": [
    "Seaborn has some built-in statistical stuff, like `ggplot` does."
   ]
  },
  {
   "cell_type": "code",
   "execution_count": null,
   "id": "3011122a",
   "metadata": {},
   "outputs": [],
   "source": [
    "sns.lmplot(data=penguins, x=\"Body Mass (g)\", y=\"Flipper Length (mm)\", hue=\"Species\")"
   ]
  },
  {
   "cell_type": "markdown",
   "id": "04976d80",
   "metadata": {},
   "source": [
    "Histograms are `displots`."
   ]
  },
  {
   "cell_type": "code",
   "execution_count": null,
   "id": "3fc6f676",
   "metadata": {},
   "outputs": [],
   "source": [
    "# displot is a facetgrid object with multiple axes within it; you need to\n",
    "# get at those to mess with titles, etc.\n",
    "ax = sns.displot(data=penguins, x=\"Body Mass (g)\", hue=\"Species\")\n",
    "ax.axes[0, 0].set_title(\"Distribution of Body Mass\")"
   ]
  },
  {
   "cell_type": "markdown",
   "id": "33ea3a1a",
   "metadata": {},
   "source": [
    "Here are some examples of what you can do with seaborn. Let's clean up\n",
    "the species names and the sex field first."
   ]
  },
  {
   "cell_type": "code",
   "execution_count": null,
   "id": "1514d49d",
   "metadata": {},
   "outputs": [],
   "source": [
    "penguins[\"SpeciesS\"] = penguins[\"Species\"].apply(lambda x: x.split(\" \")[0])\n",
    "penguins[\"Sex\"] = penguins[\"Sex\"].apply(\n",
    "    lambda x: x if type(x) != str else x[0] + x[1:].lower()\n",
    ")"
   ]
  },
  {
   "cell_type": "markdown",
   "id": "86e82db3",
   "metadata": {},
   "source": [
    "You can split the histograms by species."
   ]
  },
  {
   "cell_type": "code",
   "execution_count": null,
   "id": "e30b2730",
   "metadata": {},
   "outputs": [],
   "source": [
    "ax = sns.displot(data=penguins, x=\"Body Mass (g)\", col=\"SpeciesS\")\n",
    "ax.set_titles(\"{col_name}\")"
   ]
  },
  {
   "cell_type": "markdown",
   "id": "65746fcf",
   "metadata": {},
   "source": [
    "You can split the histograms by species and sex, and add density curves\n",
    "if you want."
   ]
  },
  {
   "cell_type": "code",
   "execution_count": null,
   "id": "50ded6ae",
   "metadata": {},
   "outputs": [],
   "source": [
    "ax = sns.displot(data=penguins, x=\"Body Mass (g)\", col=\"SpeciesS\", row=\"Sex\", kde=True)\n",
    "ax.set_titles(\"{col_name}|{row_name}\")"
   ]
  },
  {
   "cell_type": "markdown",
   "id": "e66c4653",
   "metadata": {},
   "source": [
    "You can add colors if you want."
   ]
  },
  {
   "cell_type": "code",
   "execution_count": null,
   "id": "589b43f2",
   "metadata": {},
   "outputs": [],
   "source": [
    "ax = sns.displot(data=penguins, x=\"Body Mass (g)\", row=\"Sex\", kde=True, hue=\"SpeciesS\")\n",
    "ax.set_titles(\"{row_name}\")"
   ]
  },
  {
   "cell_type": "markdown",
   "id": "05b2bf35",
   "metadata": {},
   "source": [
    "Among the other types of plots you can get are:\n",
    "\n",
    "Bar Plots"
   ]
  },
  {
   "cell_type": "code",
   "execution_count": null,
   "id": "a128d50c",
   "metadata": {},
   "outputs": [],
   "source": [
    "ax = sns.catplot(data=penguins, x=\"SpeciesS\", kind=\"count\", hue=\"Sex\")"
   ]
  },
  {
   "cell_type": "markdown",
   "id": "eca86df9",
   "metadata": {},
   "source": [
    "Box Plots"
   ]
  },
  {
   "cell_type": "code",
   "execution_count": null,
   "id": "24d0ceb9",
   "metadata": {},
   "outputs": [],
   "source": [
    "ax = sns.boxplot(data=penguins, x=\"Body Mass (g)\", y=\"SpeciesS\")\n",
    "label = ax.set_ylabel(\"Species\")"
   ]
  },
  {
   "cell_type": "markdown",
   "id": "50f2f117",
   "metadata": {},
   "source": [
    "Violin Plots"
   ]
  },
  {
   "cell_type": "code",
   "execution_count": null,
   "id": "2954f6db",
   "metadata": {},
   "outputs": [],
   "source": [
    "ax = sns.violinplot(data=penguins, x=\"Body Mass (g)\", y=\"SpeciesS\")\n",
    "label = ax.set_ylabel(\"Species\")"
   ]
  },
  {
   "cell_type": "markdown",
   "id": "83b475cf",
   "metadata": {},
   "source": [
    "There are many other things you can do. See the [seaborn plot\n",
    "gallery](https://seaborn.pydata.org/examples/index.html).\n",
    "\n",
    "## Bokeh\n",
    "\n",
    "Bokeh is an open source plotting package that is not derived from\n",
    "matplotlib. It has an underlying javascript engine that provides\n",
    "interactivity."
   ]
  },
  {
   "cell_type": "code",
   "execution_count": null,
   "id": "2bc36c71",
   "metadata": {},
   "outputs": [],
   "source": [
    "import bokeh\n",
    "from bokeh.plotting import figure, output_file, output_notebook, show\n",
    "from bokeh.models import ColumnDataSource\n",
    "\n",
    "output_notebook()"
   ]
  },
  {
   "cell_type": "markdown",
   "id": "b3d0956a",
   "metadata": {},
   "source": [
    "We setup a ColumnDataSource from our penguins dataframe."
   ]
  },
  {
   "cell_type": "code",
   "execution_count": null,
   "id": "32b8cedd",
   "metadata": {},
   "outputs": [],
   "source": [
    "penguins_source = ColumnDataSource(penguins)"
   ]
  },
  {
   "cell_type": "markdown",
   "id": "6bcb64a3",
   "metadata": {},
   "source": [
    "We plot by creating a `figure` and adding things to it."
   ]
  },
  {
   "cell_type": "code",
   "execution_count": null,
   "id": "53fca112",
   "metadata": {},
   "outputs": [],
   "source": [
    "F = figure()\n",
    "F.scatter(x=\"Body Mass (g)\", y=\"Culmen Length (mm)\", source=penguins_source)\n",
    "show(F)"
   ]
  },
  {
   "cell_type": "markdown",
   "id": "58d70837",
   "metadata": {},
   "source": [
    "One of the nice featues of Bokeh is that we can add interactive tools to\n",
    "it."
   ]
  },
  {
   "cell_type": "code",
   "execution_count": null,
   "id": "af61d420",
   "metadata": {},
   "outputs": [],
   "source": [
    "x = \"Body Mass (g)\"\n",
    "y = \"Culmen Length (mm)\"\n",
    "tooltips = [\n",
    "    (\"Mass\", \"@{Body Mass (g)}\"),\n",
    "    (\"Length\", \"@{Culmen Length (mm)}\"),\n",
    "    (\"Sex\", \"@Sex\"),\n",
    "]\n",
    "F = figure(x_axis_label=x, y_axis_label=y, title=f\"{y} vs {x}\", tooltips=tooltips)\n",
    "F.scatter(x=x, y=y, source=penguins_source)\n",
    "show(F)"
   ]
  },
  {
   "cell_type": "markdown",
   "id": "9fdc3072",
   "metadata": {},
   "source": [
    "To color something, we create a color mapper function."
   ]
  },
  {
   "cell_type": "code",
   "execution_count": null,
   "id": "c4b69a2c",
   "metadata": {},
   "outputs": [],
   "source": [
    "from bokeh.transform import factor_cmap\n",
    "\n",
    "color_mapper = factor_cmap(\n",
    "    \"SpeciesS\",\n",
    "    palette=[\"red\", \"green\", \"blue\"],\n",
    "    factors=[\"Adelie\", \"Gentoo\", \"Chinstrap\"],\n",
    ")\n",
    "F = figure(x_axis_label=x, y_axis_label=y, title=f\"{y} vs {x}\", tooltips=tooltips)\n",
    "F.scatter(\n",
    "    x=x,\n",
    "    y=y,\n",
    "    size=7,\n",
    "    fill_color=factor_cmap(\n",
    "        \"SpeciesS\",\n",
    "        palette=[\"red\", \"green\", \"blue\"],\n",
    "        factors=[\"Adelie\", \"Gentoo\", \"Chinstrap\"],\n",
    "    ),\n",
    "    source=penguins_source,\n",
    ")\n",
    "show(F)"
   ]
  }
 ],
 "metadata": {
  "kernelspec": {
   "display_name": "Python 3 (ipykernel)",
   "language": "python",
   "name": "python3"
  },
  "language_info": {
   "codemirror_mode": {
    "name": "ipython",
    "version": 3
   },
   "file_extension": ".py",
   "mimetype": "text/x-python",
   "name": "python",
   "nbconvert_exporter": "python",
   "pygments_lexer": "ipython3",
   "version": "3.11.5"
  }
 },
 "nbformat": 4,
 "nbformat_minor": 5
}
