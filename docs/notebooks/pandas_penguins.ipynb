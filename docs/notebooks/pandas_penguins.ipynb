{
  "cells": [
    {
      "cell_type": "raw",
      "metadata": {},
      "source": [
        "--- \n",
        "title: Pandas\n",
        "layout: default\n",
        "nav_exclude: true\n",
        "---"
      ]
    },
    {
      "cell_type": "markdown",
      "metadata": {},
      "source": [
        "## Loading the key libraries"
      ]
    },
    {
      "cell_type": "code",
      "metadata": {},
      "source": [
        "import sys\n",
        "import pandas as pd\n",
        "import numpy as np\n",
        "import re\n",
        "\n",
        "print(f\"pandas version {pd.__version__}\")\n",
        "print(f\"numpy version {np.__version__}\")\n",
        "print(\"\\n\".join(f\"Python {sys.version}\".split(\"|\")))"
      ],
      "execution_count": null,
      "outputs": []
    },
    {
      "cell_type": "markdown",
      "metadata": {},
      "source": [
        "## A comment on file formats\n",
        "\n",
        "The most common simple format for tabular data is comma separated or tab separated (`csv` or `tsv`).\n",
        "\n",
        "Newer formats such as `arrow` and `parquet` are more efficient in storage and faster to load.\n",
        "\n",
        "Pandas 2.0 can handle these newer formats.\n",
        "\n",
        "\n",
        "## Reading a dataframe"
      ]
    },
    {
      "cell_type": "code",
      "metadata": {},
      "source": [
        "# read from a csv file\n",
        "penguins = pd.read_csv(\"data/penguins-raw.csv\")\n",
        "# read from a url\n",
        "# url = \"https://raw.githubusercontent.com/mcnakhaee/palmerpenguins/master/palmerpenguins/data/penguins-raw.csv\"\n",
        "# penguins = pd.read_csv(url)\n",
        "# read from an excel file\n",
        "# penguins = pd.read_excel('file.xlsx')\n",
        "rows, cols = penguins.shape\n",
        "print(f\"Rows: {rows}, Columns: {cols}\")\n",
        "print(f\"Columns:\", \"\\n\".join(penguins.columns))"
      ],
      "execution_count": null,
      "outputs": []
    },
    {
      "cell_type": "markdown",
      "metadata": {},
      "source": [
        "## Series \n",
        "\n",
        "Each column of a dataframe is a series accessed by name."
      ]
    },
    {
      "cell_type": "code",
      "metadata": {},
      "source": [
        "penguins[\"Culmen Length (mm)\"]"
      ],
      "execution_count": null,
      "outputs": []
    },
    {
      "cell_type": "markdown",
      "metadata": {},
      "source": [
        "Note the last row:\n",
        "- Name\n",
        "- Length\n",
        "- dtype\n",
        "\n",
        "Types are \"inferred\" by the read_csv function.\n",
        "\n",
        "## Another example"
      ]
    },
    {
      "cell_type": "code",
      "metadata": {},
      "source": [
        "penguins['Date Egg']"
      ],
      "execution_count": null,
      "outputs": []
    },
    {
      "cell_type": "markdown",
      "metadata": {},
      "source": [
        "Here the type is \"object\" which is the generic python object.  But these are clearly supposed to be dates. We'll fix that later.\n",
        "\n",
        "## Alternative syntax"
      ]
    },
    {
      "cell_type": "code",
      "metadata": {},
      "source": [
        "# if the column name is simple, you can use a simpler syntax.\n",
        "penguins.Sex"
      ],
      "execution_count": null,
      "outputs": []
    },
    {
      "cell_type": "markdown",
      "metadata": {},
      "source": [
        "## Value Counts\n",
        "\n",
        "The `value_counts` method returns a summary series."
      ]
    },
    {
      "cell_type": "code",
      "metadata": {},
      "source": [
        "penguins['Island'].value_counts()"
      ],
      "execution_count": null,
      "outputs": []
    },
    {
      "cell_type": "code",
      "metadata": {},
      "source": [
        "penguins['Species'].value_counts()"
      ],
      "execution_count": null,
      "outputs": []
    },
    {
      "cell_type": "markdown",
      "metadata": {},
      "source": [
        "## Selecting a subset of columns"
      ]
    },
    {
      "cell_type": "code",
      "metadata": {},
      "source": [
        "simpler = penguins[['Species', 'Body Mass (g)', 'Flipper Length (mm)']]\n",
        "simpler.head()"
      ],
      "execution_count": null,
      "outputs": []
    },
    {
      "cell_type": "markdown",
      "metadata": {},
      "source": [
        "## Index\n",
        "\n",
        "A dataframe has an index, which can be just the numbers from 0 to N as in this case."
      ]
    },
    {
      "cell_type": "code",
      "metadata": {},
      "source": [
        "penguins.index"
      ],
      "execution_count": null,
      "outputs": []
    },
    {
      "cell_type": "markdown",
      "metadata": {},
      "source": [
        "## Columns and Rows\n",
        "\n",
        "`loc` allows you to access individual elements."
      ]
    },
    {
      "cell_type": "code",
      "metadata": {},
      "source": [
        "# The 23rd row\n",
        "penguins.loc[23,:]"
      ],
      "execution_count": null,
      "outputs": []
    },
    {
      "cell_type": "code",
      "metadata": {},
      "source": [
        "penguins.loc[23,'Culmen Length (mm)']"
      ],
      "execution_count": null,
      "outputs": []
    },
    {
      "cell_type": "code",
      "metadata": {},
      "source": [
        "penguins.loc[23:28,['Sex','Date Egg']]"
      ],
      "execution_count": null,
      "outputs": []
    },
    {
      "cell_type": "markdown",
      "metadata": {},
      "source": [
        "## Filtering\n",
        "\n",
        "Filtering is done by using a boolean series as an index.  "
      ]
    },
    {
      "cell_type": "code",
      "metadata": {},
      "source": [
        "penguins['Sex']=='FEMALE'"
      ],
      "execution_count": null,
      "outputs": []
    },
    {
      "cell_type": "code",
      "metadata": {},
      "source": [
        "females = penguins[penguins['Sex']=='FEMALE']\n",
        "females.head()"
      ],
      "execution_count": null,
      "outputs": []
    },
    {
      "cell_type": "markdown",
      "metadata": {},
      "source": [
        "An alternative syntax is to use query.  The quoting rules here can be tricky.\n",
        "The query is a string, and column names are set off by backticks.  Using\n",
        "two different types of quotes allows the query to include a string."
      ]
    },
    {
      "cell_type": "code",
      "metadata": {},
      "source": [
        "females = penguins.query(\"`Sex`=='FEMALE'\")\n",
        "females.head()"
      ],
      "execution_count": null,
      "outputs": []
    },
    {
      "cell_type": "markdown",
      "metadata": {},
      "source": [
        "## Fancier filtering"
      ]
    },
    {
      "cell_type": "code",
      "metadata": {},
      "source": [
        "penguins[penguins[\"Flipper Length (mm)\"]>penguins[\"Body Mass (g)\"]/20]"
      ],
      "execution_count": null,
      "outputs": []
    },
    {
      "cell_type": "markdown",
      "metadata": {},
      "source": [
        "## Missing values\n",
        "\n",
        "Dealing with missing values is a central problem in data science.  One way to identify how many misssing values are out there is as follows:"
      ]
    },
    {
      "cell_type": "code",
      "metadata": {},
      "source": [
        "## Uses the fact that logical True counts as one, False as zero\n",
        "## sum() method sums by columns\n",
        "penguins.isna().sum()"
      ],
      "execution_count": null,
      "outputs": []
    },
    {
      "cell_type": "markdown",
      "metadata": {},
      "source": [
        "Nearly all of the comments are empty.  What are they?"
      ]
    },
    {
      "cell_type": "code",
      "metadata": {},
      "source": [
        "comments = penguins['Comments'].value_counts()\n",
        "comments"
      ],
      "execution_count": null,
      "outputs": []
    },
    {
      "cell_type": "markdown",
      "metadata": {},
      "source": [
        "Let's save the comments separately and look at the rest."
      ]
    },
    {
      "cell_type": "code",
      "metadata": {},
      "source": [
        "# drop normally drops rows, but with axis=1 it drops columns\n",
        "penguins = penguins.drop('Comments',axis=1)"
      ],
      "execution_count": null,
      "outputs": []
    },
    {
      "cell_type": "markdown",
      "metadata": {},
      "source": [
        "Various options:\n",
        "- drop rows with missing values\n",
        "- impute the missing values somehow\n",
        "\n",
        "## Drop rows with missing values"
      ]
    },
    {
      "cell_type": "code",
      "metadata": {},
      "source": [
        "# This makes a boolean where a row is True provided at least one of its entries are NA\n",
        "na_rows = (penguins.isna().any(axis=1))\n",
        "print(f\"{na_rows.sum()} rows have NA somewhere outside of comments\")"
      ],
      "execution_count": null,
      "outputs": []
    },
    {
      "cell_type": "code",
      "metadata": {},
      "source": [
        "# here we keep rows only if no NA's.  Can also use notna().\n",
        "penguins_nona = penguins.loc[~na_rows,:]"
      ],
      "execution_count": null,
      "outputs": []
    },
    {
      "cell_type": "markdown",
      "metadata": {},
      "source": [
        "## Imputation\n",
        "\n",
        "We saw above that culmen length has 2 missing values. We can use `fillna` to\n",
        "replace the missing values with something (like the mean or median or zero)."
      ]
    },
    {
      "cell_type": "code",
      "metadata": {},
      "source": [
        "# using equality w/o copy creates another reference.\n",
        "penguins_imputed = penguins.copy()\n",
        "culmen_mean = penguins_imputed['Culmen Length (mm)'].mean() # how does this handle NA values?\n",
        "print(f\"Culmen length mean is {culmen_mean}\")\n",
        "penguins_imputed['Culmen Length (mm)'] = penguins_imputed['Culmen Length (mm)'].fillna(culmen_mean)"
      ],
      "execution_count": null,
      "outputs": []
    },
    {
      "cell_type": "markdown",
      "metadata": {},
      "source": [
        "There are many other imputation methods.  For example, if the data is ordered, you can fill \n",
        "missing data with linear interpolation. (See the `interpolate` method).\n",
        "\n",
        "## Data types\n",
        "\n",
        "As we saw above, the types of the columns are inferred when the data is read.  But it's not always correct.  For example, the \"Date Egg\" column is supposed to be a date but it's shown as a generic python object. \n",
        "\n",
        "Using the correct type can greatly improve performance as generic Python arguments\n",
        "are inefficient.\n",
        "\n",
        "In pandas 1.0 strings are always treated as objects but in pandas 2.0 there is a `StringDtype`.\n",
        "\n",
        "The most common types are:\n",
        "- object\n",
        "- float64\n",
        "- datetime (datetime64[ns])\n",
        "- int64\n",
        "- bool \n",
        "\n",
        "One may also find categorical types. "
      ]
    },
    {
      "cell_type": "code",
      "metadata": {},
      "source": [
        "penguins.dtypes"
      ],
      "execution_count": null,
      "outputs": []
    },
    {
      "cell_type": "markdown",
      "metadata": {},
      "source": [
        "## Setting datatypes\n",
        "\n",
        "Here's an example where we manually make sex a categorical type."
      ]
    },
    {
      "cell_type": "code",
      "metadata": {},
      "source": [
        "penguins = penguins.astype({'Sex':'category'})\n",
        "penguins['Sex']"
      ],
      "execution_count": null,
      "outputs": []
    },
    {
      "cell_type": "markdown",
      "metadata": {},
      "source": [
        "One can also pass a dictionary setting the types of columns as an argument when\n",
        "you read them from the csv file.\n",
        "\n",
        "## Creating new columns \n",
        "\n",
        "\n",
        "Simplifying the species name."
      ]
    },
    {
      "cell_type": "code",
      "metadata": {},
      "source": [
        "def first_word(x):\n",
        "    return x.split()[0]\n",
        "penguins['SimpleSpecies'] = penguins['Species'].map(first_word)"
      ],
      "execution_count": null,
      "outputs": []
    },
    {
      "cell_type": "markdown",
      "metadata": {},
      "source": [
        "Rewriting the body mass in kilograms."
      ]
    },
    {
      "cell_type": "code",
      "metadata": {},
      "source": [
        "penguins['Body Mass (kg)'] = penguins['Body Mass (g)']/1000"
      ],
      "execution_count": null,
      "outputs": []
    },
    {
      "cell_type": "markdown",
      "metadata": {},
      "source": [
        "## Sorting"
      ]
    },
    {
      "cell_type": "code",
      "metadata": {},
      "source": [
        "penguins_small = penguins[['Species','Island','Body Mass (g)']]\n",
        "penguins_small.sort_values('Body Mass (g)')\n",
        "# ascending = False for descending order\n",
        "# na_position = 'first' or 'last' (default is 'last')\n",
        "# can also provide a key which is a function of prototype Series -> Series\n",
        "# inplace = True doesn't return a new dataframe, sorts the given one in place"
      ],
      "execution_count": null,
      "outputs": []
    },
    {
      "cell_type": "markdown",
      "metadata": {},
      "source": [
        "## Grouping\n",
        "\n",
        "Grouping is a powerful tool.  Let's first\n",
        "group our penguins by species.  The result is a \"grouped\" object which needs to pass through a summarize operation to\n",
        "be useful. "
      ]
    },
    {
      "cell_type": "code",
      "metadata": {},
      "source": [
        "penguins_by_species = penguins.groupby('Species')\n",
        "penguins_by_species"
      ],
      "execution_count": null,
      "outputs": []
    },
    {
      "cell_type": "markdown",
      "metadata": {},
      "source": [
        "## Summarizing"
      ]
    },
    {
      "cell_type": "code",
      "metadata": {},
      "source": [
        "# describe computes basic descriptive statistics\n",
        "penguins_by_species['Body Mass (g)'].describe()"
      ],
      "execution_count": null,
      "outputs": []
    },
    {
      "cell_type": "code",
      "metadata": {},
      "source": [
        "# this fails because some columns aren't numeric\n",
        "penguins_by_species.mean(numeric_only=True)"
      ],
      "execution_count": null,
      "outputs": []
    },
    {
      "cell_type": "code",
      "metadata": {},
      "source": [
        "penguins_by_species.count()"
      ],
      "execution_count": null,
      "outputs": []
    },
    {
      "cell_type": "markdown",
      "metadata": {},
      "source": [
        "## MultiIndex"
      ]
    },
    {
      "cell_type": "code",
      "metadata": {},
      "source": [
        "penguins_by_sex_and_species = penguins.groupby(['Sex','Species'])\n",
        "penguins_by_sex_and_species['Body Mass (g)'].describe().round()"
      ],
      "execution_count": null,
      "outputs": []
    },
    {
      "cell_type": "code",
      "metadata": {},
      "source": [
        "# pivot tables\n",
        "penguins_by_sex_and_species['Body Mass (g)'].mean().reset_index().pivot(index='Sex',columns='Species',values='Body Mass (g)')"
      ],
      "execution_count": null,
      "outputs": []
    },
    {
      "cell_type": "markdown",
      "metadata": {},
      "source": [
        "## Pandas plotting\n",
        "\n",
        "Some simple plots are available directly from pandas."
      ]
    },
    {
      "cell_type": "code",
      "metadata": {},
      "source": [
        "penguins[penguins['Species'].str.startswith(\"Adel\")].groupby(['Sex'])['Body Mass (g)'].hist(bins=30,legend=True)"
      ],
      "execution_count": null,
      "outputs": []
    },
    {
      "cell_type": "markdown",
      "metadata": {},
      "source": [
        "## Excel files\n",
        "\n",
        "We can read an excel file.  This particular one is complicated for various reasons, including the fact that the column heads are in the third row, not at the top. Also there are a bunch of footnotes starting in row 510 that we don't want. So we don't read them in. "
      ]
    },
    {
      "cell_type": "code",
      "metadata": {},
      "source": [
        "crime2019 = pd.read_excel(\"data/Violent Crime-by state-2019-table-5.xls\",header=3,nrows=510)\n",
        "crime2019"
      ],
      "execution_count": null,
      "outputs": []
    },
    {
      "cell_type": "markdown",
      "metadata": {},
      "source": [
        "The column names have newlines in them and we'd like to get rid of those. "
      ]
    },
    {
      "cell_type": "code",
      "metadata": {},
      "source": [
        "crime2019.columns = [x.replace(\" \\n\",\"_\") for x in crime2019.columns]\n",
        "crime2019"
      ],
      "execution_count": null,
      "outputs": []
    },
    {
      "cell_type": "markdown",
      "metadata": {},
      "source": [
        "Let's look at the states. "
      ]
    },
    {
      "cell_type": "code",
      "metadata": {},
      "source": [
        "states = crime2019[\"State\"].dropna().values\n",
        "states"
      ],
      "execution_count": null,
      "outputs": []
    },
    {
      "cell_type": "markdown",
      "metadata": {},
      "source": [
        "Some have footnotes at the end.  We don't want them."
      ]
    },
    {
      "cell_type": "code",
      "metadata": {},
      "source": [
        "states = [re.sub(\"[0-9$]\",\"\",x) for x in states]\n",
        "states"
      ],
      "execution_count": null,
      "outputs": []
    },
    {
      "cell_type": "markdown",
      "metadata": {},
      "source": [
        "]\n",
        "We don't want to include DC or Puerto Rico."
      ]
    },
    {
      "cell_type": "code",
      "metadata": {},
      "source": [
        "states = [x for x in states if x!='DISTRICT OF COLUMBIA' and x!='PUERTO RICO']\n",
        "states"
      ],
      "execution_count": null,
      "outputs": []
    },
    {
      "cell_type": "markdown",
      "metadata": {},
      "source": [
        "Finally, we want to pull out the violent crime numbers for\n",
        "the total area of the state. Notice\n",
        "that Puerto Rico and DC use \"Total\", not\n",
        "\"State Total\", for Area and so they will\n",
        "be excluded."
      ]
    },
    {
      "cell_type": "code",
      "metadata": {},
      "source": [
        "vcrime2019 = crime2019[crime2019['Area'] == 'State Total']['Violent_crime1'].values\n",
        "vcrime2019"
      ],
      "execution_count": null,
      "outputs": []
    }
  ],
  "metadata": {
    "kernelspec": {
      "name": "python3",
      "language": "python",
      "display_name": "Python 3 (ipykernel)"
    }
  },
  "nbformat": 4,
  "nbformat_minor": 4
}