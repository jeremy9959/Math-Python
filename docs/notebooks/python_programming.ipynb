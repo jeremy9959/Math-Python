{
  "cells": [
    {
      "cell_type": "raw",
      "metadata": {},
      "source": [
        "---\n",
        "title: Basics of Programming in Python\n",
        "subtitle: Fundamentals of Data Science\n",
        "author: Jeremy Teitelbaum\n",
        "format: html\n",
        "title-block-style: plain\n",
        "---"
      ]
    },
    {
      "cell_type": "markdown",
      "metadata": {},
      "source": [
        "## Basics of programming in python\n",
        "\n",
        "Key ingredients of programming language:\n",
        "\n",
        "- data types and data structures\n",
        "- functions\n",
        "- control flow (iteration and logical branches)\n",
        "\n",
        "## Key data types in python\n",
        "\n",
        "- numbers (integers and floating point)\n",
        "- strings\n",
        "- lists\n",
        "- numpy arrays (*)\n",
        "- dictionaries\n",
        "- pandas dataframes (*)\n",
        "\n",
        "## Basic examples\n",
        "\n",
        "From before, remember:"
      ]
    },
    {
      "cell_type": "code",
      "metadata": {},
      "source": [
        "n = 56  # integer\n",
        "m = 1234.48  # floating point\n",
        "L = [1, 2, 3, 4]  # list\n",
        "name = \"Jeremy\"  # string"
      ],
      "execution_count": null,
      "outputs": []
    },
    {
      "cell_type": "markdown",
      "metadata": {},
      "source": [
        "The `typeof` operator tells you what something is."
      ]
    },
    {
      "cell_type": "code",
      "metadata": {},
      "source": [
        "print(\"type of n is {}, type of name is {}\".format(type(n), type(name)))"
      ],
      "execution_count": null,
      "outputs": []
    },
    {
      "cell_type": "markdown",
      "metadata": {},
      "source": [
        "## Working with Lists and Strings\n",
        "\n",
        "Split a string to a list."
      ]
    },
    {
      "cell_type": "code",
      "metadata": {},
      "source": [
        "L = list(\"My name is Jeremy\")\n",
        "print(L)"
      ],
      "execution_count": null,
      "outputs": []
    },
    {
      "cell_type": "markdown",
      "metadata": {},
      "source": [
        "Join a list to a string."
      ]
    },
    {
      "cell_type": "code",
      "metadata": {},
      "source": [
        "print(''.join([\"A\",\"B\",\"C\"]))\n",
        "print('_'.join([\"A\",\"B\",\"C\"]))"
      ],
      "execution_count": null,
      "outputs": []
    },
    {
      "cell_type": "markdown",
      "metadata": {},
      "source": [
        "## Dictionaries\n",
        "\n",
        "A dictionary (or a HashMap, or an associative array) is like an array with arbitrary subscripts."
      ]
    },
    {
      "cell_type": "code",
      "metadata": {},
      "source": [
        "D = {\"first_name\": \"Jeremy\", \"last_name\": \"Teitelbaum\"}\n",
        "D[\"middle_name\"] = \"Thau\"\n",
        "print(D[\"first_name\"])\n",
        "D[\"Title\"] = \"Emperor\"\n",
        "print(D)\n",
        "# D[\"Subtitle\"]"
      ],
      "execution_count": null,
      "outputs": []
    },
    {
      "cell_type": "markdown",
      "metadata": {},
      "source": [
        "## Arrays"
      ]
    },
    {
      "cell_type": "code",
      "metadata": {},
      "source": [
        "import numpy as np\n",
        "\n",
        "x=np.array([1,2,3,4])\n",
        "x=np.linspace(-5,5,10)"
      ],
      "execution_count": null,
      "outputs": []
    },
    {
      "cell_type": "markdown",
      "metadata": {},
      "source": [
        "## Booleans"
      ]
    },
    {
      "cell_type": "code",
      "metadata": {},
      "source": [
        "T = True\n",
        "F = False\n",
        "print(T or F) # or\n",
        "print(T and F) # and \n",
        "3 == 5 # equality\n",
        "3 > 5 # \n",
        "3 < 5 #\n",
        "x = (3 <= 5) #\n",
        "print(x)\n",
        "y = (3 != 5) #\n",
        "print(y)"
      ],
      "execution_count": null,
      "outputs": []
    },
    {
      "cell_type": "markdown",
      "metadata": {},
      "source": [
        "## Functions"
      ]
    },
    {
      "cell_type": "code",
      "metadata": {},
      "source": [
        "import scipy.stats as sps\n",
        "\n",
        "def my_function(n,mu,s):\n",
        "    x = sps.norm.rvs(mu,s,size=n)\n",
        "    return x"
      ],
      "execution_count": null,
      "outputs": []
    },
    {
      "cell_type": "markdown",
      "metadata": {},
      "source": [
        "Important concepts:\n",
        "- arguments\n",
        "- scope\n",
        "- return values\n",
        "\n",
        "## Scope\n",
        "\n",
        "Basic rule of scope:  Variables created inside functions are completely separate from those outside\n",
        "the function, changing them has no effect.\n",
        "\n",
        "Exception: some operations (such as list append) modify an element in place and in these cases\n",
        "you may end up modifying something. "
      ]
    },
    {
      "cell_type": "code",
      "metadata": {},
      "source": [
        "def f(a,b):\n",
        "    x=a+b\n",
        "    return x\n",
        "\n",
        "\n",
        "x=3\n",
        "print(\"before executing f, x={}\".format(x))\n",
        "print(f(2,5))\n",
        "print(\"after executing f, x={}\".format(x))"
      ],
      "execution_count": null,
      "outputs": []
    },
    {
      "cell_type": "code",
      "metadata": {},
      "source": [
        "def f(x):\n",
        "    x=x+[\"d\"]\n",
        "    return x\n",
        "\n",
        "L=[\"a\",\"b\",\"c\"]\n",
        "print(\"L before is {}\".format(L))\n",
        "print(\"result of f(L) is {}\".format(f(L)))\n",
        "print(\"L after is {}\".format(L))"
      ],
      "execution_count": null,
      "outputs": []
    },
    {
      "cell_type": "code",
      "metadata": {},
      "source": [
        "def f(x):\n",
        "    x.append(\"d\") #\n",
        "    return x\n",
        "\n",
        "# Warning\n",
        "x = [\"a\",\"b\",\"c\"]\n",
        "print(f(x))\n",
        "print(x)"
      ],
      "execution_count": null,
      "outputs": []
    },
    {
      "cell_type": "code",
      "metadata": {},
      "source": [
        "x = 55\n",
        "\n",
        "def f(n):\n",
        "    n = n+x\n",
        "    return n\n",
        "\n",
        "f(24)"
      ],
      "execution_count": null,
      "outputs": []
    },
    {
      "cell_type": "markdown",
      "metadata": {},
      "source": [
        "## Iteration"
      ]
    },
    {
      "cell_type": "code",
      "metadata": {},
      "source": [
        "for x in range(10):\n",
        "    print(x,end=',')\n",
        "print('\\n---')\n",
        "\n",
        "for x in [\"a\",\"b\",\"c\"]:\n",
        "    print(x,end=',')\n",
        "\n",
        "# Also available: while"
      ],
      "execution_count": null,
      "outputs": []
    },
    {
      "cell_type": "markdown",
      "metadata": {},
      "source": [
        "## Logic"
      ]
    },
    {
      "cell_type": "code",
      "metadata": {},
      "source": [
        "if 3<5:\n",
        "    print(\"ha\")\n",
        "else:\n",
        "    print(\"ba\")"
      ],
      "execution_count": null,
      "outputs": []
    },
    {
      "cell_type": "code",
      "metadata": {},
      "source": [
        "if 3+5==8 and 3-5==-2:\n",
        "    print(\"Yeah!\")\n",
        "else:\n",
        "    print(\"Nah!\")"
      ],
      "execution_count": null,
      "outputs": []
    },
    {
      "cell_type": "code",
      "metadata": {},
      "source": [
        "if 3+5 in [1,2,3,4,5,6,7]:\n",
        "    print(\"Yeah\")\n",
        "else:\n",
        "    print(\"nah!\")"
      ],
      "execution_count": null,
      "outputs": []
    },
    {
      "cell_type": "markdown",
      "metadata": {},
      "source": [
        "## List Comprehensions\n",
        "\n",
        "This is one of the most useful things about python."
      ]
    },
    {
      "cell_type": "code",
      "metadata": {},
      "source": [
        "L = [\"hello\",\"Hello\",\"HELLO\",\"jeremy\",\"jereMy\"]\n",
        "N = [f(x) for x in L]\n",
        "M = [f(x) for x in L if x[0]==\"H\"]\n",
        "print(N,M)"
      ],
      "execution_count": null,
      "outputs": []
    },
    {
      "cell_type": "markdown",
      "metadata": {},
      "source": [
        "Another example."
      ]
    },
    {
      "cell_type": "code",
      "metadata": {},
      "source": [
        "s=\"Jeremy Teitelbaum\"\n",
        "L=[x for x in list(s) if x not in [\" \"]]\n",
        "print(L)"
      ],
      "execution_count": null,
      "outputs": []
    },
    {
      "cell_type": "markdown",
      "metadata": {},
      "source": [
        "Compare:"
      ]
    },
    {
      "cell_type": "code",
      "metadata": {},
      "source": [
        "S=\"\"\n",
        "for x in \"Jeremy Teitelbaum\":\n",
        "    if x not in [\" \"]:\n",
        "        S+=x"
      ],
      "execution_count": null,
      "outputs": []
    },
    {
      "cell_type": "markdown",
      "metadata": {},
      "source": [
        "## A few other tricks\n",
        "\n",
        "- default arguments\n",
        "- docstrings\n"
      ]
    },
    {
      "cell_type": "code",
      "metadata": {},
      "source": [
        "def f(x=0,y=1):\n",
        "    return x+y\n",
        "\n",
        "print(f())\n",
        "print(f(1))\n",
        "print(f(3,4))"
      ],
      "execution_count": null,
      "outputs": []
    },
    {
      "cell_type": "code",
      "metadata": {},
      "source": [
        "def first_letter_cap(s):\n",
        "    \"Returns s but first letter of string is upper case\"\n",
        "    return s[0].upper()+s[1:]"
      ],
      "execution_count": null,
      "outputs": []
    },
    {
      "cell_type": "markdown",
      "metadata": {},
      "source": [
        "## Some examples\n",
        "\n",
        "Take a string and make its first character upper case and the rest lower. "
      ]
    },
    {
      "cell_type": "code",
      "metadata": {},
      "source": [
        "def f(s):\n",
        "    l = s[0].upper()+s[1:].lower()\n",
        "    return l\n",
        "\n",
        "print(f(\"hello\"),f(\"Hello\"),f(\"HELLO\"))"
      ],
      "execution_count": null,
      "outputs": []
    },
    {
      "cell_type": "markdown",
      "metadata": {},
      "source": [
        "Now do this for each element of a list. "
      ]
    },
    {
      "cell_type": "code",
      "metadata": {},
      "source": [
        "def h(L):\n",
        "    N=[]\n",
        "    for x in L:\n",
        "        N = N + [f(x)]\n",
        "    return N\n",
        "\n",
        "h([\"hello\",\"HELLO\",\"jeremy\",\"JEREMY\",\"jerEmy\"])"
      ],
      "execution_count": null,
      "outputs": []
    },
    {
      "cell_type": "markdown",
      "metadata": {},
      "source": [
        "## Problems\n",
        "\n",
        "1.  Write a function which takes a string and standardizes it by:\n",
        "    - removes all characters which are not letters, numbers, or spaces\n",
        "    - makes all the letters lower case\n",
        "    - replacing all spaces by underscore '_'\n",
        "\n",
        "Hint: convert the string to a vector of letters.\n",
        "\n",
        "2. The `penguins_raw.csv` file can get loaded into a pandas dataframe,\n",
        "which is a fancy type of tabular layout. \n",
        "It has named columns that you can extract with `.columns`"
      ]
    },
    {
      "cell_type": "code",
      "metadata": {},
      "source": [
        "import pandas as pd\n",
        "penguins_raw = pd.read_csv(\"data/penguins-raw.csv\")\n",
        "penguins_raw.columns"
      ],
      "execution_count": null,
      "outputs": []
    },
    {
      "cell_type": "markdown",
      "metadata": {},
      "source": [
        "You can assign to `penguins_raw.columns` to change the column names.  Use your function from part 1 to standardize and simplify the column names. \n",
        "\n",
        "\n",
        "3.  You can access a column of the dataframe using `.`, so for example `penguins_raw.Species`\n",
        "should give you the column species.  Replace this column with just the first word of the species name (Gentoo, Adelie, Chinstrap).  To do this, you have to use the `map` method.\n",
        "If `f` is a function that picks out the first word of a string, then `penguins_raw.species.map(f)` returns the result of applying `f` to every element of `penguins_raw.species`. \n",
        "\n",
        "4.  Let $n$ be a positive real number and let $x_0$ be 1.  The iteration\n",
        "$$\n",
        "x_{k+1} = x_{k}/2+n/(2x_k)\n",
        "$$\n",
        "\n",
        "converges to the square root of $n$.  (This is Newton's Method).  Write an R\n",
        "function which computes the square root using this iteration.  You should continue to iterate\n",
        "until $x_{k+1}$ is within $10^{-6}$ of $x_{k}$. "
      ]
    },
    {
      "cell_type": "code",
      "metadata": {},
      "source": [
        "# def f(n):\n",
        "# \n",
        "# ..."
      ],
      "execution_count": null,
      "outputs": []
    },
    {
      "cell_type": "markdown",
      "metadata": {},
      "source": [
        "Suppose you want to save the successive values you computed during the iteration for plotting purposes.  How could you do that (and return them)?\n",
        "\n",
        "Suppose you want the tolerance (here $10^{6}$) to be a parameter?\n",
        "\n",
        "Suppose you want to set a maximum number of iterations, in case something goes wrong, to prevent an infinite loop?"
      ]
    }
  ],
  "metadata": {
    "kernelspec": {
      "name": "base",
      "language": "python",
      "display_name": "python3"
    }
  },
  "nbformat": 4,
  "nbformat_minor": 4
}