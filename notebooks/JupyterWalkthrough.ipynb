{
 "cells": [
  {
   "attachments": {},
   "cell_type": "markdown",
   "id": "8320583b-2758-4d51-9e21-64a1f97875b8",
   "metadata": {
    "tags": []
   },
   "source": [
    "# Jupyter Lab Project Walkthrough\n",
    "\n",
    "1. Use the 'text editor' feature in Jupyter Lab to create your README.md file.\n",
    "2. **RENAME YOUR NOTEBOOK FILE IMMEDIATELY** to something relevant\n",
    "3. CTRL-ENTER executes a cell."
   ]
  },
  {
   "attachments": {},
   "cell_type": "markdown",
   "id": "6da757be-a0f1-4522-896d-c3c2a6cc5a70",
   "metadata": {},
   "source": [
    "## Markdown cells\n",
    "\n",
    "This is a markdown cell:\n",
    "\n",
    "- Headings are \\#, \\#\\#, etc.\n",
    "- Bold is marked \\*\\*make me bold\\*\\* like **this**.\n",
    "- Italics are marked \\*make me italic\\* like *this*.\n",
    "- Math can be typeset with \\LaTeX if you know it:  $$f(x)=e^{-x}\\cos(x)$$\n",
    "- Bulleted lists are marked with \\-.\n"
   ]
  },
  {
   "cell_type": "code",
   "execution_count": 3,
   "id": "59c60380-3ce9-492c-87a6-990ec147e55c",
   "metadata": {
    "tags": []
   },
   "outputs": [
    {
     "name": "stdout",
     "output_type": "stream",
     "text": [
      "Hello World!\n"
     ]
    }
   ],
   "source": [
    "# code cells\n",
    "## Code cells contain python code that gets executed.  \n",
    "# indicates a comment that is ignored.\n",
    "print(\"Hello World!\")"
   ]
  },
  {
   "attachments": {},
   "cell_type": "markdown",
   "id": "d1502c2b-9fb1-41b4-b4a7-3eb4d6079b49",
   "metadata": {},
   "source": [
    "In this walkthrough we will look at the following elements of Python in a jupyter notebook.\n",
    "\n",
    "The print statement\n"
   ]
  },
  {
   "cell_type": "code",
   "execution_count": 1,
   "id": "2c0117ee",
   "metadata": {},
   "outputs": [
    {
     "name": "stdout",
     "output_type": "stream",
     "text": [
      "hello world!\n"
     ]
    }
   ],
   "source": [
    "print(\"hello world!\")\n"
   ]
  },
  {
   "attachments": {},
   "cell_type": "markdown",
   "id": "98b7b918",
   "metadata": {},
   "source": [
    "\n",
    "Variables, variable names, and assignment/datatypes"
   ]
  },
  {
   "cell_type": "code",
   "execution_count": 2,
   "id": "196cd4f7",
   "metadata": {},
   "outputs": [],
   "source": [
    "count = 5 # an integer\n",
    "name = \"Jeremy Teitelbaum\" # a string\n",
    "paragraph = \"\"\"This is how you enter a multiline string\n",
    "in python. It is enclosed in triple quotes.\"\"\"\n",
    "pi = 3.14159 # a float\n",
    "epsilon = 1.0e-6 # a float\n",
    "students = [\"Jeremy\", \"Phillip\", \"Sara\", \"Molly\"] # a list\n",
    "HotDog = True\n",
    "\n"
   ]
  },
  {
   "cell_type": "code",
   "execution_count": 3,
   "id": "53cdd451",
   "metadata": {},
   "outputs": [
    {
     "name": "stdout",
     "output_type": "stream",
     "text": [
      "['Jeremy', 'Phillip', 'Sara', 'Molly']\n"
     ]
    }
   ],
   "source": [
    "print(students)"
   ]
  },
  {
   "attachments": {},
   "cell_type": "markdown",
   "id": "759f5a11",
   "metadata": {},
   "source": [
    "Compare `print` for multiline strings with the string value. (\\\\n means newline)\n",
    "\n"
   ]
  },
  {
   "cell_type": "code",
   "execution_count": 4,
   "id": "65fc3ab0",
   "metadata": {},
   "outputs": [
    {
     "name": "stdout",
     "output_type": "stream",
     "text": [
      "This is how you enter a multiline string\n",
      "in python. It is enclosed in triple quotes.\n"
     ]
    }
   ],
   "source": [
    "print(paragraph)"
   ]
  },
  {
   "cell_type": "code",
   "execution_count": 5,
   "id": "d3ec04f8",
   "metadata": {},
   "outputs": [
    {
     "data": {
      "text/plain": [
       "'This is how you enter a multiline string\\nin python. It is enclosed in triple quotes.'"
      ]
     },
     "execution_count": 5,
     "metadata": {},
     "output_type": "execute_result"
    }
   ],
   "source": [
    "paragraph"
   ]
  },
  {
   "attachments": {},
   "cell_type": "markdown",
   "id": "e2ef7f8f",
   "metadata": {},
   "source": [
    "Arithmetic operations\n"
   ]
  },
  {
   "cell_type": "code",
   "execution_count": 5,
   "id": "69138795",
   "metadata": {},
   "outputs": [
    {
     "name": "stdout",
     "output_type": "stream",
     "text": [
      "5\n",
      "6\n"
     ]
    }
   ],
   "source": [
    "print(count)\n",
    "count = count + 1\n",
    "print(count)"
   ]
  },
  {
   "cell_type": "code",
   "execution_count": 7,
   "id": "99344366",
   "metadata": {},
   "outputs": [
    {
     "data": {
      "text/plain": [
       "0.31831015504887655"
      ]
     },
     "execution_count": 7,
     "metadata": {},
     "output_type": "execute_result"
    }
   ],
   "source": [
    "1/pi"
   ]
  },
  {
   "cell_type": "code",
   "execution_count": 12,
   "id": "42bf461d",
   "metadata": {},
   "outputs": [
    {
     "name": "stdout",
     "output_type": "stream",
     "text": [
      "8\n",
      "0.5\n",
      "2.0\n"
     ]
    }
   ],
   "source": [
    "print(2**3) # exponent\n",
    "print(1/2) # division (converts integer to float)\n",
    "print(1/(1/2)) # 2 becomes 2.0"
   ]
  },
  {
   "cell_type": "code",
   "execution_count": 15,
   "id": "b5c722e6",
   "metadata": {},
   "outputs": [
    {
     "name": "stdout",
     "output_type": "stream",
     "text": [
      "1 2\n"
     ]
    }
   ],
   "source": [
    "quotient = 5//3 # integer division\n",
    "remainder = 5 % 3 # remainder\n",
    "print(quotient, remainder)"
   ]
  },
  {
   "attachments": {},
   "cell_type": "markdown",
   "id": "4292fdb1",
   "metadata": {},
   "source": [
    "\n",
    "Operations on strings and lists\n"
   ]
  },
  {
   "cell_type": "code",
   "execution_count": 17,
   "id": "e50e89fd",
   "metadata": {},
   "outputs": [
    {
     "data": {
      "text/plain": [
       "'Jeremy Teitelbaum'"
      ]
     },
     "execution_count": 17,
     "metadata": {},
     "output_type": "execute_result"
    }
   ],
   "source": [
    "\"Jeremy\" + \" Teitelbaum\""
   ]
  },
  {
   "cell_type": "code",
   "execution_count": 18,
   "id": "7ba1ee37",
   "metadata": {},
   "outputs": [
    {
     "data": {
      "text/plain": [
       "['a', 'b', 'c', 'd']"
      ]
     },
     "execution_count": 18,
     "metadata": {},
     "output_type": "execute_result"
    }
   ],
   "source": [
    "[\"a\",\"b\",\"c\"]+[\"d\"]"
   ]
  },
  {
   "cell_type": "code",
   "execution_count": 19,
   "id": "d444baa1",
   "metadata": {},
   "outputs": [
    {
     "data": {
      "text/plain": [
       "6"
      ]
     },
     "execution_count": 19,
     "metadata": {},
     "output_type": "execute_result"
    }
   ],
   "source": [
    "len(\"Jeremy\")"
   ]
  },
  {
   "cell_type": "code",
   "execution_count": 20,
   "id": "e8c5bf8c",
   "metadata": {},
   "outputs": [
    {
     "data": {
      "text/plain": [
       "2"
      ]
     },
     "execution_count": 20,
     "metadata": {},
     "output_type": "execute_result"
    }
   ],
   "source": [
    "len([\"Jeremy\",\"Teitelbaum\"])"
   ]
  },
  {
   "cell_type": "code",
   "execution_count": 26,
   "id": "be6f88a3",
   "metadata": {},
   "outputs": [
    {
     "name": "stdout",
     "output_type": "stream",
     "text": [
      "Jeremy\n",
      "Teitelbaum\n",
      "Jeremy Teitelbaum\n"
     ]
    }
   ],
   "source": [
    "firstName = \"Jeremy\"\n",
    "lastName = \"Teitelbaum\"\n",
    "fullName = firstName + \" \" + lastName\n"
   ]
  },
  {
   "attachments": {},
   "cell_type": "markdown",
   "id": "dccf18b0",
   "metadata": {},
   "source": [
    "Some fancier printing"
   ]
  },
  {
   "cell_type": "code",
   "execution_count": 31,
   "id": "5ceda8b6",
   "metadata": {},
   "outputs": [
    {
     "name": "stdout",
     "output_type": "stream",
     "text": [
      "The first name is Jeremy\n",
      "The last name is Teitelbaum\n",
      "The full name is Jeremy Teitelbaum\n",
      "Jeremy,Teitelbaum\n",
      "Jeremy:Teitelbaum\n"
     ]
    }
   ],
   "source": [
    "print(f\"The first name is {firstName}\")\n",
    "print(f\"The last name is {lastName}\")\n",
    "print(f\"The full name is {firstName} {lastName}\")\n",
    "print(firstName, lastName, sep=',')\n",
    "print(firstName, lastName, sep=':')"
   ]
  },
  {
   "attachments": {},
   "cell_type": "markdown",
   "id": "62fe8ef6",
   "metadata": {},
   "source": [
    "Slicing\n",
    "\n",
    "In python, we **always count from zero**!!!"
   ]
  },
  {
   "cell_type": "code",
   "execution_count": 37,
   "id": "3b4c46d3",
   "metadata": {},
   "outputs": [
    {
     "data": {
      "text/plain": [
       "'J'"
      ]
     },
     "execution_count": 37,
     "metadata": {},
     "output_type": "execute_result"
    }
   ],
   "source": [
    "firstName[0]"
   ]
  },
  {
   "cell_type": "code",
   "execution_count": 38,
   "id": "4d32b3b9",
   "metadata": {},
   "outputs": [
    {
     "data": {
      "text/plain": [
       "'e'"
      ]
     },
     "execution_count": 38,
     "metadata": {},
     "output_type": "execute_result"
    }
   ],
   "source": [
    "lastName[1]"
   ]
  },
  {
   "cell_type": "code",
   "execution_count": 40,
   "id": "99517066",
   "metadata": {},
   "outputs": [
    {
     "name": "stdout",
     "output_type": "stream",
     "text": [
      "Jer\n",
      "emy\n",
      "em\n",
      "y\n"
     ]
    }
   ],
   "source": [
    "# [a:b] means from a to b-1 inclusive\n",
    "\n",
    "print(firstName[0:3])\n",
    "print(firstName[3:])\n",
    "print(firstName[3:5])\n"
   ]
  },
  {
   "cell_type": "code",
   "execution_count": 42,
   "id": "5af90be2",
   "metadata": {},
   "outputs": [
    {
     "name": "stdout",
     "output_type": "stream",
     "text": [
      "y\n",
      "em\n"
     ]
    }
   ],
   "source": [
    "# negative indices count from the end\n",
    "print(firstName[-1]) # the last element\n",
    "print(firstName[-3:-1]) # elements -3 and -2, but not -1"
   ]
  },
  {
   "cell_type": "code",
   "execution_count": 48,
   "id": "ef22886e",
   "metadata": {},
   "outputs": [
    {
     "name": "stdout",
     "output_type": "stream",
     "text": [
      "Jrm\n",
      "Jrm\n",
      "ymereJ\n",
      "ereJ\n",
      "ere\n"
     ]
    }
   ],
   "source": [
    "# [a:b:c] means from a to b-1 in steps of c\n",
    "# missing numbers mean (beginnging):(end)\n",
    "print(firstName[:5:2])\n",
    "print(firstName[::2])\n",
    "print(firstName[::-1]) # reverse the string\n",
    "print(firstName[3::-1]) # 3,2,1,0\n",
    "print(firstName[3:0:-1]) # 3,2,1"
   ]
  },
  {
   "attachments": {},
   "cell_type": "markdown",
   "id": "7382f588",
   "metadata": {},
   "source": [
    "Slices work the same on list elements"
   ]
  },
  {
   "cell_type": "code",
   "execution_count": 52,
   "id": "f169e59e",
   "metadata": {},
   "outputs": [
    {
     "name": "stdout",
     "output_type": "stream",
     "text": [
      "Jeremy\n",
      "Molly\n",
      "['Jeremy', 'Sara']\n",
      "['Jeremy', 'Sara']\n"
     ]
    }
   ],
   "source": [
    "print(students[0])\n",
    "print(students[-1])\n",
    "every_other_student = students[::2]\n",
    "print(every_other_student)\n"
   ]
  },
  {
   "attachments": {},
   "cell_type": "markdown",
   "id": "69bc065d",
   "metadata": {},
   "source": [
    "Libraries\n"
   ]
  },
  {
   "cell_type": "code",
   "execution_count": 53,
   "id": "3c4e38e5",
   "metadata": {},
   "outputs": [],
   "source": [
    "import math"
   ]
  },
  {
   "cell_type": "code",
   "execution_count": 54,
   "id": "7b333d3d-502e-4159-a52c-59a450f35f72",
   "metadata": {},
   "outputs": [
    {
     "data": {
      "text/plain": [
       "3.1354942159291497"
      ]
     },
     "execution_count": 54,
     "metadata": {},
     "output_type": "execute_result"
    }
   ],
   "source": [
    "math.log(23)"
   ]
  },
  {
   "cell_type": "code",
   "execution_count": 55,
   "id": "262e9336",
   "metadata": {},
   "outputs": [
    {
     "data": {
      "text/plain": [
       "3.141592653589793"
      ]
     },
     "execution_count": 55,
     "metadata": {},
     "output_type": "execute_result"
    }
   ],
   "source": [
    "math.pi"
   ]
  },
  {
   "cell_type": "code",
   "execution_count": 62,
   "id": "85f05634",
   "metadata": {},
   "outputs": [
    {
     "data": {
      "text/plain": [
       "6.123233995736766e-17"
      ]
     },
     "execution_count": 62,
     "metadata": {},
     "output_type": "execute_result"
    }
   ],
   "source": [
    "math.cos(math.pi/2) # should be zero"
   ]
  },
  {
   "cell_type": "code",
   "execution_count": 63,
   "id": "6b791e27",
   "metadata": {},
   "outputs": [
    {
     "data": {
      "text/plain": [
       "False"
      ]
     },
     "execution_count": 63,
     "metadata": {},
     "output_type": "execute_result"
    }
   ],
   "source": [
    "math.cos(math.pi/2)==0"
   ]
  },
  {
   "cell_type": "code",
   "execution_count": 64,
   "id": "322d718b",
   "metadata": {},
   "outputs": [
    {
     "data": {
      "text/plain": [
       "True"
      ]
     },
     "execution_count": 64,
     "metadata": {},
     "output_type": "execute_result"
    }
   ],
   "source": [
    "abs(math.cos(math.pi/2))<1e-6"
   ]
  },
  {
   "cell_type": "code",
   "execution_count": 65,
   "id": "2bfcf2a2",
   "metadata": {},
   "outputs": [
    {
     "data": {
      "text/plain": [
       "False"
      ]
     },
     "execution_count": 65,
     "metadata": {},
     "output_type": "execute_result"
    }
   ],
   "source": [
    "math.pi == pi"
   ]
  },
  {
   "cell_type": "code",
   "execution_count": 66,
   "id": "087082d8",
   "metadata": {},
   "outputs": [],
   "source": [
    "import numpy as np"
   ]
  },
  {
   "cell_type": "code",
   "execution_count": 68,
   "id": "0f1cfaa1",
   "metadata": {},
   "outputs": [
    {
     "data": {
      "text/plain": [
       "3.141592653589793"
      ]
     },
     "execution_count": 68,
     "metadata": {},
     "output_type": "execute_result"
    }
   ],
   "source": [
    "np.pia"
   ]
  },
  {
   "cell_type": "code",
   "execution_count": 74,
   "id": "c82e04ac",
   "metadata": {},
   "outputs": [
    {
     "name": "stdout",
     "output_type": "stream",
     "text": [
      "4\n"
     ]
    }
   ],
   "source": [
    "print(np.random.randint(0,10))"
   ]
  },
  {
   "cell_type": "code",
   "execution_count": 69,
   "id": "b30e9d9e",
   "metadata": {},
   "outputs": [
    {
     "name": "stdout",
     "output_type": "stream",
     "text": [
      "1.24.2\n"
     ]
    }
   ],
   "source": [
    "print(np.__version__)"
   ]
  },
  {
   "cell_type": "code",
   "execution_count": 72,
   "id": "567791e7",
   "metadata": {},
   "outputs": [],
   "source": [
    "from numpy.random import randint"
   ]
  },
  {
   "cell_type": "code",
   "execution_count": 73,
   "id": "441b505a",
   "metadata": {},
   "outputs": [
    {
     "data": {
      "text/plain": [
       "7"
      ]
     },
     "execution_count": 73,
     "metadata": {},
     "output_type": "execute_result"
    }
   ],
   "source": [
    "randint(1,10)"
   ]
  },
  {
   "attachments": {},
   "cell_type": "markdown",
   "id": "1fbe0046",
   "metadata": {},
   "source": [
    "## Numpy arrays\n",
    "\n",
    "A numpy array is like a list, but:\n",
    "\n",
    "    - it's itended for use with numbers\n",
    "    - it's designed for fast arithmetic and numerical operations\n",
    "    - it can be multi-dimensional -- like a table or matrix -- although we won't use that here."
   ]
  },
  {
   "attachments": {},
   "cell_type": "markdown",
   "id": "d5f9ecd2",
   "metadata": {},
   "source": []
  },
  {
   "cell_type": "code",
   "execution_count": 2,
   "id": "dfa38fff",
   "metadata": {},
   "outputs": [
    {
     "name": "stdout",
     "output_type": "stream",
     "text": [
      "[1 2 3 4 5 6]\n"
     ]
    }
   ],
   "source": [
    "x=np.array([1,2,3,4,5,6])\n",
    "print(x)"
   ]
  },
  {
   "attachments": {},
   "cell_type": "markdown",
   "id": "572549de",
   "metadata": {},
   "source": [
    "You access arrays like lists, and can use slices; indices start at zero."
   ]
  },
  {
   "cell_type": "code",
   "execution_count": 3,
   "id": "5092ac70",
   "metadata": {},
   "outputs": [
    {
     "data": {
      "text/plain": [
       "array([3, 4])"
      ]
     },
     "execution_count": 3,
     "metadata": {},
     "output_type": "execute_result"
    }
   ],
   "source": [
    "x[2:4]"
   ]
  },
  {
   "attachments": {},
   "cell_type": "markdown",
   "id": "79710997",
   "metadata": {},
   "source": [
    "When you apply an operation to an array, it gets applied to every element of the array."
   ]
  },
  {
   "cell_type": "code",
   "execution_count": 9,
   "id": "c72ba217",
   "metadata": {},
   "outputs": [
    {
     "name": "stdout",
     "output_type": "stream",
     "text": [
      "Square of x is [ 1  4  9 16 25 36]\n",
      "1/x is [1.         0.5        0.33333333 0.25       0.2        0.16666667]\n",
      "cos(x) is [ 0.54030231 -0.41614684 -0.9899925  -0.65364362  0.28366219  0.96017029]\n"
     ]
    }
   ],
   "source": [
    "print(f\"Square of x is {x**2}\")\n",
    "print(f\"1/x is {1/x}\")\n",
    "print(f\"cos(x) is {np.cos(x)}\")"
   ]
  },
  {
   "attachments": {},
   "cell_type": "markdown",
   "id": "4117544d",
   "metadata": {},
   "source": [
    "Some special arrays."
   ]
  },
  {
   "cell_type": "code",
   "execution_count": 31,
   "id": "1330fced",
   "metadata": {},
   "outputs": [],
   "source": [
    "x=np.zeros(10) # 10 zeros\n",
    "y=np.ones(20) # 20 ones\n",
    "z=np.linspace(0,10,100) # 100 equally spaced numbers from 0 to 10 **inclusive**\n",
    "w = np.array(list(range(-10,10,2)))"
   ]
  },
  {
   "cell_type": "code",
   "execution_count": 32,
   "id": "858b06f0",
   "metadata": {},
   "outputs": [
    {
     "name": "stdout",
     "output_type": "stream",
     "text": [
      "[-10  -8  -6  -4  -2   0   2   4   6   8]\n"
     ]
    }
   ],
   "source": [
    "print(w)"
   ]
  },
  {
   "cell_type": "code",
   "execution_count": 4,
   "id": "8bb53b69",
   "metadata": {},
   "outputs": [
    {
     "name": "stdout",
     "output_type": "stream",
     "text": [
      "[ 0.          0.1010101   0.2020202   0.3030303   0.4040404   0.50505051\n",
      "  0.60606061  0.70707071  0.80808081  0.90909091  1.01010101  1.11111111\n",
      "  1.21212121  1.31313131  1.41414141  1.51515152  1.61616162  1.71717172\n",
      "  1.81818182  1.91919192  2.02020202  2.12121212  2.22222222  2.32323232\n",
      "  2.42424242  2.52525253  2.62626263  2.72727273  2.82828283  2.92929293\n",
      "  3.03030303  3.13131313  3.23232323  3.33333333  3.43434343  3.53535354\n",
      "  3.63636364  3.73737374  3.83838384  3.93939394  4.04040404  4.14141414\n",
      "  4.24242424  4.34343434  4.44444444  4.54545455  4.64646465  4.74747475\n",
      "  4.84848485  4.94949495  5.05050505  5.15151515  5.25252525  5.35353535\n",
      "  5.45454545  5.55555556  5.65656566  5.75757576  5.85858586  5.95959596\n",
      "  6.06060606  6.16161616  6.26262626  6.36363636  6.46464646  6.56565657\n",
      "  6.66666667  6.76767677  6.86868687  6.96969697  7.07070707  7.17171717\n",
      "  7.27272727  7.37373737  7.47474747  7.57575758  7.67676768  7.77777778\n",
      "  7.87878788  7.97979798  8.08080808  8.18181818  8.28282828  8.38383838\n",
      "  8.48484848  8.58585859  8.68686869  8.78787879  8.88888889  8.98989899\n",
      "  9.09090909  9.19191919  9.29292929  9.39393939  9.49494949  9.5959596\n",
      "  9.6969697   9.7979798   9.8989899  10.        ]\n"
     ]
    }
   ],
   "source": [
    "print(z)"
   ]
  },
  {
   "cell_type": "code",
   "execution_count": 5,
   "id": "41432ca5",
   "metadata": {},
   "outputs": [],
   "source": [
    "## Plotting with matplotlib"
   ]
  },
  {
   "cell_type": "code",
   "execution_count": 6,
   "id": "49697380",
   "metadata": {},
   "outputs": [],
   "source": [
    "import matplotlib.pyplot as plt"
   ]
  },
  {
   "cell_type": "code",
   "execution_count": 8,
   "id": "e3647f7f",
   "metadata": {},
   "outputs": [
    {
     "data": {
      "text/plain": [
       "[<matplotlib.lines.Line2D at 0x7f1f4721acd0>]"
      ]
     },
     "execution_count": 8,
     "metadata": {},
     "output_type": "execute_result"
    },
    {
     "data": {
      "image/png": "[encoded data removed]",
      "text/plain": [
       "<Figure size 640x480 with 1 Axes>"
      ]
     },
     "metadata": {},
     "output_type": "display_data"
    }
   ],
   "source": [
    "plt.plot(z,z**2)"
   ]
  },
  {
   "cell_type": "code",
   "execution_count": 34,
   "id": "1beff4ea",
   "metadata": {},
   "outputs": [
    {
     "data": {
      "text/plain": [
       "Text(0, 0.5, 'y')"
      ]
     },
     "execution_count": 34,
     "metadata": {},
     "output_type": "execute_result"
    },
    {
     "data": {
      "image/png": "[encoded data removed]",
      "text/plain": [
       "<Figure size 640x480 with 1 Axes>"
      ]
     },
     "metadata": {},
     "output_type": "display_data"
    }
   ],
   "source": [
    "z=np.linspace(-10,10,100)\n",
    "plt.axes()\n",
    "plt.plot(z,np.cos(z),color='red')\n",
    "plt.title(\"A cosine curve\")\n",
    "plt.grid()\n",
    "plt.xlim(-10,10)\n",
    "plt.ylim(-10,10)\n",
    "plt.xticks(list(range(-10,11)))\n",
    "plt.xlabel(\"x\")\n",
    "plt.ylabel(\"y\")\n"
   ]
  },
  {
   "cell_type": "code",
   "execution_count": null,
   "id": "31247fa3",
   "metadata": {},
   "outputs": [],
   "source": []
  }
 ],
 "metadata": {
  "kernelspec": {
   "display_name": "Python 3 (ipykernel)",
   "language": "python",
   "name": "python3"
  },
  "language_info": {
   "codemirror_mode": {
    "name": "ipython",
    "version": 3
   },
   "file_extension": ".py",
   "mimetype": "text/x-python",
   "name": "python",
   "nbconvert_exporter": "python",
   "pygments_lexer": "ipython3",
   "version": "3.9.16"
  }
 },
 "nbformat": 4,
 "nbformat_minor": 5
}
