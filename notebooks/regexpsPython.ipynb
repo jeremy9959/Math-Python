{
  "cells": [
    {
      "cell_type": "raw",
      "metadata": {},
      "source": [
        "---\n",
        "title: Python regexps\n",
        "author: Jeremy Teitelbaum\n",
        "subtitle: Fundamentals of Data Science\n",
        "format: html\n",
        "---"
      ]
    },
    {
      "cell_type": "code",
      "metadata": {},
      "source": [
        "# Regular Expressions\n",
        "import re\n",
        "import pandas as pd"
      ],
      "execution_count": null,
      "outputs": []
    },
    {
      "cell_type": "code",
      "metadata": {},
      "source": [
        "text = \"\"\"\n",
        "Long ago, I travelled to the far west, seeking my fortune. I found\n",
        "frosty mountains, arid deserts, lush oases, and a huge ocean.\n",
        "At times, I was gripped by despair, and at other times filled with Joy.\n",
        "\n",
        "- Anonymous, 1865\n",
        "\"\"\""
      ],
      "execution_count": null,
      "outputs": []
    },
    {
      "cell_type": "code",
      "metadata": {},
      "source": [
        "with open(\"data/filenames.txt\") as f:\n",
        "    filenames = f.readlines()\n",
        "print(filenames[0])"
      ],
      "execution_count": null,
      "outputs": []
    },
    {
      "cell_type": "markdown",
      "metadata": {},
      "source": [
        "## Guide (works in both python and R)\n",
        "\n",
        "- Letters, Numbers match themselves\n",
        "- '.' matches one of anything\n",
        "- '+' means one or more of the preceeding\n",
        "- '*' means 0 or more of the preceding\n",
        "- '?' matches 0 or 1 occurrences of the previous pattern.\n",
        "- [] groups things ([A-Z]+ matches a sequence of one or more capital letters); [^...] matches anything *not* in the range. \n",
        "-  '\\\\w' matches \"word\" characters (`[a-zA-Z0-9_]')\n",
        "- '\\\\W' matches non-word characters\n",
        "- '\\\\b' matches boundaries (end or start of string)\n",
        "- '{5}'' matches 5 times\n",
        "- '{3,5}' matches 3, 4 or 5 occurrences. \n",
        "- '{3,}' matches 3 or more occurrences\n",
        "- '\\\\s' matches whitespace\n",
        "- '\\\\S' matches non-whitespace\n",
        "- '^....' matches at the start of a line\n",
        "- '...$' matches at the end of a line\n",
        "- '(a|b)' matches a or b.\n",
        "- Use backslash to escape. \n",
        "\n",
        "\n",
        "## Key functions\n",
        "\n",
        "- `match` finds matches *at the start of the string*; returns None if it doesn't find one, otherwise returns match object.\n",
        "- `search` finds matches; returns None if it doesn't find one, otherwise returns first match object\n",
        "- `findall` returns a list of all matches (not match objects)\n",
        "- `finditer` iterates over matches\n",
        "\n",
        "## Match objects\n",
        "\n",
        "- if `m` is a match object, then \n",
        "    1. `m[0]` is the match \n",
        "    2. `m[2]`, `m[3]` and so on are the subgroup matches\n",
        "    3. `m.span(n)` is (start, stop) for match n.\n",
        "    4. `m.start(n)` and `m.end(n)` are the start and end of match n.\n",
        "    5. `m.string` is the string being matched against\n",
        "\n",
        "## Looking for explicit strings"
      ]
    },
    {
      "cell_type": "code",
      "metadata": {},
      "source": [
        "if re.search(r\"travel\", text):\n",
        "    print(\"Yes\")\n",
        "else:\n",
        "    print(\"No\")\n",
        "\n",
        "if re.match(r\"travel\", text):\n",
        "    print(\"Yes\")\n",
        "else:\n",
        "    print(\"No\")"
      ],
      "execution_count": null,
      "outputs": []
    },
    {
      "cell_type": "markdown",
      "metadata": {},
      "source": [
        "## Some fancier examples\n"
      ]
    },
    {
      "cell_type": "code",
      "metadata": {},
      "source": [
        "# All the words\n",
        "all_words = re.findall(r\"\\b[a-zA-Z]+\\b\", text)\n",
        "all_words[0:5]"
      ],
      "execution_count": null,
      "outputs": []
    },
    {
      "cell_type": "code",
      "metadata": {},
      "source": [
        "# words (allowing numbers and underline) but lower case\n",
        "re.findall(r\"\\b\\w+\\b\", text.lower())[0:5]"
      ],
      "execution_count": null,
      "outputs": []
    },
    {
      "cell_type": "code",
      "metadata": {},
      "source": [
        "# numbers\n",
        "re.findall(r\"\\b\\d+\\b\", text)"
      ],
      "execution_count": null,
      "outputs": []
    },
    {
      "cell_type": "code",
      "metadata": {},
      "source": [
        "regular = re.search(r'[A-Z][a-z]+',text)\n",
        "short = re.search(r'[A-Z][a-z]?',text)"
      ],
      "execution_count": null,
      "outputs": []
    },
    {
      "cell_type": "code",
      "metadata": {},
      "source": [
        "#Compare these\n",
        "plus = re.findall(r'[A-Z][a-z ]+',text)\n",
        "plusq = re.findall(r'[A-Z][a-z ]+?',text)"
      ],
      "execution_count": null,
      "outputs": []
    },
    {
      "cell_type": "code",
      "metadata": {},
      "source": [
        "# Finding capitalized words\n",
        "re.findall(r\"\\b[A-Z][a-z]*\\b\", text)"
      ],
      "execution_count": null,
      "outputs": []
    },
    {
      "cell_type": "code",
      "metadata": {},
      "source": [
        "# Problem: Find all sentences (Start with capital letter, end with period. Remember to use `\\.`"
      ],
      "execution_count": null,
      "outputs": []
    },
    {
      "cell_type": "markdown",
      "metadata": {},
      "source": [
        "## An example"
      ]
    },
    {
      "cell_type": "code",
      "metadata": {},
      "source": [
        "with open(\"data/filenames.txt\",\"r\") as f:\n",
        "    filenames = f.readlines()\n",
        "print(filenames[0])\n",
        "filenames = [x.strip() for x in filenames] #get rid of the newlines"
      ],
      "execution_count": null,
      "outputs": []
    },
    {
      "cell_type": "code",
      "metadata": {},
      "source": [
        "# Using alternation to select qmd or Rmd files\n",
        "selected = [x for x in filenames if re.match(r\".*\\.(qmd|Rmd)\",x)]\n",
        "rejected = [x for x in filenames if not re.match(r\".*\\.(qmd|Rmd)\",x)]"
      ],
      "execution_count": null,
      "outputs": []
    },
    {
      "cell_type": "code",
      "metadata": {},
      "source": [
        "# Using grouping to extract netid\n",
        "matches = [re.search(r\"_([a-z]{3}[0-9]{5})_\",x) for x in selected]\n",
        "[x[1] for x in matches][0:5]"
      ],
      "execution_count": null,
      "outputs": []
    },
    {
      "cell_type": "code",
      "metadata": {},
      "source": [
        "filenames = pd.read_csv(\"data/filenames.txt\",names=[\"Name\"])"
      ],
      "execution_count": null,
      "outputs": []
    },
    {
      "cell_type": "code",
      "metadata": {},
      "source": [
        "filenames['Name'].map(lambda x: re.search(r\"_([a-z]{3}[0-9]{5})_\",x)[1])\n",
        "filenames = filenames.assign(netid = filenames['Name'].map(lambda x: re.search(r\"_([a-z]{3}[0-9]{5})_\",x)[1])\n",
        " )\n",
        "filenames = filenames.assign(extension = filenames['Name'].map(lambda x: re.search(r\".*\\.(qmd|Rmd|pdf)$\",x)[1]))"
      ],
      "execution_count": null,
      "outputs": []
    },
    {
      "cell_type": "markdown",
      "metadata": {},
      "source": [
        "Adding `(?P<name>...)` names the submatch.  You can then extract or refer to the submatch by name."
      ]
    },
    {
      "cell_type": "code",
      "metadata": {},
      "source": [
        "m = re.search(r\"(?P<found>[a-z]{3})\",\"abcdefghij\")\n",
        "print(m[0],m.group(1),m.group('found'))"
      ],
      "execution_count": null,
      "outputs": []
    },
    {
      "cell_type": "markdown",
      "metadata": {},
      "source": [
        "The `.str.extract` method is a powerful way to pick apart a string into columns\n",
        "in a pandas dataframe.  It combines the operations above into a single operation.  Combining it with named submatches gives names to the new columns."
      ]
    },
    {
      "cell_type": "code",
      "metadata": {},
      "source": [
        "filenames = pd.read_csv(\"data/filenames.txt\",names=[\"Name\"])\n",
        "filenames=filenames['Name'].str.extract(r\"(?P<name>.*_(?P<netid>[a-z]{3}[0-9]{5})_.*\\.(?P<extension>qmd|Rmd|pdf))$\")"
      ],
      "execution_count": null,
      "outputs": []
    },
    {
      "cell_type": "markdown",
      "metadata": {},
      "source": [
        "There are many other useful operations available with the pandas str library.\n",
        "\n",
        "- `str.split`\n",
        "- `str.replace`\n",
        "- `str.cat` (joins strings together with argument `sep=`)"
      ]
    }
  ],
  "metadata": {
    "kernelspec": {
      "name": "python3",
      "language": "python",
      "display_name": "Python 3 (ipykernel)"
    }
  },
  "nbformat": 4,
  "nbformat_minor": 4
}