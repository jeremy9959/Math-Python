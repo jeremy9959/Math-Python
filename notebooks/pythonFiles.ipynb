{
  "cells": [
    {
      "cell_type": "raw",
      "metadata": {},
      "source": [
        "---\n",
        "title: Reading and Writing to Files in Python\n",
        "subtitle: Fundamentals of Data Science\n",
        "author: Jeremy Teitelbaum\n",
        "format: html\n",
        "---"
      ]
    },
    {
      "cell_type": "markdown",
      "metadata": {},
      "source": [
        "We have already seen how to use the read_csv commands (in R and python/pandas) to read data from files into dataframes/tibbles.  But sometimes\n",
        "we need to work directly with text files. \n",
        "\n",
        "## The basics"
      ]
    },
    {
      "cell_type": "code",
      "metadata": {},
      "source": [
        "#with open(\"path\",\"r\") as f:\n",
        "#    (put logic to read file here)"
      ],
      "execution_count": null,
      "outputs": []
    },
    {
      "cell_type": "markdown",
      "metadata": {},
      "source": [
        "This structure guarantees that the file will be properly closed when you're done. \n",
        "\n",
        "#### Slurp up the whole file into a string."
      ]
    },
    {
      "cell_type": "code",
      "metadata": {},
      "source": [
        "with open(\"data/gettysburg.txt\",\"r\") as f:\n",
        "    data = f.read()\n",
        "len(data)"
      ],
      "execution_count": null,
      "outputs": []
    },
    {
      "cell_type": "code",
      "metadata": {},
      "source": [
        "lines = data.split('\\n')\n",
        "for x in lines[:10]:\n",
        "    print(x)"
      ],
      "execution_count": null,
      "outputs": []
    },
    {
      "cell_type": "markdown",
      "metadata": {},
      "source": [
        "#### Read the file line by line"
      ]
    },
    {
      "cell_type": "code",
      "metadata": {},
      "source": [
        "with open(\"data/gettysburg.txt\",\"r\") as f:\n",
        "    for line in f:\n",
        "        print(line) "
      ],
      "execution_count": null,
      "outputs": []
    },
    {
      "cell_type": "markdown",
      "metadata": {},
      "source": [
        "#### Read a line from the file"
      ]
    },
    {
      "cell_type": "code",
      "metadata": {},
      "source": [
        "with open(\"data/gettysburg.txt\",\"r\") as f:\n",
        "    line = f.readline()\n",
        "    print(line)"
      ],
      "execution_count": null,
      "outputs": []
    },
    {
      "cell_type": "markdown",
      "metadata": {},
      "source": [
        "#### Slurp the file into a list"
      ]
    },
    {
      "cell_type": "code",
      "metadata": {},
      "source": [
        "with open(\"data/gettysburg.txt\",\"r\") as f:\n",
        "    line_list = f.readlines()\n",
        "\n",
        "lowercase = [x.lower() for x in line_list]\n",
        "lowercase"
      ],
      "execution_count": null,
      "outputs": []
    },
    {
      "cell_type": "markdown",
      "metadata": {},
      "source": [
        "## Writing to a file\n",
        "\n",
        "An entire string to the file. **This will overwrite what is in the file.**"
      ]
    },
    {
      "cell_type": "code",
      "metadata": {},
      "source": [
        "with open(\"data/gettysburg_lower.txt\",\"w\") as f:\n",
        "    f.write('\\n'.join(lowercase))"
      ],
      "execution_count": null,
      "outputs": []
    },
    {
      "cell_type": "markdown",
      "metadata": {},
      "source": [
        "One line at a time.\n",
        "**This will overwrite what is in the file.**"
      ]
    },
    {
      "cell_type": "code",
      "metadata": {},
      "source": [
        "with open(\"data/gettysburg_lower.txt\",\"w\") as f:\n",
        "    for x in lowercase:\n",
        "        f.write(x+\"\\n\")"
      ],
      "execution_count": null,
      "outputs": []
    },
    {
      "cell_type": "markdown",
      "metadata": {},
      "source": [
        "## Appending to a file"
      ]
    },
    {
      "cell_type": "code",
      "metadata": {},
      "source": [
        "with open(\"data/gettysburg_lower.txt\",\"a\") as f:\n",
        "    f.write(\"This goes at the end\\n\")"
      ],
      "execution_count": null,
      "outputs": []
    },
    {
      "cell_type": "markdown",
      "metadata": {},
      "source": [
        "## Working with directories (folders)"
      ]
    },
    {
      "cell_type": "code",
      "metadata": {},
      "source": [
        "import os\n",
        "import shutil\n",
        "#os.getcwd()\n",
        "#os.chdir('/home/jet08013')\n",
        "#os.getcwd()\n",
        "#files = os.listdir('.')\n",
        "#os.rename()\n",
        "#shutil.copy()"
      ],
      "execution_count": null,
      "outputs": []
    }
  ],
  "metadata": {
    "kernelspec": {
      "name": "python3",
      "language": "python",
      "display_name": "Python 3 (ipykernel)"
    }
  },
  "nbformat": 4,
  "nbformat_minor": 4
}