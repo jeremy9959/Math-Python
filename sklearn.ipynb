{
 "cells": [
  {
   "cell_type": "markdown",
   "metadata": {},
   "source": [
    "## A look at some of the algorithms in the sklearn library\n",
    "\n",
    "The scikit-learning library has a large collection of algorithms useful for machine learning and optimization.  Here are few examples of the things you can do."
   ]
  },
  {
   "cell_type": "markdown",
   "metadata": {},
   "source": [
    "### Linear Regression"
   ]
  },
  {
   "cell_type": "code",
   "execution_count": 2,
   "metadata": {},
   "outputs": [
    {
     "data": {
      "text/html": [
       "    <style>\n",
       "        .bk-notebook-logo {\n",
       "            display: block;\n",
       "            width: 20px;\n",
       "            height: 20px;\n",
       "            background-image: url(data:image/png;base64,iVBORw0KGgoAAAANSUhEUgAAABQAAAAUCAYAAACNiR0NAAAABHNCSVQICAgIfAhkiAAAAAlwSFlzAAALEgAACxIB0t1+/AAAABx0RVh0U29mdHdhcmUAQWRvYmUgRmlyZXdvcmtzIENTNui8sowAAAOkSURBVDiNjZRtaJVlGMd/1/08zzln5zjP1LWcU9N0NkN8m2CYjpgQYQXqSs0I84OLIC0hkEKoPtiH3gmKoiJDU7QpLgoLjLIQCpEsNJ1vqUOdO7ppbuec5+V+rj4ctwzd8IIbbi6u+8f1539dt3A78eXC7QizUF7gyV1fD1Yqg4JWz84yffhm0qkFqBogB9rM8tZdtwVsPUhWhGcFJngGeWrPzHm5oaMmkfEg1usvLFyc8jLRqDOMru7AyC8saQr7GG7f5fvDeH7Ej8CM66nIF+8yngt6HWaKh7k49Soy9nXurCi1o3qUbS3zWfrYeQDTB/Qj6kX6Ybhw4B+bOYoLKCC9H3Nu/leUTZ1JdRWkkn2ldcCamzrcf47KKXdAJllSlxAOkRgyHsGC/zRday5Qld9DyoM4/q/rUoy/CXh3jzOu3bHUVZeU+DEn8FInkPBFlu3+nW3Nw0mk6vCDiWg8CeJaxEwuHS3+z5RgY+YBR6V1Z1nxSOfoaPa4LASWxxdNp+VWTk7+4vzaou8v8PN+xo+KY2xsw6une2frhw05CTYOmQvsEhjhWjn0bmXPjpE1+kplmmkP3suftwTubK9Vq22qKmrBhpY4jvd5afdRA3wGjFAgcnTK2s4hY0/GPNIb0nErGMCRxWOOX64Z8RAC4oCXdklmEvcL8o0BfkNK4lUg9HTl+oPlQxdNo3Mg4Nv175e/1LDGzZen30MEjRUtmXSfiTVu1kK8W4txyV6BMKlbgk3lMwYCiusNy9fVfvvwMxv8Ynl6vxoByANLTWplvuj/nF9m2+PDtt1eiHPBr1oIfhCChQMBw6Aw0UulqTKZdfVvfG7VcfIqLG9bcldL/+pdWTLxLUy8Qq38heUIjh4XlzZxzQm19lLFlr8vdQ97rjZVOLf8nclzckbcD4wxXMidpX30sFd37Fv/GtwwhzhxGVAprjbg0gCAEeIgwCZyTV2Z1REEW8O4py0wsjeloKoMr6iCY6dP92H6Vw/oTyICIthibxjm/DfN9lVz8IqtqKYLUXfoKVMVQVVJOElGjrnnUt9T9wbgp8AyYKaGlqingHZU/uG2NTZSVqwHQTWkx9hxjkpWDaCg6Ckj5qebgBVbT3V3NNXMSiWSDdGV3hrtzla7J+duwPOToIg42ChPQOQjspnSlp1V+Gjdged7+8UN5CRAV7a5EdFNwCjEaBR27b3W890TE7g24NAP/mMDXRWrGoFPQI9ls/MWO2dWFAar/xcOIImbbpA3zgAAAABJRU5ErkJggg==);\n",
       "        }\n",
       "    </style>\n",
       "    <div>\n",
       "        <a href=\"https://bokeh.org\" target=\"_blank\" class=\"bk-notebook-logo\"></a>\n",
       "        <span id=\"ba7e874a-df24-469c-94e8-dea8e5d54e24\">Loading BokehJS ...</span>\n",
       "    </div>\n"
      ]
     },
     "metadata": {},
     "output_type": "display_data"
    },
    {
     "data": {
      "application/javascript": "(function(root) {\n  function now() {\n    return new Date();\n  }\n\n  const force = true;\n\n  if (typeof root._bokeh_onload_callbacks === \"undefined\" || force === true) {\n    root._bokeh_onload_callbacks = [];\n    root._bokeh_is_loading = undefined;\n  }\n\nconst JS_MIME_TYPE = 'application/javascript';\n  const HTML_MIME_TYPE = 'text/html';\n  const EXEC_MIME_TYPE = 'application/vnd.bokehjs_exec.v0+json';\n  const CLASS_NAME = 'output_bokeh rendered_html';\n\n  /**\n   * Render data to the DOM node\n   */\n  function render(props, node) {\n    const script = document.createElement(\"script\");\n    node.appendChild(script);\n  }\n\n  /**\n   * Handle when an output is cleared or removed\n   */\n  function handleClearOutput(event, handle) {\n    function drop(id) {\n      const view = Bokeh.index.get_by_id(id)\n      if (view != null) {\n        view.model.document.clear()\n        Bokeh.index.delete(view)\n      }\n    }\n\n    const cell = handle.cell;\n\n    const id = cell.output_area._bokeh_element_id;\n    const server_id = cell.output_area._bokeh_server_id;\n\n    // Clean up Bokeh references\n    if (id != null) {\n      drop(id)\n    }\n\n    if (server_id !== undefined) {\n      // Clean up Bokeh references\n      const cmd_clean = \"from bokeh.io.state import curstate; print(curstate().uuid_to_server['\" + server_id + \"'].get_sessions()[0].document.roots[0]._id)\";\n      cell.notebook.kernel.execute(cmd_clean, {\n        iopub: {\n          output: function(msg) {\n            const id = msg.content.text.trim()\n            drop(id)\n          }\n        }\n      });\n      // Destroy server and session\n      const cmd_destroy = \"import bokeh.io.notebook as ion; ion.destroy_server('\" + server_id + \"')\";\n      cell.notebook.kernel.execute(cmd_destroy);\n    }\n  }\n\n  /**\n   * Handle when a new output is added\n   */\n  function handleAddOutput(event, handle) {\n    const output_area = handle.output_area;\n    const output = handle.output;\n\n    // limit handleAddOutput to display_data with EXEC_MIME_TYPE content only\n    if ((output.output_type != \"display_data\") || (!Object.prototype.hasOwnProperty.call(output.data, EXEC_MIME_TYPE))) {\n      return\n    }\n\n    const toinsert = output_area.element.find(\".\" + CLASS_NAME.split(' ')[0]);\n\n    if (output.metadata[EXEC_MIME_TYPE][\"id\"] !== undefined) {\n      toinsert[toinsert.length - 1].firstChild.textContent = output.data[JS_MIME_TYPE];\n      // store reference to embed id on output_area\n      output_area._bokeh_element_id = output.metadata[EXEC_MIME_TYPE][\"id\"];\n    }\n    if (output.metadata[EXEC_MIME_TYPE][\"server_id\"] !== undefined) {\n      const bk_div = document.createElement(\"div\");\n      bk_div.innerHTML = output.data[HTML_MIME_TYPE];\n      const script_attrs = bk_div.children[0].attributes;\n      for (let i = 0; i < script_attrs.length; i++) {\n        toinsert[toinsert.length - 1].firstChild.setAttribute(script_attrs[i].name, script_attrs[i].value);\n        toinsert[toinsert.length - 1].firstChild.textContent = bk_div.children[0].textContent\n      }\n      // store reference to server id on output_area\n      output_area._bokeh_server_id = output.metadata[EXEC_MIME_TYPE][\"server_id\"];\n    }\n  }\n\n  function register_renderer(events, OutputArea) {\n\n    function append_mime(data, metadata, element) {\n      // create a DOM node to render to\n      const toinsert = this.create_output_subarea(\n        metadata,\n        CLASS_NAME,\n        EXEC_MIME_TYPE\n      );\n      this.keyboard_manager.register_events(toinsert);\n      // Render to node\n      const props = {data: data, metadata: metadata[EXEC_MIME_TYPE]};\n      render(props, toinsert[toinsert.length - 1]);\n      element.append(toinsert);\n      return toinsert\n    }\n\n    /* Handle when an output is cleared or removed */\n    events.on('clear_output.CodeCell', handleClearOutput);\n    events.on('delete.Cell', handleClearOutput);\n\n    /* Handle when a new output is added */\n    events.on('output_added.OutputArea', handleAddOutput);\n\n    /**\n     * Register the mime type and append_mime function with output_area\n     */\n    OutputArea.prototype.register_mime_type(EXEC_MIME_TYPE, append_mime, {\n      /* Is output safe? */\n      safe: true,\n      /* Index of renderer in `output_area.display_order` */\n      index: 0\n    });\n  }\n\n  // register the mime type if in Jupyter Notebook environment and previously unregistered\n  if (root.Jupyter !== undefined) {\n    const events = require('base/js/events');\n    const OutputArea = require('notebook/js/outputarea').OutputArea;\n\n    if (OutputArea.prototype.mime_types().indexOf(EXEC_MIME_TYPE) == -1) {\n      register_renderer(events, OutputArea);\n    }\n  }\n  if (typeof (root._bokeh_timeout) === \"undefined\" || force === true) {\n    root._bokeh_timeout = Date.now() + 5000;\n    root._bokeh_failed_load = false;\n  }\n\n  const NB_LOAD_WARNING = {'data': {'text/html':\n     \"<div style='background-color: #fdd'>\\n\"+\n     \"<p>\\n\"+\n     \"BokehJS does not appear to have successfully loaded. If loading BokehJS from CDN, this \\n\"+\n     \"may be due to a slow or bad network connection. Possible fixes:\\n\"+\n     \"</p>\\n\"+\n     \"<ul>\\n\"+\n     \"<li>re-rerun `output_notebook()` to attempt to load from CDN again, or</li>\\n\"+\n     \"<li>use INLINE resources instead, as so:</li>\\n\"+\n     \"</ul>\\n\"+\n     \"<code>\\n\"+\n     \"from bokeh.resources import INLINE\\n\"+\n     \"output_notebook(resources=INLINE)\\n\"+\n     \"</code>\\n\"+\n     \"</div>\"}};\n\n  function display_loaded() {\n    const el = document.getElementById(\"ba7e874a-df24-469c-94e8-dea8e5d54e24\");\n    if (el != null) {\n      el.textContent = \"BokehJS is loading...\";\n    }\n    if (root.Bokeh !== undefined) {\n      if (el != null) {\n        el.textContent = \"BokehJS \" + root.Bokeh.version + \" successfully loaded.\";\n      }\n    } else if (Date.now() < root._bokeh_timeout) {\n      setTimeout(display_loaded, 100)\n    }\n  }\n\n  function run_callbacks() {\n    try {\n      root._bokeh_onload_callbacks.forEach(function(callback) {\n        if (callback != null)\n          callback();\n      });\n    } finally {\n      delete root._bokeh_onload_callbacks\n    }\n    console.debug(\"Bokeh: all callbacks have finished\");\n  }\n\n  function load_libs(css_urls, js_urls, callback) {\n    if (css_urls == null) css_urls = [];\n    if (js_urls == null) js_urls = [];\n\n    root._bokeh_onload_callbacks.push(callback);\n    if (root._bokeh_is_loading > 0) {\n      console.debug(\"Bokeh: BokehJS is being loaded, scheduling callback at\", now());\n      return null;\n    }\n    if (js_urls == null || js_urls.length === 0) {\n      run_callbacks();\n      return null;\n    }\n    console.debug(\"Bokeh: BokehJS not loaded, scheduling load and callback at\", now());\n    root._bokeh_is_loading = css_urls.length + js_urls.length;\n\n    function on_load() {\n      root._bokeh_is_loading--;\n      if (root._bokeh_is_loading === 0) {\n        console.debug(\"Bokeh: all BokehJS libraries/stylesheets loaded\");\n        run_callbacks()\n      }\n    }\n\n    function on_error(url) {\n      console.error(\"failed to load \" + url);\n    }\n\n    for (let i = 0; i < css_urls.length; i++) {\n      const url = css_urls[i];\n      const element = document.createElement(\"link\");\n      element.onload = on_load;\n      element.onerror = on_error.bind(null, url);\n      element.rel = \"stylesheet\";\n      element.type = \"text/css\";\n      element.href = url;\n      console.debug(\"Bokeh: injecting link tag for BokehJS stylesheet: \", url);\n      document.body.appendChild(element);\n    }\n\n    for (let i = 0; i < js_urls.length; i++) {\n      const url = js_urls[i];\n      const element = document.createElement('script');\n      element.onload = on_load;\n      element.onerror = on_error.bind(null, url);\n      element.async = false;\n      element.src = url;\n      console.debug(\"Bokeh: injecting script tag for BokehJS library: \", url);\n      document.head.appendChild(element);\n    }\n  };\n\n  function inject_raw_css(css) {\n    const element = document.createElement(\"style\");\n    element.appendChild(document.createTextNode(css));\n    document.body.appendChild(element);\n  }\n\n  const js_urls = [\"https://cdn.bokeh.org/bokeh/release/bokeh-3.3.4.min.js\", \"https://cdn.bokeh.org/bokeh/release/bokeh-gl-3.3.4.min.js\", \"https://cdn.bokeh.org/bokeh/release/bokeh-widgets-3.3.4.min.js\", \"https://cdn.bokeh.org/bokeh/release/bokeh-tables-3.3.4.min.js\", \"https://cdn.bokeh.org/bokeh/release/bokeh-mathjax-3.3.4.min.js\"];\n  const css_urls = [];\n\n  const inline_js = [    function(Bokeh) {\n      Bokeh.set_log_level(\"info\");\n    },\nfunction(Bokeh) {\n    }\n  ];\n\n  function run_inline_js() {\n    if (root.Bokeh !== undefined || force === true) {\n          for (let i = 0; i < inline_js.length; i++) {\n      inline_js[i].call(root, root.Bokeh);\n    }\nif (force === true) {\n        display_loaded();\n      }} else if (Date.now() < root._bokeh_timeout) {\n      setTimeout(run_inline_js, 100);\n    } else if (!root._bokeh_failed_load) {\n      console.log(\"Bokeh: BokehJS failed to load within specified timeout.\");\n      root._bokeh_failed_load = true;\n    } else if (force !== true) {\n      const cell = $(document.getElementById(\"ba7e874a-df24-469c-94e8-dea8e5d54e24\")).parents('.cell').data().cell;\n      cell.output_area.append_execute_result(NB_LOAD_WARNING)\n    }\n  }\n\n  if (root._bokeh_is_loading === 0) {\n    console.debug(\"Bokeh: BokehJS loaded, going straight to plotting\");\n    run_inline_js();\n  } else {\n    load_libs(css_urls, js_urls, function() {\n      console.debug(\"Bokeh: BokehJS plotting callback run at\", now());\n      run_inline_js();\n    });\n  }\n}(window));",
      "application/vnd.bokehjs_load.v0+json": ""
     },
     "metadata": {},
     "output_type": "display_data"
    }
   ],
   "source": [
    "\n",
    "import numpy as np\n",
    "from bokeh.plotting import figure\n",
    "from bokeh.io import  show, output_notebook\n",
    "from bokeh.models import HoverTool, ColumnDataSource\n",
    "\n",
    "output_notebook()"
   ]
  },
  {
   "cell_type": "markdown",
   "metadata": {},
   "source": [
    "Let's create some data for a linear model.  The basic rule is \n",
    "$$\n",
    "y = \\sum a_{i}x_{i} + b+ \\epsilon\n",
    "$$\n",
    "where $\\epsilon$ is a normally distributed random variable.  Let's suppose $N=3$, the $a_{i}$ are 1, 2, and 3, and the $x_{i}$ are uniformly distributed between 0 and 1.  We'll use the `LinearRegression` class to fit the model."
   ]
  },
  {
   "cell_type": "code",
   "execution_count": 3,
   "metadata": {},
   "outputs": [
    {
     "name": "stdout",
     "output_type": "stream",
     "text": [
      "0.10668516097372419\n"
     ]
    }
   ],
   "source": [
    "N=100\n",
    "x = np.random.uniform(-10,10,size=(N,3))\n",
    "b = .7\n",
    "y = (x @ np.array([-3,1,2]) + b)+ np.random.normal(0,1,N)\n",
    "y_true = x @ np.array([-3,1,2]) + b\n",
    "mse = np.linalg.norm(y-y_true)/N\n",
    "print(mse)"
   ]
  },
  {
   "cell_type": "code",
   "execution_count": 4,
   "metadata": {},
   "outputs": [],
   "source": [
    "from sklearn.linear_model import LinearRegression"
   ]
  },
  {
   "cell_type": "code",
   "execution_count": 5,
   "metadata": {},
   "outputs": [],
   "source": [
    "L = LinearRegression()"
   ]
  },
  {
   "cell_type": "code",
   "execution_count": 6,
   "metadata": {},
   "outputs": [
    {
     "data": {
      "text/html": [
       "<style>#sk-container-id-1 {color: black;}#sk-container-id-1 pre{padding: 0;}#sk-container-id-1 div.sk-toggleable {background-color: white;}#sk-container-id-1 label.sk-toggleable__label {cursor: pointer;display: block;width: 100%;margin-bottom: 0;padding: 0.3em;box-sizing: border-box;text-align: center;}#sk-container-id-1 label.sk-toggleable__label-arrow:before {content: \"▸\";float: left;margin-right: 0.25em;color: #696969;}#sk-container-id-1 label.sk-toggleable__label-arrow:hover:before {color: black;}#sk-container-id-1 div.sk-estimator:hover label.sk-toggleable__label-arrow:before {color: black;}#sk-container-id-1 div.sk-toggleable__content {max-height: 0;max-width: 0;overflow: hidden;text-align: left;background-color: #f0f8ff;}#sk-container-id-1 div.sk-toggleable__content pre {margin: 0.2em;color: black;border-radius: 0.25em;background-color: #f0f8ff;}#sk-container-id-1 input.sk-toggleable__control:checked~div.sk-toggleable__content {max-height: 200px;max-width: 100%;overflow: auto;}#sk-container-id-1 input.sk-toggleable__control:checked~label.sk-toggleable__label-arrow:before {content: \"▾\";}#sk-container-id-1 div.sk-estimator input.sk-toggleable__control:checked~label.sk-toggleable__label {background-color: #d4ebff;}#sk-container-id-1 div.sk-label input.sk-toggleable__control:checked~label.sk-toggleable__label {background-color: #d4ebff;}#sk-container-id-1 input.sk-hidden--visually {border: 0;clip: rect(1px 1px 1px 1px);clip: rect(1px, 1px, 1px, 1px);height: 1px;margin: -1px;overflow: hidden;padding: 0;position: absolute;width: 1px;}#sk-container-id-1 div.sk-estimator {font-family: monospace;background-color: #f0f8ff;border: 1px dotted black;border-radius: 0.25em;box-sizing: border-box;margin-bottom: 0.5em;}#sk-container-id-1 div.sk-estimator:hover {background-color: #d4ebff;}#sk-container-id-1 div.sk-parallel-item::after {content: \"\";width: 100%;border-bottom: 1px solid gray;flex-grow: 1;}#sk-container-id-1 div.sk-label:hover label.sk-toggleable__label {background-color: #d4ebff;}#sk-container-id-1 div.sk-serial::before {content: \"\";position: absolute;border-left: 1px solid gray;box-sizing: border-box;top: 0;bottom: 0;left: 50%;z-index: 0;}#sk-container-id-1 div.sk-serial {display: flex;flex-direction: column;align-items: center;background-color: white;padding-right: 0.2em;padding-left: 0.2em;position: relative;}#sk-container-id-1 div.sk-item {position: relative;z-index: 1;}#sk-container-id-1 div.sk-parallel {display: flex;align-items: stretch;justify-content: center;background-color: white;position: relative;}#sk-container-id-1 div.sk-item::before, #sk-container-id-1 div.sk-parallel-item::before {content: \"\";position: absolute;border-left: 1px solid gray;box-sizing: border-box;top: 0;bottom: 0;left: 50%;z-index: -1;}#sk-container-id-1 div.sk-parallel-item {display: flex;flex-direction: column;z-index: 1;position: relative;background-color: white;}#sk-container-id-1 div.sk-parallel-item:first-child::after {align-self: flex-end;width: 50%;}#sk-container-id-1 div.sk-parallel-item:last-child::after {align-self: flex-start;width: 50%;}#sk-container-id-1 div.sk-parallel-item:only-child::after {width: 0;}#sk-container-id-1 div.sk-dashed-wrapped {border: 1px dashed gray;margin: 0 0.4em 0.5em 0.4em;box-sizing: border-box;padding-bottom: 0.4em;background-color: white;}#sk-container-id-1 div.sk-label label {font-family: monospace;font-weight: bold;display: inline-block;line-height: 1.2em;}#sk-container-id-1 div.sk-label-container {text-align: center;}#sk-container-id-1 div.sk-container {/* jupyter's `normalize.less` sets `[hidden] { display: none; }` but bootstrap.min.css set `[hidden] { display: none !important; }` so we also need the `!important` here to be able to override the default hidden behavior on the sphinx rendered scikit-learn.org. See: https://github.com/scikit-learn/scikit-learn/issues/21755 */display: inline-block !important;position: relative;}#sk-container-id-1 div.sk-text-repr-fallback {display: none;}</style><div id=\"sk-container-id-1\" class=\"sk-top-container\"><div class=\"sk-text-repr-fallback\"><pre>LinearRegression()</pre><b>In a Jupyter environment, please rerun this cell to show the HTML representation or trust the notebook. <br />On GitHub, the HTML representation is unable to render, please try loading this page with nbviewer.org.</b></div><div class=\"sk-container\" hidden><div class=\"sk-item\"><div class=\"sk-estimator sk-toggleable\"><input class=\"sk-toggleable__control sk-hidden--visually\" id=\"sk-estimator-id-1\" type=\"checkbox\" checked><label for=\"sk-estimator-id-1\" class=\"sk-toggleable__label sk-toggleable__label-arrow\">LinearRegression</label><div class=\"sk-toggleable__content\"><pre>LinearRegression()</pre></div></div></div></div></div>"
      ],
      "text/plain": [
       "LinearRegression()"
      ]
     },
     "execution_count": 6,
     "metadata": {},
     "output_type": "execute_result"
    }
   ],
   "source": [
    "L.fit(x,y)"
   ]
  },
  {
   "cell_type": "code",
   "execution_count": 7,
   "metadata": {},
   "outputs": [
    {
     "name": "stdout",
     "output_type": "stream",
     "text": [
      "coeffs = [-2.97241325  1.01039452  2.0146124 ], intercept = 0.6822679222330252\n"
     ]
    }
   ],
   "source": [
    "print(f\"coeffs = {L.coef_}, intercept = {L.intercept_}\")"
   ]
  },
  {
   "cell_type": "code",
   "execution_count": 8,
   "metadata": {},
   "outputs": [
    {
     "data": {
      "text/plain": [
       "array([0.78745527])"
      ]
     },
     "execution_count": 8,
     "metadata": {},
     "output_type": "execute_result"
    }
   ],
   "source": [
    "u = np.array([[2,2,2]])\n",
    "L.predict(u)"
   ]
  },
  {
   "cell_type": "code",
   "execution_count": 9,
   "metadata": {},
   "outputs": [],
   "source": [
    "error = np.linalg.norm(L.predict(x)-y)/N"
   ]
  },
  {
   "cell_type": "code",
   "execution_count": 10,
   "metadata": {},
   "outputs": [
    {
     "data": {
      "text/plain": [
       "0.9972960535172569"
      ]
     },
     "execution_count": 10,
     "metadata": {},
     "output_type": "execute_result"
    }
   ],
   "source": [
    "L.score(x,y)"
   ]
  },
  {
   "cell_type": "code",
   "execution_count": 11,
   "metadata": {},
   "outputs": [
    {
     "data": {
      "text/plain": [
       "0.10497287472266592"
      ]
     },
     "execution_count": 11,
     "metadata": {},
     "output_type": "execute_result"
    }
   ],
   "source": [
    "np.linalg.norm(L.predict(x)-y)/N"
   ]
  },
  {
   "cell_type": "markdown",
   "metadata": {},
   "source": [
    "### Classification"
   ]
  },
  {
   "cell_type": "code",
   "execution_count": 12,
   "metadata": {},
   "outputs": [],
   "source": [
    "x0 = np.random.multivariate_normal([0, 0], [[1, .75],[.75, 1]], 100)\n",
    "x1 = np.random.multivariate_normal([1, -4], [[1, 0],[0, 1]], 100)\n",
    "x2 = np.random.multivariate_normal([-2,-2],[[1,-.5],[-.5,1]],100)\n"
   ]
  },
  {
   "cell_type": "code",
   "execution_count": 22,
   "metadata": {},
   "outputs": [
    {
     "data": {
      "text/html": [
       "\n",
       "  <div id=\"ba74ee7d-5ed8-4a06-a3db-c23045210c1d\" data-root-id=\"p1177\" style=\"display: contents;\"></div>\n"
      ]
     },
     "metadata": {},
     "output_type": "display_data"
    },
    {
     "data": {
      "application/javascript": "(function(root) {\n  function embed_document(root) {\n  const docs_json = {\"9b2cfdca-6922-40e8-9a9c-7449d45fa45e\":{\"version\":\"3.3.4\",\"title\":\"Bokeh Application\",\"roots\":[{\"type\":\"object\",\"name\":\"Figure\",\"id\":\"p1177\",\"attributes\":{\"x_range\":{\"type\":\"object\",\"name\":\"DataRange1d\",\"id\":\"p1178\"},\"y_range\":{\"type\":\"object\",\"name\":\"DataRange1d\",\"id\":\"p1179\"},\"x_scale\":{\"type\":\"object\",\"name\":\"LinearScale\",\"id\":\"p1186\"},\"y_scale\":{\"type\":\"object\",\"name\":\"LinearScale\",\"id\":\"p1187\"},\"title\":{\"type\":\"object\",\"name\":\"Title\",\"id\":\"p1184\"},\"renderers\":[{\"type\":\"object\",\"name\":\"GlyphRenderer\",\"id\":\"p1215\",\"attributes\":{\"data_source\":{\"type\":\"object\",\"name\":\"ColumnDataSource\",\"id\":\"p1209\",\"attributes\":{\"selected\":{\"type\":\"object\",\"name\":\"Selection\",\"id\":\"p1210\",\"attributes\":{\"indices\":[],\"line_indices\":[]}},\"selection_policy\":{\"type\":\"object\",\"name\":\"UnionRenderers\",\"id\":\"p1211\"},\"data\":{\"type\":\"map\",\"entries\":[[\"x\",{\"type\":\"ndarray\",\"array\":{\"type\":\"bytes\",\"data\":\"jL+1q/4T679rK17hpqH0P3TUcwYg3NS/AmZRNBiXwD9ZHtkCGPvxP2RZtR1MI9w/AXkRmls5/T8mxMu9BYkBwMeSrpgwgP4/Bab5DNx6yT/ToWMw35HgP6cjIC82stI/B3xGeZ+/qz8+c78h/PT1vznOH1eYY90/RUuqBBvJ+z8VTxjH8ib/P4rLRF+6pdW/EzKL9zoq3T9vLUwNzByOv2eSLgVCWu2/r/fcQ+l04z9C97agxTzBvz6AkcsoWtS/kMg6hA4/9b/JHzB26GfXvwwJtM/Qrs2/maBUcP+m0D+QjxFClHLaP34ae5WtIvQ/I2XOR3d87j/2TPPfzxHav7EmWQICeea/ds8X87bT0D+kMCRcYcG6P6pHkVKDue8/zIHBaEAR1D/2HevS0X7yv8qA+ghoROa/CaqI9tNS6D+U43HkETvrv3azweNCQPG/pQNF6E8/AUC12Qs+JbboP6OH3rfcOf2/ZlN2d0my8r/E4INiLOTxvz3hrvH1Ztg/CqK9Bdj58794WcXik1jWP8CVELlYscW/rmcZ1M3t8D9Z2s9dQXe6P57Nkm1+FtW/VQhae5uD9r+wUCiALwLzv7MJ9SG3HPk/MVtCuSx3+L/14E8dvdf0vxCv7L44Ls4/eXr7amEZ5L/fvQpedt3BP3WLWK/cK/M/XuBPUB5H7D8WiafYaKSmvzFzphadMvQ/7X57p/eKzD+5zFRkr3DSPwite3xKJfc/At53JKZQ97/+LZRf77Tsv1yoe4vKTfe/0ctif/Yl2z/XEs1iGKmkP2SGdFM+heg/KytrmBkI7j8VbKdl8PvOv3zVc1QYa/A/knwsdXuuyT8OVwu5Cf/pPwr9e1eTh/I/iAQadgZ69j94rG5UXkTNP5zylE81LPS/DKOMy/gc8T/zn0D6H57sv8fgbtlFo/Q/XM3T905R6b9LSGsvZR/8P8xLpbeP5QFARmMs+6UHgz+R0G8KDNPxv6eW59jVCuS/1evnDNvc4D/Qau4Um7nfPx0dx+ePENq/VgKI7N4g+z+Ngo+ThrfsPyU4wmYdif6/sV68cRB4zT8=\"},\"shape\":[100],\"dtype\":\"float64\",\"order\":\"little\"}],[\"y\",{\"type\":\"ndarray\",\"array\":{\"type\":\"bytes\",\"data\":\"oW1tkim82b9aqriIqFn1PyvamV+3aue/ynFbP4GO6z8+XZG7u5jlP71s8ofTV+E/po4diKr69z9Oo6gVQFb2v4nA2z1hAAFAY/zqg5r15j8CCKX6ptTgPykSzQ7OALI/9lRne9Vr4z9cJ1fkSLTlvwIL2rvnAeI/FthHPD7H8D+QAZtksIv7P2/Klh0+OOO/M6U9dJ/Cpr8Kj+fw5Pfkv4X7Jg0oIADAyElTos7N/b/+Qmm2csf8v3S1EHREf82/shbx9ghl5L8tn1aCpcniv93BtilW4rW/luRrD7RC7z/rBrIKZojUv89gd/PFPvg/AVR1BSD00D8vTBIkbVb3vxmjEfIG3VU/pXt1p739r79Bb8uGVCrjP+4TB8frgOQ/b9MPQ+ty5D8jRCQjQzT6v9h7/VGFscu/sk4vPMlYxD9tirh9n+3zvzBSDoCAHfK/df2Hpc2I+j+Ndvr/0+ipP5Zjzxz36wTADg+S252Szb8/loE6vFLSv4ekmlpwjOW/ANaXFjke579Wd5+p5B3rPx6WEYO3Z7+/HwAioGlx5D+3xql70J3av8nbpYPA6tw/vvJp2q31/r+8JnN9+ej2v1olHvCwKv0/BuWPjc0V97+nFs0tduvxv3mwZXS8kdS/+iivskg08b88Q+2BoWzAv4+GX4NJi/0/AUw5J5s39T+IAOxNpRv1v+oMxVK4++c/aYfXBvIP47/IQSM8muHnv7qWgxnaccs/CX0Ahuhs9b+mLuuBRRbBP3gFgQYSv+m/esRfDmcNwj/qfTuUvmbVP7tP8KHtY/E/QGLqqhKm6T8AJ2cWjdrTP/NJrLA28fo/Melohmguvj+ac5ISzDrmP7euQCNvmt8/aBFK3wkz4D/vZ5iuvp+4vx+9phOsZwLAikonNy+W3T8hpufiyjbkvzqz3n5Yh/U/JMSCw/89+7/5E7+abl32P/ZmUQZYAvU/AwEYbxRe5b86ALmvDpn0v8s6+AaaudO/cKvicBet3j/rIMMGNVPhP1iq6EN5c/A/InNGHM3N0z8ecFC11Qmvv9l1jT/fHwPAZoxbih33578=\"},\"shape\":[100],\"dtype\":\"float64\",\"order\":\"little\"}]]}}},\"view\":{\"type\":\"object\",\"name\":\"CDSView\",\"id\":\"p1216\",\"attributes\":{\"filter\":{\"type\":\"object\",\"name\":\"AllIndices\",\"id\":\"p1217\"}}},\"glyph\":{\"type\":\"object\",\"name\":\"Scatter\",\"id\":\"p1212\",\"attributes\":{\"x\":{\"type\":\"field\",\"field\":\"x\"},\"y\":{\"type\":\"field\",\"field\":\"y\"},\"line_color\":{\"type\":\"value\",\"value\":\"red\"},\"fill_color\":{\"type\":\"value\",\"value\":\"red\"},\"hatch_color\":{\"type\":\"value\",\"value\":\"red\"}}},\"nonselection_glyph\":{\"type\":\"object\",\"name\":\"Scatter\",\"id\":\"p1213\",\"attributes\":{\"x\":{\"type\":\"field\",\"field\":\"x\"},\"y\":{\"type\":\"field\",\"field\":\"y\"},\"line_color\":{\"type\":\"value\",\"value\":\"red\"},\"line_alpha\":{\"type\":\"value\",\"value\":0.1},\"fill_color\":{\"type\":\"value\",\"value\":\"red\"},\"fill_alpha\":{\"type\":\"value\",\"value\":0.1},\"hatch_color\":{\"type\":\"value\",\"value\":\"red\"},\"hatch_alpha\":{\"type\":\"value\",\"value\":0.1}}},\"muted_glyph\":{\"type\":\"object\",\"name\":\"Scatter\",\"id\":\"p1214\",\"attributes\":{\"x\":{\"type\":\"field\",\"field\":\"x\"},\"y\":{\"type\":\"field\",\"field\":\"y\"},\"line_color\":{\"type\":\"value\",\"value\":\"red\"},\"line_alpha\":{\"type\":\"value\",\"value\":0.2},\"fill_color\":{\"type\":\"value\",\"value\":\"red\"},\"fill_alpha\":{\"type\":\"value\",\"value\":0.2},\"hatch_color\":{\"type\":\"value\",\"value\":\"red\"},\"hatch_alpha\":{\"type\":\"value\",\"value\":0.2}}}}},{\"type\":\"object\",\"name\":\"GlyphRenderer\",\"id\":\"p1224\",\"attributes\":{\"data_source\":{\"type\":\"object\",\"name\":\"ColumnDataSource\",\"id\":\"p1218\",\"attributes\":{\"selected\":{\"type\":\"object\",\"name\":\"Selection\",\"id\":\"p1219\",\"attributes\":{\"indices\":[],\"line_indices\":[]}},\"selection_policy\":{\"type\":\"object\",\"name\":\"UnionRenderers\",\"id\":\"p1220\"},\"data\":{\"type\":\"map\",\"entries\":[[\"x\",{\"type\":\"ndarray\",\"array\":{\"type\":\"bytes\",\"data\":\"gOZhPeqvqL9JsbcBhWTtPxQ7DPVQAPA/OBw8cWpj+T8g6v+ppN/UvwBLW1ITz+8/EMJnXy6ctb/MtNVRxxTwPyAKbTElS6y/Kv/GJdqK9D8qSlmBC8P4P0of9bCOI9Y/Wr1uasxd5T9i7mowd13VPw5t6r33ZPw/BkoEsqOuCEB6m9Mn3U3gPzBO3vkA7bu/KD80ZsFqxr8kaa3c7L/QP0BHvRSj0MA/McaGL71L6z8hM3U0pQcIQCKjplmGw/0/v4dNZaHG5T8g//GSriK+P5CyW/JZGOo/Phmlljfl6r/w8ptg5Ej/P2YLxBhdGBJAID9FLLh6sj/4MF+/7dnwP3omRv0v/PW/QoGOYAuv+T87on+33BPsP54NzuxzZP0/kHudXCvX9z/bl8HgvrvvPwSSjLlCufQ/jr2moMl2AUDa8pb0z371Pzy2f2+vouE/InyRaRS62j9xEzx76mryP4ojEnQpsPg/NVpaARl8AkCG/64NSVvdPz5SUBo8DQBAKgs2XkBh67/EpKFctrDzP15q98N9UfE/IOdSHAIWnj8yjQLnicfWP0HyIOlebOk/MeeGKAcy9D+esnP6dVgHQGvCfTLuePg/t5crEzbu5T9W2nx1nFncP7gXSdf9l+Q/mBu29lh+tT/IN8Y+bRPHvyYRPRP/Z/s/XrOz2Sv35T8L7V3c66btPzg+kK6eKMC/LP6RIFYMwj+VSDvFC/3pPwXPVCPNJfQ/G0gSbtgiBUBgfcS/wIejP1rlDDcXeQFACCWaQJ25wz9GuLKpdsfoP2hmG11g0/g/jHKMG19S5L8ABWBlOSC4vwokUv5w8OA/lzpu+NrcA0DOq3A1bW3uP2q11MLMP+4/Gl5T0XPS3T86YOlPkBbqP8/NdkXn+eQ/d8S4Hhgs+D9sqQTwHcIGQEO9YKEGUvE/2I+5tiv+uj8ASAzG/rNAv41+kbb8wgBAAIWtnzyq378mljpCehYDQA01Au4iefU/zPAwGOjiA0BiatqtxWXaP+bkXc4Irfk/1w0yDDCK9z/Qk0SlOGHwP7T39TFZqM8/IlHFBmB4A0A=\"},\"shape\":[100],\"dtype\":\"float64\",\"order\":\"little\"}],[\"y\",{\"type\":\"ndarray\",\"array\":{\"type\":\"bytes\",\"data\":\"zee9bgjKDsCRhrMGOnAGwKmHwUQ5qgrA1sx9AHHHFMCInXuN8oUEwM2l0ISUFxnADlNfgi3oBMBStNWCHogOwOKMmDrEjAXAfSKCjG+gDcAQxX26Fp0SwNPEsieycAnAd6ppr1ZyDsBA3Z/V3h0QwDea3/KcoA/ANk/rF9b5C8CgPilGdNkSwO7ceSjrChXALL+pVs2xBsDEfp8JeOcSwMYQz+di+QvAvMp7PFVmEsC4V/oJdYwRwMNau83EGAnAccAYplHmCcAvCn2V7/UDwFBsa2SljAzATIYDp6nYBsBDyuQ1qN0YwELe+N3iJQ/ANfBExbf5DsD4tujgpMf9vwOneh/tshHAtKruRailDsDQe1mpVZ4TwM1cwKOB/AbAHcoLELbFCcABCB9/QRAJwDyl50+PMxfAX8kQ97bvE8DZ68iNDGQSwCI1FYBpLA7A6XX4qubcFcDsgmOXgZQNwF3P1Fzvbg3AOoMv7tVpDsCz5dlONU4RwMqd7LiwJxTAsmc28oEECMDHB6WDN50SwJl4htmMWRPAS7BIP+8XE8Ayr+Bgi/ERwFM9AEgItRHAASgg+K0qCsBwDTWiEAMTwE9mKMt1yBDADruVv4XSDsCAQDe4A/ERwAjGKn6x2AfArijA03M0AsBWWQckdM4WwAXTfpJUShfA9hhW1EGJDsBUaAD/zXASwNc06NuHqRDA5Ii5ZdsFDMCCn6Fj5iUUwI6vd8IGPgjA+15ZdfcTE8CZzv5uTEgNwMb+wZ6qShHAxvPqo9x8FsAvQOQv7CgNwDpghv1pywzAmmDMozUAEcA3BWUeKCEPwCK6nh9YowXA9T6d/KKHFcBZLCcssxMVwAu5Xc8P9wnAUaCHfXQ3C8BCM3AuL7sBwLi93O4l4wfASFb7+jwXEcBiSEmGBTENwEjeuo60BgLA+mYp+DV/CcBOjx08z+0RwEhZPD0lBAnACc6mpkfyD8CHHfIR8z8TwITgJ+ZH8AHAskXeR+1SEsDNH4Bd5uENwGw+OuzHBgjAqHnoKrLR4L+wgKLBwETyv/HeOC+z9wbArEtRuRj6BsA=\"},\"shape\":[100],\"dtype\":\"float64\",\"order\":\"little\"}]]}}},\"view\":{\"type\":\"object\",\"name\":\"CDSView\",\"id\":\"p1225\",\"attributes\":{\"filter\":{\"type\":\"object\",\"name\":\"AllIndices\",\"id\":\"p1226\"}}},\"glyph\":{\"type\":\"object\",\"name\":\"Scatter\",\"id\":\"p1221\",\"attributes\":{\"x\":{\"type\":\"field\",\"field\":\"x\"},\"y\":{\"type\":\"field\",\"field\":\"y\"},\"line_color\":{\"type\":\"value\",\"value\":\"blue\"},\"fill_color\":{\"type\":\"value\",\"value\":\"blue\"},\"hatch_color\":{\"type\":\"value\",\"value\":\"blue\"}}},\"nonselection_glyph\":{\"type\":\"object\",\"name\":\"Scatter\",\"id\":\"p1222\",\"attributes\":{\"x\":{\"type\":\"field\",\"field\":\"x\"},\"y\":{\"type\":\"field\",\"field\":\"y\"},\"line_color\":{\"type\":\"value\",\"value\":\"blue\"},\"line_alpha\":{\"type\":\"value\",\"value\":0.1},\"fill_color\":{\"type\":\"value\",\"value\":\"blue\"},\"fill_alpha\":{\"type\":\"value\",\"value\":0.1},\"hatch_color\":{\"type\":\"value\",\"value\":\"blue\"},\"hatch_alpha\":{\"type\":\"value\",\"value\":0.1}}},\"muted_glyph\":{\"type\":\"object\",\"name\":\"Scatter\",\"id\":\"p1223\",\"attributes\":{\"x\":{\"type\":\"field\",\"field\":\"x\"},\"y\":{\"type\":\"field\",\"field\":\"y\"},\"line_color\":{\"type\":\"value\",\"value\":\"blue\"},\"line_alpha\":{\"type\":\"value\",\"value\":0.2},\"fill_color\":{\"type\":\"value\",\"value\":\"blue\"},\"fill_alpha\":{\"type\":\"value\",\"value\":0.2},\"hatch_color\":{\"type\":\"value\",\"value\":\"blue\"},\"hatch_alpha\":{\"type\":\"value\",\"value\":0.2}}}}},{\"type\":\"object\",\"name\":\"GlyphRenderer\",\"id\":\"p1233\",\"attributes\":{\"data_source\":{\"type\":\"object\",\"name\":\"ColumnDataSource\",\"id\":\"p1227\",\"attributes\":{\"selected\":{\"type\":\"object\",\"name\":\"Selection\",\"id\":\"p1228\",\"attributes\":{\"indices\":[],\"line_indices\":[]}},\"selection_policy\":{\"type\":\"object\",\"name\":\"UnionRenderers\",\"id\":\"p1229\"},\"data\":{\"type\":\"map\",\"entries\":[[\"x\",{\"type\":\"ndarray\",\"array\":{\"type\":\"bytes\",\"data\":\"VpNLLX+z8L+9FBbcIY0KwCxsN8F5GQvA3rbuIg0PCMDYaWMpRHDKv9wiYXQ9ZQvAupZKvmACBMC5QJtmjrX+vzar9J0AHhDANPq7ec5FB8Bw6moqUPDnv4Qsf4cjNfO/Av9mtnlB6L+Ta6Gfjlr8v7g/1sknghDAU+fllA8i97+yGYBTt4AJwN0DD0PbkQPAUZsmEYeL8L9AWQpDkAKhP+5GnlBUovW/hSwHhmcTAsAodtqN40wAwEL+gnC0Evm/hFyT/dBe3L/s10B56CAIwF4YnOpuVQXANk+fzJcOAcBy51Nt5Xz3v2R0WAcqQOu/qFcNZju08r8pt4XbHCUBwNKprZAnuvm/qpkYSl1m9L/nyqrr4owLwET2Y5fqOgDAUhQax4JSEcCwF4SrBnjgP3RHCdTQ1gfAcuFJncdUC8BaC7JKAdoEwAiw9PvCGca/B4mZ3mpC8b+M8lm8coT2v9162lO+rALAJP9uMI3a/b+fQ/zUmT8FwCFbNVxVuQDAiJSNs0Xg+b+6mLhmuxgCwJS8b6Z6lwPAUhEQsxJm4r95fMfe2aYPwNx3+l9La9y/jl3DskMN9L8QpB+eqXMBwLGTrmjR6gXAAtXsF1oDC8B/mJaV/3AJwNdGFHRYXfO/DQ9i7dlN9780/HxobOgHwCjcIs8m79i/ws+vt1GGAcDDLiWDE6jzv9gGqjKvAvq/DfbBTRvr+L/AZppV5rvJP35EM6L3Qvy/H3DXg7t3CMA/qDaIR0jwv9o7yNiKTum/aI/3ow+CEMBXyzOve44FwNx9bHUZJeS/k6iyefy0AMDUrxxLTH8AwMHqzIvoXAXAkjPHqPD3BMC+mWTromABwDPE5PGXBALANBPS4YMT8L9mbSlA1ZQDwIqiFRl0IQDA71wfegLe/L/id4TZasQHwONtNwHqmhTA367lAvlZ/b8XV6FtXVgDwCucGe1kYgPAXPJ3lO4/BsAyWrNE7E4HwAmGyDdPJvq/TX2hzMnM8b9Q6K75Zprwv3TOV+j9S/C/Uq2uMgxOA8DgZ8poYvb1v54s0GxNkPq/ACHHBY+S3b8=\"},\"shape\":[100],\"dtype\":\"float64\",\"order\":\"little\"}],[\"y\",{\"type\":\"ndarray\",\"array\":{\"type\":\"bytes\",\"data\":\"mbyPMnj1AcAO5DY7kbD8v6aefJw+BPW/cSvAi5ZCAcCleQoq23sNwCeI35KFMA3AdtBC3SL08L8byZFE3Rz7v5hPd0C4auW/AGh26v+9cz/cgfmOBrIGwGdstKrZAQTAWwOoAI7GC8A0OcB6c5UDwOxkaHCzxtC/QnoXs27KDMAgBqqN6Yn2v9hvFnw/Rec/fsJcwUOjCcAoacqTII4HwDJKhRNWOfC/eRBZPew5AcCN8gXTv7Tzv/xsjcRs0wjASEIVxia0CsA+HIAyOEXwv/Xb4twn1fu/LMiMW+jjCcAQk9Dcm0Xtv8IeinxWawvA8Oy3i138+78AxWqtYhAJwGwPXzmQswDAbCi0BtJN47+hRbNL5BLzv5psmx+XpeW/zDAzqQOyA8AgqJYulu8LwEzIbq3uJ9q/xoxqdA/9AsCqWrFYLm0MwDb01aTPqQnAL1vndp5qCcDQPWpccSr/v/IzSKYEvPy/7iAdCtcO+b8qnDAQRqT4v0gdwHvlX/m//66OlvD2BsC6IxP08GIKwDoBfZfU+gHA8mkv3kPi878UVfVrD9HSv+3PMNik7ATAzJ64fWI+/r//n1WlnCYHwATiiMRTRfy/KKPmdtVr4r9GkctKEWoHwLeV0KWMff6/gUf4DoWrAMCw4lwzzRPEv9qyKgxalQ3A/JFM/YfJ07/kcwVBxvYEwMXVNpYjqvq/QbhH6s4U+b+0B/RSDb0CwBIom/A4TATAas6+kezI+7+6A4pzc5cLwNZDZOJic/u/kjEMgOFb/L8M2kxTy0UEwFxcwukv0wDA/zv5zq7MBMBwx/bQFfzsv8/xZSZfPATAunZ4OYETCsAfYZ0bZRb1vwgRwAAUOfa/NUycZU7NAcBQhvSkUFzxv9efcM05vwTAM83esfGZ/b9Qo/NT9VD5v846SgATIv+/W/BJ8QgnBMAs1X++AywCwNZ0KOV6PwTA0PW7goBj/r+4pEj6k0v9vzDb82+pIte/XHEzMRdlDsBgpYp5xqsKwIKm+/E34QDAyXJnEwtaA8COa2g45z0AwOwSgrfdeQDAqCZ3K1WnAMA=\"},\"shape\":[100],\"dtype\":\"float64\",\"order\":\"little\"}]]}}},\"view\":{\"type\":\"object\",\"name\":\"CDSView\",\"id\":\"p1234\",\"attributes\":{\"filter\":{\"type\":\"object\",\"name\":\"AllIndices\",\"id\":\"p1235\"}}},\"glyph\":{\"type\":\"object\",\"name\":\"Scatter\",\"id\":\"p1230\",\"attributes\":{\"x\":{\"type\":\"field\",\"field\":\"x\"},\"y\":{\"type\":\"field\",\"field\":\"y\"},\"line_color\":{\"type\":\"value\",\"value\":\"green\"},\"fill_color\":{\"type\":\"value\",\"value\":\"green\"},\"hatch_color\":{\"type\":\"value\",\"value\":\"green\"}}},\"nonselection_glyph\":{\"type\":\"object\",\"name\":\"Scatter\",\"id\":\"p1231\",\"attributes\":{\"x\":{\"type\":\"field\",\"field\":\"x\"},\"y\":{\"type\":\"field\",\"field\":\"y\"},\"line_color\":{\"type\":\"value\",\"value\":\"green\"},\"line_alpha\":{\"type\":\"value\",\"value\":0.1},\"fill_color\":{\"type\":\"value\",\"value\":\"green\"},\"fill_alpha\":{\"type\":\"value\",\"value\":0.1},\"hatch_color\":{\"type\":\"value\",\"value\":\"green\"},\"hatch_alpha\":{\"type\":\"value\",\"value\":0.1}}},\"muted_glyph\":{\"type\":\"object\",\"name\":\"Scatter\",\"id\":\"p1232\",\"attributes\":{\"x\":{\"type\":\"field\",\"field\":\"x\"},\"y\":{\"type\":\"field\",\"field\":\"y\"},\"line_color\":{\"type\":\"value\",\"value\":\"green\"},\"line_alpha\":{\"type\":\"value\",\"value\":0.2},\"fill_color\":{\"type\":\"value\",\"value\":\"green\"},\"fill_alpha\":{\"type\":\"value\",\"value\":0.2},\"hatch_color\":{\"type\":\"value\",\"value\":\"green\"},\"hatch_alpha\":{\"type\":\"value\",\"value\":0.2}}}}}],\"toolbar\":{\"type\":\"object\",\"name\":\"Toolbar\",\"id\":\"p1185\",\"attributes\":{\"tools\":[{\"type\":\"object\",\"name\":\"PanTool\",\"id\":\"p1198\"},{\"type\":\"object\",\"name\":\"WheelZoomTool\",\"id\":\"p1199\",\"attributes\":{\"renderers\":\"auto\"}},{\"type\":\"object\",\"name\":\"BoxZoomTool\",\"id\":\"p1200\",\"attributes\":{\"overlay\":{\"type\":\"object\",\"name\":\"BoxAnnotation\",\"id\":\"p1201\",\"attributes\":{\"syncable\":false,\"level\":\"overlay\",\"visible\":false,\"left\":{\"type\":\"number\",\"value\":\"nan\"},\"right\":{\"type\":\"number\",\"value\":\"nan\"},\"top\":{\"type\":\"number\",\"value\":\"nan\"},\"bottom\":{\"type\":\"number\",\"value\":\"nan\"},\"left_units\":\"canvas\",\"right_units\":\"canvas\",\"top_units\":\"canvas\",\"bottom_units\":\"canvas\",\"line_color\":\"black\",\"line_alpha\":1.0,\"line_width\":2,\"line_dash\":[4,4],\"fill_color\":\"lightgrey\",\"fill_alpha\":0.5}}}},{\"type\":\"object\",\"name\":\"SaveTool\",\"id\":\"p1206\"},{\"type\":\"object\",\"name\":\"ResetTool\",\"id\":\"p1207\"},{\"type\":\"object\",\"name\":\"HelpTool\",\"id\":\"p1208\"}]}},\"left\":[{\"type\":\"object\",\"name\":\"LinearAxis\",\"id\":\"p1193\",\"attributes\":{\"ticker\":{\"type\":\"object\",\"name\":\"BasicTicker\",\"id\":\"p1194\",\"attributes\":{\"mantissas\":[1,2,5]}},\"formatter\":{\"type\":\"object\",\"name\":\"BasicTickFormatter\",\"id\":\"p1195\"},\"major_label_policy\":{\"type\":\"object\",\"name\":\"AllLabels\",\"id\":\"p1196\"}}}],\"below\":[{\"type\":\"object\",\"name\":\"LinearAxis\",\"id\":\"p1188\",\"attributes\":{\"ticker\":{\"type\":\"object\",\"name\":\"BasicTicker\",\"id\":\"p1189\",\"attributes\":{\"mantissas\":[1,2,5]}},\"formatter\":{\"type\":\"object\",\"name\":\"BasicTickFormatter\",\"id\":\"p1190\"},\"major_label_policy\":{\"type\":\"object\",\"name\":\"AllLabels\",\"id\":\"p1191\"}}}],\"center\":[{\"type\":\"object\",\"name\":\"Grid\",\"id\":\"p1192\",\"attributes\":{\"axis\":{\"id\":\"p1188\"}}},{\"type\":\"object\",\"name\":\"Grid\",\"id\":\"p1197\",\"attributes\":{\"dimension\":1,\"axis\":{\"id\":\"p1193\"}}}]}}]}};\n  const render_items = [{\"docid\":\"9b2cfdca-6922-40e8-9a9c-7449d45fa45e\",\"roots\":{\"p1177\":\"ba74ee7d-5ed8-4a06-a3db-c23045210c1d\"},\"root_ids\":[\"p1177\"]}];\n  root.Bokeh.embed.embed_items_notebook(docs_json, render_items);\n  }\n  if (root.Bokeh !== undefined) {\n    embed_document(root);\n  } else {\n    let attempts = 0;\n    const timer = setInterval(function(root) {\n      if (root.Bokeh !== undefined) {\n        clearInterval(timer);\n        embed_document(root);\n      } else {\n        attempts++;\n        if (attempts > 100) {\n          clearInterval(timer);\n          console.log(\"Bokeh: ERROR: Unable to run BokehJS code because BokehJS library is missing\");\n        }\n      }\n    }, 10, root)\n  }\n})(window);",
      "application/vnd.bokehjs_exec.v0+json": ""
     },
     "metadata": {
      "application/vnd.bokehjs_exec.v0+json": {
       "id": "p1177"
      }
     },
     "output_type": "display_data"
    }
   ],
   "source": [
    "F = figure()\n",
    "F.scatter(x=x0[:,0],y=x0[:,1],color='red')\n",
    "F.scatter(x=x1[:,0],y=x1[:,1],color='blue')\n",
    "F.scatter(x=x2[:,0],y=x2[:,1],color='green')\n",
    "show(F)\n"
   ]
  },
  {
   "cell_type": "code",
   "execution_count": 16,
   "metadata": {},
   "outputs": [
    {
     "data": {
      "text/html": [
       "<style>#sk-container-id-2 {color: black;}#sk-container-id-2 pre{padding: 0;}#sk-container-id-2 div.sk-toggleable {background-color: white;}#sk-container-id-2 label.sk-toggleable__label {cursor: pointer;display: block;width: 100%;margin-bottom: 0;padding: 0.3em;box-sizing: border-box;text-align: center;}#sk-container-id-2 label.sk-toggleable__label-arrow:before {content: \"▸\";float: left;margin-right: 0.25em;color: #696969;}#sk-container-id-2 label.sk-toggleable__label-arrow:hover:before {color: black;}#sk-container-id-2 div.sk-estimator:hover label.sk-toggleable__label-arrow:before {color: black;}#sk-container-id-2 div.sk-toggleable__content {max-height: 0;max-width: 0;overflow: hidden;text-align: left;background-color: #f0f8ff;}#sk-container-id-2 div.sk-toggleable__content pre {margin: 0.2em;color: black;border-radius: 0.25em;background-color: #f0f8ff;}#sk-container-id-2 input.sk-toggleable__control:checked~div.sk-toggleable__content {max-height: 200px;max-width: 100%;overflow: auto;}#sk-container-id-2 input.sk-toggleable__control:checked~label.sk-toggleable__label-arrow:before {content: \"▾\";}#sk-container-id-2 div.sk-estimator input.sk-toggleable__control:checked~label.sk-toggleable__label {background-color: #d4ebff;}#sk-container-id-2 div.sk-label input.sk-toggleable__control:checked~label.sk-toggleable__label {background-color: #d4ebff;}#sk-container-id-2 input.sk-hidden--visually {border: 0;clip: rect(1px 1px 1px 1px);clip: rect(1px, 1px, 1px, 1px);height: 1px;margin: -1px;overflow: hidden;padding: 0;position: absolute;width: 1px;}#sk-container-id-2 div.sk-estimator {font-family: monospace;background-color: #f0f8ff;border: 1px dotted black;border-radius: 0.25em;box-sizing: border-box;margin-bottom: 0.5em;}#sk-container-id-2 div.sk-estimator:hover {background-color: #d4ebff;}#sk-container-id-2 div.sk-parallel-item::after {content: \"\";width: 100%;border-bottom: 1px solid gray;flex-grow: 1;}#sk-container-id-2 div.sk-label:hover label.sk-toggleable__label {background-color: #d4ebff;}#sk-container-id-2 div.sk-serial::before {content: \"\";position: absolute;border-left: 1px solid gray;box-sizing: border-box;top: 0;bottom: 0;left: 50%;z-index: 0;}#sk-container-id-2 div.sk-serial {display: flex;flex-direction: column;align-items: center;background-color: white;padding-right: 0.2em;padding-left: 0.2em;position: relative;}#sk-container-id-2 div.sk-item {position: relative;z-index: 1;}#sk-container-id-2 div.sk-parallel {display: flex;align-items: stretch;justify-content: center;background-color: white;position: relative;}#sk-container-id-2 div.sk-item::before, #sk-container-id-2 div.sk-parallel-item::before {content: \"\";position: absolute;border-left: 1px solid gray;box-sizing: border-box;top: 0;bottom: 0;left: 50%;z-index: -1;}#sk-container-id-2 div.sk-parallel-item {display: flex;flex-direction: column;z-index: 1;position: relative;background-color: white;}#sk-container-id-2 div.sk-parallel-item:first-child::after {align-self: flex-end;width: 50%;}#sk-container-id-2 div.sk-parallel-item:last-child::after {align-self: flex-start;width: 50%;}#sk-container-id-2 div.sk-parallel-item:only-child::after {width: 0;}#sk-container-id-2 div.sk-dashed-wrapped {border: 1px dashed gray;margin: 0 0.4em 0.5em 0.4em;box-sizing: border-box;padding-bottom: 0.4em;background-color: white;}#sk-container-id-2 div.sk-label label {font-family: monospace;font-weight: bold;display: inline-block;line-height: 1.2em;}#sk-container-id-2 div.sk-label-container {text-align: center;}#sk-container-id-2 div.sk-container {/* jupyter's `normalize.less` sets `[hidden] { display: none; }` but bootstrap.min.css set `[hidden] { display: none !important; }` so we also need the `!important` here to be able to override the default hidden behavior on the sphinx rendered scikit-learn.org. See: https://github.com/scikit-learn/scikit-learn/issues/21755 */display: inline-block !important;position: relative;}#sk-container-id-2 div.sk-text-repr-fallback {display: none;}</style><div id=\"sk-container-id-2\" class=\"sk-top-container\"><div class=\"sk-text-repr-fallback\"><pre>KNeighborsClassifier()</pre><b>In a Jupyter environment, please rerun this cell to show the HTML representation or trust the notebook. <br />On GitHub, the HTML representation is unable to render, please try loading this page with nbviewer.org.</b></div><div class=\"sk-container\" hidden><div class=\"sk-item\"><div class=\"sk-estimator sk-toggleable\"><input class=\"sk-toggleable__control sk-hidden--visually\" id=\"sk-estimator-id-2\" type=\"checkbox\" checked><label for=\"sk-estimator-id-2\" class=\"sk-toggleable__label sk-toggleable__label-arrow\">KNeighborsClassifier</label><div class=\"sk-toggleable__content\"><pre>KNeighborsClassifier()</pre></div></div></div></div></div>"
      ],
      "text/plain": [
       "KNeighborsClassifier()"
      ]
     },
     "execution_count": 16,
     "metadata": {},
     "output_type": "execute_result"
    }
   ],
   "source": [
    "from sklearn.neighbors import KNeighborsClassifier\n",
    "colors = ['red','blue','green']\n",
    "X = np.vstack([x0,x1,x2])\n",
    "Y = np.array([0]*100+[1]*100+[2]*100)\n",
    "training_data = ColumnDataSource(data=dict(x=X[:,0],y=X[:,1],color=['red']*100+['blue']*100+['green']*100))\n",
    "\n",
    "\n",
    "KN = KNeighborsClassifier(n_neighbors=5)\n",
    "KN.fit(X,Y)\n",
    "KN"
   ]
  },
  {
   "cell_type": "code",
   "execution_count": 17,
   "metadata": {},
   "outputs": [],
   "source": [
    "y0 = np.random.multivariate_normal([0, 0], [[1, .75],[.75, 1]], 10)\n",
    "y1 = np.random.multivariate_normal([1, -4], [[1, 0],[0, 1]], 10)\n",
    "y2 = np.random.multivariate_normal([-2,-2],[[1,-.5],[-.5,1]],10)"
   ]
  },
  {
   "cell_type": "code",
   "execution_count": 27,
   "metadata": {},
   "outputs": [
    {
     "data": {
      "text/plain": [
       "array([211, 264, 200, 281,  83])"
      ]
     },
     "execution_count": 27,
     "metadata": {},
     "output_type": "execute_result"
    }
   ],
   "source": [
    "test = np.array([-1,-2.5]).reshape(1,2)\n",
    "predicted = KN.predict(test)\n",
    "neighbors = KN.kneighbors(test)\n",
    "neighbors[1][0]"
   ]
  },
  {
   "cell_type": "code",
   "execution_count": 28,
   "metadata": {},
   "outputs": [
    {
     "name": "stdout",
     "output_type": "stream",
     "text": [
      "     x    y  color\n",
      "0 -1.0 -2.5  green\n",
      "[[211 264 200 281  83]]\n"
     ]
    },
    {
     "data": {
      "text/html": [
       "\n",
       "  <div id=\"f7f9f3f0-2f80-4a2c-aff9-4e5ec017f104\" data-root-id=\"p1313\" style=\"display: contents;\"></div>\n"
      ]
     },
     "metadata": {},
     "output_type": "display_data"
    },
    {
     "data": {
      "application/javascript": "(function(root) {\n  function embed_document(root) {\n  const docs_json = {\"612adf90-9b16-4ae2-a770-3bebf89ff2f4\":{\"version\":\"3.3.4\",\"title\":\"Bokeh Application\",\"roots\":[{\"type\":\"object\",\"name\":\"Figure\",\"id\":\"p1313\",\"attributes\":{\"x_range\":{\"type\":\"object\",\"name\":\"DataRange1d\",\"id\":\"p1314\"},\"y_range\":{\"type\":\"object\",\"name\":\"DataRange1d\",\"id\":\"p1315\"},\"x_scale\":{\"type\":\"object\",\"name\":\"LinearScale\",\"id\":\"p1322\"},\"y_scale\":{\"type\":\"object\",\"name\":\"LinearScale\",\"id\":\"p1323\"},\"title\":{\"type\":\"object\",\"name\":\"Title\",\"id\":\"p1320\"},\"renderers\":[{\"type\":\"object\",\"name\":\"GlyphRenderer\",\"id\":\"p1351\",\"attributes\":{\"data_source\":{\"type\":\"object\",\"name\":\"ColumnDataSource\",\"id\":\"p1310\",\"attributes\":{\"selected\":{\"type\":\"object\",\"name\":\"Selection\",\"id\":\"p1311\",\"attributes\":{\"indices\":[],\"line_indices\":[]}},\"selection_policy\":{\"type\":\"object\",\"name\":\"UnionRenderers\",\"id\":\"p1312\"},\"data\":{\"type\":\"map\",\"entries\":[[\"x\",{\"type\":\"ndarray\",\"array\":{\"type\":\"bytes\",\"data\":\"AAAAAAAA8L8=\"},\"shape\":[1],\"dtype\":\"float64\",\"order\":\"little\"}],[\"y\",{\"type\":\"ndarray\",\"array\":{\"type\":\"bytes\",\"data\":\"AAAAAAAABMA=\"},\"shape\":[1],\"dtype\":\"float64\",\"order\":\"little\"}],[\"color\",[\"green\"]]]}}},\"view\":{\"type\":\"object\",\"name\":\"CDSView\",\"id\":\"p1352\",\"attributes\":{\"filter\":{\"type\":\"object\",\"name\":\"AllIndices\",\"id\":\"p1353\"}}},\"glyph\":{\"type\":\"object\",\"name\":\"Scatter\",\"id\":\"p1348\",\"attributes\":{\"x\":{\"type\":\"field\",\"field\":\"x\"},\"y\":{\"type\":\"field\",\"field\":\"y\"},\"size\":{\"type\":\"value\",\"value\":10},\"line_color\":{\"type\":\"field\",\"field\":\"color\"},\"fill_color\":{\"type\":\"field\",\"field\":\"color\"},\"hatch_color\":{\"type\":\"field\",\"field\":\"color\"}}},\"nonselection_glyph\":{\"type\":\"object\",\"name\":\"Scatter\",\"id\":\"p1349\",\"attributes\":{\"x\":{\"type\":\"field\",\"field\":\"x\"},\"y\":{\"type\":\"field\",\"field\":\"y\"},\"size\":{\"type\":\"value\",\"value\":10},\"line_color\":{\"type\":\"field\",\"field\":\"color\"},\"line_alpha\":{\"type\":\"value\",\"value\":0.1},\"fill_color\":{\"type\":\"field\",\"field\":\"color\"},\"fill_alpha\":{\"type\":\"value\",\"value\":0.1},\"hatch_color\":{\"type\":\"field\",\"field\":\"color\"},\"hatch_alpha\":{\"type\":\"value\",\"value\":0.1}}},\"muted_glyph\":{\"type\":\"object\",\"name\":\"Scatter\",\"id\":\"p1350\",\"attributes\":{\"x\":{\"type\":\"field\",\"field\":\"x\"},\"y\":{\"type\":\"field\",\"field\":\"y\"},\"size\":{\"type\":\"value\",\"value\":10},\"line_color\":{\"type\":\"field\",\"field\":\"color\"},\"line_alpha\":{\"type\":\"value\",\"value\":0.2},\"fill_color\":{\"type\":\"field\",\"field\":\"color\"},\"fill_alpha\":{\"type\":\"value\",\"value\":0.2},\"hatch_color\":{\"type\":\"field\",\"field\":\"color\"},\"hatch_alpha\":{\"type\":\"value\",\"value\":0.2}}}}},{\"type\":\"object\",\"name\":\"GlyphRenderer\",\"id\":\"p1360\",\"attributes\":{\"data_source\":{\"type\":\"object\",\"name\":\"ColumnDataSource\",\"id\":\"p1174\",\"attributes\":{\"selected\":{\"type\":\"object\",\"name\":\"Selection\",\"id\":\"p1175\",\"attributes\":{\"indices\":[],\"line_indices\":[]}},\"selection_policy\":{\"type\":\"object\",\"name\":\"UnionRenderers\",\"id\":\"p1176\"},\"data\":{\"type\":\"map\",\"entries\":[[\"x\",{\"type\":\"ndarray\",\"array\":{\"type\":\"bytes\",\"data\":\"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\"},\"shape\":[300],\"dtype\":\"float64\",\"order\":\"little\"}],[\"y\",{\"type\":\"ndarray\",\"array\":{\"type\":\"bytes\",\"data\":\"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\"},\"shape\":[300],\"dtype\":\"float64\",\"order\":\"little\"}],[\"color\",[\"red\",\"red\",\"red\",\"red\",\"red\",\"red\",\"red\",\"red\",\"red\",\"red\",\"red\",\"red\",\"red\",\"red\",\"red\",\"red\",\"red\",\"red\",\"red\",\"red\",\"red\",\"red\",\"red\",\"red\",\"red\",\"red\",\"red\",\"red\",\"red\",\"red\",\"red\",\"red\",\"red\",\"red\",\"red\",\"red\",\"red\",\"red\",\"red\",\"red\",\"red\",\"red\",\"red\",\"red\",\"red\",\"red\",\"red\",\"red\",\"red\",\"red\",\"red\",\"red\",\"red\",\"red\",\"red\",\"red\",\"red\",\"red\",\"red\",\"red\",\"red\",\"red\",\"red\",\"red\",\"red\",\"red\",\"red\",\"red\",\"red\",\"red\",\"red\",\"red\",\"red\",\"red\",\"red\",\"red\",\"red\",\"red\",\"red\",\"red\",\"red\",\"red\",\"red\",\"red\",\"red\",\"red\",\"red\",\"red\",\"red\",\"red\",\"red\",\"red\",\"red\",\"red\",\"red\",\"red\",\"red\",\"red\",\"red\",\"red\",\"blue\",\"blue\",\"blue\",\"blue\",\"blue\",\"blue\",\"blue\",\"blue\",\"blue\",\"blue\",\"blue\",\"blue\",\"blue\",\"blue\",\"blue\",\"blue\",\"blue\",\"blue\",\"blue\",\"blue\",\"blue\",\"blue\",\"blue\",\"blue\",\"blue\",\"blue\",\"blue\",\"blue\",\"blue\",\"blue\",\"blue\",\"blue\",\"blue\",\"blue\",\"blue\",\"blue\",\"blue\",\"blue\",\"blue\",\"blue\",\"blue\",\"blue\",\"blue\",\"blue\",\"blue\",\"blue\",\"blue\",\"blue\",\"blue\",\"blue\",\"blue\",\"blue\",\"blue\",\"blue\",\"blue\",\"blue\",\"blue\",\"blue\",\"blue\",\"blue\",\"blue\",\"blue\",\"blue\",\"blue\",\"blue\",\"blue\",\"blue\",\"blue\",\"blue\",\"blue\",\"blue\",\"blue\",\"blue\",\"blue\",\"blue\",\"blue\",\"blue\",\"blue\",\"blue\",\"blue\",\"blue\",\"blue\",\"blue\",\"blue\",\"blue\",\"blue\",\"blue\",\"blue\",\"blue\",\"blue\",\"blue\",\"blue\",\"blue\",\"blue\",\"blue\",\"blue\",\"blue\",\"blue\",\"blue\",\"blue\",\"green\",\"green\",\"green\",\"green\",\"green\",\"green\",\"green\",\"green\",\"green\",\"green\",\"green\",\"green\",\"green\",\"green\",\"green\",\"green\",\"green\",\"green\",\"green\",\"green\",\"green\",\"green\",\"green\",\"green\",\"green\",\"green\",\"green\",\"green\",\"green\",\"green\",\"green\",\"green\",\"green\",\"green\",\"green\",\"green\",\"green\",\"green\",\"green\",\"green\",\"green\",\"green\",\"green\",\"green\",\"green\",\"green\",\"green\",\"green\",\"green\",\"green\",\"green\",\"green\",\"green\",\"green\",\"green\",\"green\",\"green\",\"green\",\"green\",\"green\",\"green\",\"green\",\"green\",\"green\",\"green\",\"green\",\"green\",\"green\",\"green\",\"green\",\"green\",\"green\",\"green\",\"green\",\"green\",\"green\",\"green\",\"green\",\"green\",\"green\",\"green\",\"green\",\"green\",\"green\",\"green\",\"green\",\"green\",\"green\",\"green\",\"green\",\"green\",\"green\",\"green\",\"green\",\"green\",\"green\",\"green\",\"green\",\"green\",\"green\"]]]}}},\"view\":{\"type\":\"object\",\"name\":\"CDSView\",\"id\":\"p1361\",\"attributes\":{\"filter\":{\"type\":\"object\",\"name\":\"AllIndices\",\"id\":\"p1362\"}}},\"glyph\":{\"type\":\"object\",\"name\":\"Scatter\",\"id\":\"p1357\",\"attributes\":{\"x\":{\"type\":\"field\",\"field\":\"x\"},\"y\":{\"type\":\"field\",\"field\":\"y\"},\"line_color\":{\"type\":\"field\",\"field\":\"color\"},\"fill_color\":{\"type\":\"field\",\"field\":\"color\"},\"hatch_color\":{\"type\":\"field\",\"field\":\"color\"}}},\"nonselection_glyph\":{\"type\":\"object\",\"name\":\"Scatter\",\"id\":\"p1358\",\"attributes\":{\"x\":{\"type\":\"field\",\"field\":\"x\"},\"y\":{\"type\":\"field\",\"field\":\"y\"},\"line_color\":{\"type\":\"field\",\"field\":\"color\"},\"line_alpha\":{\"type\":\"value\",\"value\":0.1},\"fill_color\":{\"type\":\"field\",\"field\":\"color\"},\"fill_alpha\":{\"type\":\"value\",\"value\":0.1},\"hatch_color\":{\"type\":\"field\",\"field\":\"color\"},\"hatch_alpha\":{\"type\":\"value\",\"value\":0.1}}},\"muted_glyph\":{\"type\":\"object\",\"name\":\"Scatter\",\"id\":\"p1359\",\"attributes\":{\"x\":{\"type\":\"field\",\"field\":\"x\"},\"y\":{\"type\":\"field\",\"field\":\"y\"},\"line_color\":{\"type\":\"field\",\"field\":\"color\"},\"line_alpha\":{\"type\":\"value\",\"value\":0.2},\"fill_color\":{\"type\":\"field\",\"field\":\"color\"},\"fill_alpha\":{\"type\":\"value\",\"value\":0.2},\"hatch_color\":{\"type\":\"field\",\"field\":\"color\"},\"hatch_alpha\":{\"type\":\"value\",\"value\":0.2}}}}},{\"type\":\"object\",\"name\":\"GlyphRenderer\",\"id\":\"p1369\",\"attributes\":{\"data_source\":{\"type\":\"object\",\"name\":\"ColumnDataSource\",\"id\":\"p1363\",\"attributes\":{\"selected\":{\"type\":\"object\",\"name\":\"Selection\",\"id\":\"p1364\",\"attributes\":{\"indices\":[],\"line_indices\":[]}},\"selection_policy\":{\"type\":\"object\",\"name\":\"UnionRenderers\",\"id\":\"p1365\"},\"data\":{\"type\":\"map\",\"entries\":[[\"x\",{\"type\":\"ndarray\",\"array\":{\"type\":\"bytes\",\"data\":\"hCx/hyM187/DLiWDE6jzv1aTSy1/s/C/NBPS4YMT8L+c8pRPNSz0vw==\"},\"shape\":[5],\"dtype\":\"float64\",\"order\":\"little\"}],[\"y\",{\"type\":\"ndarray\",\"array\":{\"type\":\"bytes\",\"data\":\"Z2y0qtkBBMDkcwVBxvYEwJm8jzJ49QHANUycZU7NAcAfvaYTrGcCwA==\"},\"shape\":[5],\"dtype\":\"float64\",\"order\":\"little\"}]]}}},\"view\":{\"type\":\"object\",\"name\":\"CDSView\",\"id\":\"p1370\",\"attributes\":{\"filter\":{\"type\":\"object\",\"name\":\"AllIndices\",\"id\":\"p1371\"}}},\"glyph\":{\"type\":\"object\",\"name\":\"Scatter\",\"id\":\"p1366\",\"attributes\":{\"x\":{\"type\":\"field\",\"field\":\"x\"},\"y\":{\"type\":\"field\",\"field\":\"y\"},\"size\":{\"type\":\"value\",\"value\":10},\"line_color\":{\"type\":\"value\",\"value\":\"#1f77b4\"},\"line_alpha\":{\"type\":\"value\",\"value\":0.3},\"fill_color\":{\"type\":\"value\",\"value\":\"#1f77b4\"},\"fill_alpha\":{\"type\":\"value\",\"value\":0.3},\"hatch_alpha\":{\"type\":\"value\",\"value\":0.3}}},\"nonselection_glyph\":{\"type\":\"object\",\"name\":\"Scatter\",\"id\":\"p1367\",\"attributes\":{\"x\":{\"type\":\"field\",\"field\":\"x\"},\"y\":{\"type\":\"field\",\"field\":\"y\"},\"size\":{\"type\":\"value\",\"value\":10},\"line_color\":{\"type\":\"value\",\"value\":\"#1f77b4\"},\"line_alpha\":{\"type\":\"value\",\"value\":0.1},\"fill_color\":{\"type\":\"value\",\"value\":\"#1f77b4\"},\"fill_alpha\":{\"type\":\"value\",\"value\":0.1},\"hatch_alpha\":{\"type\":\"value\",\"value\":0.1}}},\"muted_glyph\":{\"type\":\"object\",\"name\":\"Scatter\",\"id\":\"p1368\",\"attributes\":{\"x\":{\"type\":\"field\",\"field\":\"x\"},\"y\":{\"type\":\"field\",\"field\":\"y\"},\"size\":{\"type\":\"value\",\"value\":10},\"line_color\":{\"type\":\"value\",\"value\":\"#1f77b4\"},\"line_alpha\":{\"type\":\"value\",\"value\":0.2},\"fill_color\":{\"type\":\"value\",\"value\":\"#1f77b4\"},\"fill_alpha\":{\"type\":\"value\",\"value\":0.2},\"hatch_alpha\":{\"type\":\"value\",\"value\":0.2}}}}}],\"toolbar\":{\"type\":\"object\",\"name\":\"Toolbar\",\"id\":\"p1321\",\"attributes\":{\"tools\":[{\"type\":\"object\",\"name\":\"PanTool\",\"id\":\"p1334\"},{\"type\":\"object\",\"name\":\"WheelZoomTool\",\"id\":\"p1335\",\"attributes\":{\"renderers\":\"auto\"}},{\"type\":\"object\",\"name\":\"BoxZoomTool\",\"id\":\"p1336\",\"attributes\":{\"overlay\":{\"type\":\"object\",\"name\":\"BoxAnnotation\",\"id\":\"p1337\",\"attributes\":{\"syncable\":false,\"level\":\"overlay\",\"visible\":false,\"left\":{\"type\":\"number\",\"value\":\"nan\"},\"right\":{\"type\":\"number\",\"value\":\"nan\"},\"top\":{\"type\":\"number\",\"value\":\"nan\"},\"bottom\":{\"type\":\"number\",\"value\":\"nan\"},\"left_units\":\"canvas\",\"right_units\":\"canvas\",\"top_units\":\"canvas\",\"bottom_units\":\"canvas\",\"line_color\":\"black\",\"line_alpha\":1.0,\"line_width\":2,\"line_dash\":[4,4],\"fill_color\":\"lightgrey\",\"fill_alpha\":0.5}}}},{\"type\":\"object\",\"name\":\"SaveTool\",\"id\":\"p1342\"},{\"type\":\"object\",\"name\":\"ResetTool\",\"id\":\"p1343\"},{\"type\":\"object\",\"name\":\"HelpTool\",\"id\":\"p1344\"}]}},\"left\":[{\"type\":\"object\",\"name\":\"LinearAxis\",\"id\":\"p1329\",\"attributes\":{\"ticker\":{\"type\":\"object\",\"name\":\"BasicTicker\",\"id\":\"p1330\",\"attributes\":{\"mantissas\":[1,2,5]}},\"formatter\":{\"type\":\"object\",\"name\":\"BasicTickFormatter\",\"id\":\"p1331\"},\"major_label_policy\":{\"type\":\"object\",\"name\":\"AllLabels\",\"id\":\"p1332\"}}}],\"below\":[{\"type\":\"object\",\"name\":\"LinearAxis\",\"id\":\"p1324\",\"attributes\":{\"ticker\":{\"type\":\"object\",\"name\":\"BasicTicker\",\"id\":\"p1325\",\"attributes\":{\"mantissas\":[1,2,5]}},\"formatter\":{\"type\":\"object\",\"name\":\"BasicTickFormatter\",\"id\":\"p1326\"},\"major_label_policy\":{\"type\":\"object\",\"name\":\"AllLabels\",\"id\":\"p1327\"}}}],\"center\":[{\"type\":\"object\",\"name\":\"Grid\",\"id\":\"p1328\",\"attributes\":{\"axis\":{\"id\":\"p1324\"}}},{\"type\":\"object\",\"name\":\"Grid\",\"id\":\"p1333\",\"attributes\":{\"dimension\":1,\"axis\":{\"id\":\"p1329\"}}}]}}]}};\n  const render_items = [{\"docid\":\"612adf90-9b16-4ae2-a770-3bebf89ff2f4\",\"roots\":{\"p1313\":\"f7f9f3f0-2f80-4a2c-aff9-4e5ec017f104\"},\"root_ids\":[\"p1313\"]}];\n  root.Bokeh.embed.embed_items_notebook(docs_json, render_items);\n  }\n  if (root.Bokeh !== undefined) {\n    embed_document(root);\n  } else {\n    let attempts = 0;\n    const timer = setInterval(function(root) {\n      if (root.Bokeh !== undefined) {\n        clearInterval(timer);\n        embed_document(root);\n      } else {\n        attempts++;\n        if (attempts > 100) {\n          clearInterval(timer);\n          console.log(\"Bokeh: ERROR: Unable to run BokehJS code because BokehJS library is missing\");\n        }\n      }\n    }, 10, root)\n  }\n})(window);",
      "application/vnd.bokehjs_exec.v0+json": ""
     },
     "metadata": {
      "application/vnd.bokehjs_exec.v0+json": {
       "id": "p1313"
      }
     },
     "output_type": "display_data"
    }
   ],
   "source": [
    "\n",
    "datadict = {'x':test[:,0],'y':test[:,1],'color':[colors[i] for i in predicted]}\n",
    "source = ColumnDataSource(data=datadict)\n",
    "print(source.to_df())\n",
    "print(neighbors[1])\n",
    "G=figure()\n",
    "G.scatter(x='x',y='y',color='color',source=source,size=10)\n",
    "G.scatter(x='x',y='y',color='color',source=training_data)\n",
    "G.scatter(x=X[neighbors[1][0]][:,0],y=X[neighbors[1][0]][:,1],size=10,alpha=.3)\n",
    "\n",
    "show(G)"
   ]
  },
  {
   "cell_type": "code",
   "execution_count": null,
   "metadata": {},
   "outputs": [],
   "source": []
  },
  {
   "cell_type": "code",
   "execution_count": null,
   "metadata": {},
   "outputs": [],
   "source": []
  },
  {
   "cell_type": "code",
   "execution_count": null,
   "metadata": {},
   "outputs": [],
   "source": []
  }
 ],
 "metadata": {
  "kernelspec": {
   "display_name": "torch",
   "language": "python",
   "name": "torch"
  },
  "language_info": {
   "codemirror_mode": {
    "name": "ipython",
    "version": 3
   },
   "file_extension": ".py",
   "mimetype": "text/x-python",
   "name": "python",
   "nbconvert_exporter": "python",
   "pygments_lexer": "ipython3",
   "version": "3.12.1"
  }
 },
 "nbformat": 4,
 "nbformat_minor": 2
}
