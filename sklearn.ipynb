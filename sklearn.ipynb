{
 "cells": [
  {
   "cell_type": "markdown",
   "metadata": {},
   "source": [
    "## A look at some of the algorithms in the sklearn library\n",
    "\n",
    "The scikit-learning library has a large collection of algorithms useful for machine learning and optimization.  Here are few examples of the things you can do."
   ]
  },
  {
   "cell_type": "markdown",
   "metadata": {},
   "source": [
    "### Linear Regression"
   ]
  },
  {
   "cell_type": "code",
   "execution_count": 73,
   "metadata": {},
   "outputs": [
    {
     "data": {
      "text/html": [
       "<style>\n",
       "        .bk-notebook-logo {\n",
       "            display: block;\n",
       "            width: 20px;\n",
       "            height: 20px;\n",
       "            background-image: url(data:image/png;base64,iVBORw0KGgoAAAANSUhEUgAAABQAAAAUCAYAAACNiR0NAAAABHNCSVQICAgIfAhkiAAAAAlwSFlzAAALEgAACxIB0t1+/AAAABx0RVh0U29mdHdhcmUAQWRvYmUgRmlyZXdvcmtzIENTNui8sowAAAOkSURBVDiNjZRtaJVlGMd/1/08zzln5zjP1LWcU9N0NkN8m2CYjpgQYQXqSs0I84OLIC0hkEKoPtiH3gmKoiJDU7QpLgoLjLIQCpEsNJ1vqUOdO7ppbuec5+V+rj4ctwzd8IIbbi6u+8f1539dt3A78eXC7QizUF7gyV1fD1Yqg4JWz84yffhm0qkFqBogB9rM8tZdtwVsPUhWhGcFJngGeWrPzHm5oaMmkfEg1usvLFyc8jLRqDOMru7AyC8saQr7GG7f5fvDeH7Ej8CM66nIF+8yngt6HWaKh7k49Soy9nXurCi1o3qUbS3zWfrYeQDTB/Qj6kX6Ybhw4B+bOYoLKCC9H3Nu/leUTZ1JdRWkkn2ldcCamzrcf47KKXdAJllSlxAOkRgyHsGC/zRday5Qld9DyoM4/q/rUoy/CXh3jzOu3bHUVZeU+DEn8FInkPBFlu3+nW3Nw0mk6vCDiWg8CeJaxEwuHS3+z5RgY+YBR6V1Z1nxSOfoaPa4LASWxxdNp+VWTk7+4vzaou8v8PN+xo+KY2xsw6une2frhw05CTYOmQvsEhjhWjn0bmXPjpE1+kplmmkP3suftwTubK9Vq22qKmrBhpY4jvd5afdRA3wGjFAgcnTK2s4hY0/GPNIb0nErGMCRxWOOX64Z8RAC4oCXdklmEvcL8o0BfkNK4lUg9HTl+oPlQxdNo3Mg4Nv175e/1LDGzZen30MEjRUtmXSfiTVu1kK8W4txyV6BMKlbgk3lMwYCiusNy9fVfvvwMxv8Ynl6vxoByANLTWplvuj/nF9m2+PDtt1eiHPBr1oIfhCChQMBw6Aw0UulqTKZdfVvfG7VcfIqLG9bcldL/+pdWTLxLUy8Qq38heUIjh4XlzZxzQm19lLFlr8vdQ97rjZVOLf8nclzckbcD4wxXMidpX30sFd37Fv/GtwwhzhxGVAprjbg0gCAEeIgwCZyTV2Z1REEW8O4py0wsjeloKoMr6iCY6dP92H6Vw/oTyICIthibxjm/DfN9lVz8IqtqKYLUXfoKVMVQVVJOElGjrnnUt9T9wbgp8AyYKaGlqingHZU/uG2NTZSVqwHQTWkx9hxjkpWDaCg6Ckj5qebgBVbT3V3NNXMSiWSDdGV3hrtzla7J+duwPOToIg42ChPQOQjspnSlp1V+Gjdged7+8UN5CRAV7a5EdFNwCjEaBR27b3W890TE7g24NAP/mMDXRWrGoFPQI9ls/MWO2dWFAar/xcOIImbbpA3zgAAAABJRU5ErkJggg==);\n",
       "        }\n",
       "    </style>\n",
       "    <div>\n",
       "        <a href=\"https://bokeh.org\" target=\"_blank\" class=\"bk-notebook-logo\"></a>\n",
       "        <span id=\"c7b72f3a-5660-40a8-8b5b-6219b265bfb0\">Loading BokehJS ...</span>\n",
       "    </div>\n"
      ]
     },
     "metadata": {},
     "output_type": "display_data"
    },
    {
     "data": {
      "application/javascript": "(function(root) {\n  function now() {\n    return new Date();\n  }\n\n  const force = true;\n\n  if (typeof root._bokeh_onload_callbacks === \"undefined\" || force === true) {\n    root._bokeh_onload_callbacks = [];\n    root._bokeh_is_loading = undefined;\n  }\n\nconst JS_MIME_TYPE = 'application/javascript';\n  const HTML_MIME_TYPE = 'text/html';\n  const EXEC_MIME_TYPE = 'application/vnd.bokehjs_exec.v0+json';\n  const CLASS_NAME = 'output_bokeh rendered_html';\n\n  /**\n   * Render data to the DOM node\n   */\n  function render(props, node) {\n    const script = document.createElement(\"script\");\n    node.appendChild(script);\n  }\n\n  /**\n   * Handle when an output is cleared or removed\n   */\n  function handleClearOutput(event, handle) {\n    const cell = handle.cell;\n\n    const id = cell.output_area._bokeh_element_id;\n    const server_id = cell.output_area._bokeh_server_id;\n    // Clean up Bokeh references\n    if (id != null && id in Bokeh.index) {\n      Bokeh.index[id].model.document.clear();\n      delete Bokeh.index[id];\n    }\n\n    if (server_id !== undefined) {\n      // Clean up Bokeh references\n      const cmd_clean = \"from bokeh.io.state import curstate; print(curstate().uuid_to_server['\" + server_id + \"'].get_sessions()[0].document.roots[0]._id)\";\n      cell.notebook.kernel.execute(cmd_clean, {\n        iopub: {\n          output: function(msg) {\n            const id = msg.content.text.trim();\n            if (id in Bokeh.index) {\n              Bokeh.index[id].model.document.clear();\n              delete Bokeh.index[id];\n            }\n          }\n        }\n      });\n      // Destroy server and session\n      const cmd_destroy = \"import bokeh.io.notebook as ion; ion.destroy_server('\" + server_id + \"')\";\n      cell.notebook.kernel.execute(cmd_destroy);\n    }\n  }\n\n  /**\n   * Handle when a new output is added\n   */\n  function handleAddOutput(event, handle) {\n    const output_area = handle.output_area;\n    const output = handle.output;\n\n    // limit handleAddOutput to display_data with EXEC_MIME_TYPE content only\n    if ((output.output_type != \"display_data\") || (!Object.prototype.hasOwnProperty.call(output.data, EXEC_MIME_TYPE))) {\n      return\n    }\n\n    const toinsert = output_area.element.find(\".\" + CLASS_NAME.split(' ')[0]);\n\n    if (output.metadata[EXEC_MIME_TYPE][\"id\"] !== undefined) {\n      toinsert[toinsert.length - 1].firstChild.textContent = output.data[JS_MIME_TYPE];\n      // store reference to embed id on output_area\n      output_area._bokeh_element_id = output.metadata[EXEC_MIME_TYPE][\"id\"];\n    }\n    if (output.metadata[EXEC_MIME_TYPE][\"server_id\"] !== undefined) {\n      const bk_div = document.createElement(\"div\");\n      bk_div.innerHTML = output.data[HTML_MIME_TYPE];\n      const script_attrs = bk_div.children[0].attributes;\n      for (let i = 0; i < script_attrs.length; i++) {\n        toinsert[toinsert.length - 1].firstChild.setAttribute(script_attrs[i].name, script_attrs[i].value);\n        toinsert[toinsert.length - 1].firstChild.textContent = bk_div.children[0].textContent\n      }\n      // store reference to server id on output_area\n      output_area._bokeh_server_id = output.metadata[EXEC_MIME_TYPE][\"server_id\"];\n    }\n  }\n\n  function register_renderer(events, OutputArea) {\n\n    function append_mime(data, metadata, element) {\n      // create a DOM node to render to\n      const toinsert = this.create_output_subarea(\n        metadata,\n        CLASS_NAME,\n        EXEC_MIME_TYPE\n      );\n      this.keyboard_manager.register_events(toinsert);\n      // Render to node\n      const props = {data: data, metadata: metadata[EXEC_MIME_TYPE]};\n      render(props, toinsert[toinsert.length - 1]);\n      element.append(toinsert);\n      return toinsert\n    }\n\n    /* Handle when an output is cleared or removed */\n    events.on('clear_output.CodeCell', handleClearOutput);\n    events.on('delete.Cell', handleClearOutput);\n\n    /* Handle when a new output is added */\n    events.on('output_added.OutputArea', handleAddOutput);\n\n    /**\n     * Register the mime type and append_mime function with output_area\n     */\n    OutputArea.prototype.register_mime_type(EXEC_MIME_TYPE, append_mime, {\n      /* Is output safe? */\n      safe: true,\n      /* Index of renderer in `output_area.display_order` */\n      index: 0\n    });\n  }\n\n  // register the mime type if in Jupyter Notebook environment and previously unregistered\n  if (root.Jupyter !== undefined) {\n    const events = require('base/js/events');\n    const OutputArea = require('notebook/js/outputarea').OutputArea;\n\n    if (OutputArea.prototype.mime_types().indexOf(EXEC_MIME_TYPE) == -1) {\n      register_renderer(events, OutputArea);\n    }\n  }\n  if (typeof (root._bokeh_timeout) === \"undefined\" || force === true) {\n    root._bokeh_timeout = Date.now() + 5000;\n    root._bokeh_failed_load = false;\n  }\n\n  const NB_LOAD_WARNING = {'data': {'text/html':\n     \"<div style='background-color: #fdd'>\\n\"+\n     \"<p>\\n\"+\n     \"BokehJS does not appear to have successfully loaded. If loading BokehJS from CDN, this \\n\"+\n     \"may be due to a slow or bad network connection. Possible fixes:\\n\"+\n     \"</p>\\n\"+\n     \"<ul>\\n\"+\n     \"<li>re-rerun `output_notebook()` to attempt to load from CDN again, or</li>\\n\"+\n     \"<li>use INLINE resources instead, as so:</li>\\n\"+\n     \"</ul>\\n\"+\n     \"<code>\\n\"+\n     \"from bokeh.resources import INLINE\\n\"+\n     \"output_notebook(resources=INLINE)\\n\"+\n     \"</code>\\n\"+\n     \"</div>\"}};\n\n  function display_loaded() {\n    const el = document.getElementById(\"c7b72f3a-5660-40a8-8b5b-6219b265bfb0\");\n    if (el != null) {\n      el.textContent = \"BokehJS is loading...\";\n    }\n    if (root.Bokeh !== undefined) {\n      if (el != null) {\n        el.textContent = \"BokehJS \" + root.Bokeh.version + \" successfully loaded.\";\n      }\n    } else if (Date.now() < root._bokeh_timeout) {\n      setTimeout(display_loaded, 100)\n    }\n  }\n\n  function run_callbacks() {\n    try {\n      root._bokeh_onload_callbacks.forEach(function(callback) {\n        if (callback != null)\n          callback();\n      });\n    } finally {\n      delete root._bokeh_onload_callbacks\n    }\n    console.debug(\"Bokeh: all callbacks have finished\");\n  }\n\n  function load_libs(css_urls, js_urls, callback) {\n    if (css_urls == null) css_urls = [];\n    if (js_urls == null) js_urls = [];\n\n    root._bokeh_onload_callbacks.push(callback);\n    if (root._bokeh_is_loading > 0) {\n      console.debug(\"Bokeh: BokehJS is being loaded, scheduling callback at\", now());\n      return null;\n    }\n    if (js_urls == null || js_urls.length === 0) {\n      run_callbacks();\n      return null;\n    }\n    console.debug(\"Bokeh: BokehJS not loaded, scheduling load and callback at\", now());\n    root._bokeh_is_loading = css_urls.length + js_urls.length;\n\n    function on_load() {\n      root._bokeh_is_loading--;\n      if (root._bokeh_is_loading === 0) {\n        console.debug(\"Bokeh: all BokehJS libraries/stylesheets loaded\");\n        run_callbacks()\n      }\n    }\n\n    function on_error(url) {\n      console.error(\"failed to load \" + url);\n    }\n\n    for (let i = 0; i < css_urls.length; i++) {\n      const url = css_urls[i];\n      const element = document.createElement(\"link\");\n      element.onload = on_load;\n      element.onerror = on_error.bind(null, url);\n      element.rel = \"stylesheet\";\n      element.type = \"text/css\";\n      element.href = url;\n      console.debug(\"Bokeh: injecting link tag for BokehJS stylesheet: \", url);\n      document.body.appendChild(element);\n    }\n\n    for (let i = 0; i < js_urls.length; i++) {\n      const url = js_urls[i];\n      const element = document.createElement('script');\n      element.onload = on_load;\n      element.onerror = on_error.bind(null, url);\n      element.async = false;\n      element.src = url;\n      console.debug(\"Bokeh: injecting script tag for BokehJS library: \", url);\n      document.head.appendChild(element);\n    }\n  };\n\n  function inject_raw_css(css) {\n    const element = document.createElement(\"style\");\n    element.appendChild(document.createTextNode(css));\n    document.body.appendChild(element);\n  }\n\n  const js_urls = [\"https://cdn.bokeh.org/bokeh/release/bokeh-3.2.2.min.js\", \"https://cdn.bokeh.org/bokeh/release/bokeh-gl-3.2.2.min.js\", \"https://cdn.bokeh.org/bokeh/release/bokeh-widgets-3.2.2.min.js\", \"https://cdn.bokeh.org/bokeh/release/bokeh-tables-3.2.2.min.js\", \"https://cdn.bokeh.org/bokeh/release/bokeh-mathjax-3.2.2.min.js\"];\n  const css_urls = [];\n\n  const inline_js = [    function(Bokeh) {\n      Bokeh.set_log_level(\"info\");\n    },\nfunction(Bokeh) {\n    }\n  ];\n\n  function run_inline_js() {\n    if (root.Bokeh !== undefined || force === true) {\n          for (let i = 0; i < inline_js.length; i++) {\n      inline_js[i].call(root, root.Bokeh);\n    }\nif (force === true) {\n        display_loaded();\n      }} else if (Date.now() < root._bokeh_timeout) {\n      setTimeout(run_inline_js, 100);\n    } else if (!root._bokeh_failed_load) {\n      console.log(\"Bokeh: BokehJS failed to load within specified timeout.\");\n      root._bokeh_failed_load = true;\n    } else if (force !== true) {\n      const cell = $(document.getElementById(\"c7b72f3a-5660-40a8-8b5b-6219b265bfb0\")).parents('.cell').data().cell;\n      cell.output_area.append_execute_result(NB_LOAD_WARNING)\n    }\n  }\n\n  if (root._bokeh_is_loading === 0) {\n    console.debug(\"Bokeh: BokehJS loaded, going straight to plotting\");\n    run_inline_js();\n  } else {\n    load_libs(css_urls, js_urls, function() {\n      console.debug(\"Bokeh: BokehJS plotting callback run at\", now());\n      run_inline_js();\n    });\n  }\n}(window));",
      "application/vnd.bokehjs_load.v0+json": ""
     },
     "metadata": {},
     "output_type": "display_data"
    }
   ],
   "source": [
    "from sklearn import linear_model\n",
    "import numpy as np\n",
    "from bokeh.plotting import figure\n",
    "from bokeh.io import  show, output_notebook\n",
    "from bokeh.models import HoverTool, ColumnDataSource\n",
    "\n",
    "output_notebook()"
   ]
  },
  {
   "cell_type": "markdown",
   "metadata": {},
   "source": [
    "Let's create some data for a linear model.  The basic rule is \n",
    "$$\n",
    "y = \\sum a_{i}x_{i} + b+ \\epsilon\n",
    "$$\n",
    "where $\\epsilon$ is a normally distributed random variable.  Let's suppose $N=3$, the $a_{i}$ are 1, 2, and 3, and the $x_{i}$ are uniformly distributed between 0 and 1.  We'll use the `LinearRegression` class to fit the model."
   ]
  },
  {
   "cell_type": "code",
   "execution_count": 27,
   "metadata": {},
   "outputs": [
    {
     "name": "stdout",
     "output_type": "stream",
     "text": [
      "0.11295100606377584\n"
     ]
    }
   ],
   "source": [
    "N=100\n",
    "x = np.random.uniform(-10,10,size=(N,3))\n",
    "b = .7\n",
    "y = x @ np.array([-3,1,2]) + b+ np.random.normal(0,1,N)\n",
    "y_true = x @ np.array([-3,1,2]) + b\n",
    "mse = np.linalg.norm(y-y_true)/N\n",
    "print(mse)"
   ]
  },
  {
   "cell_type": "code",
   "execution_count": 28,
   "metadata": {},
   "outputs": [],
   "source": [
    "from sklearn.linear_model import LinearRegression"
   ]
  },
  {
   "cell_type": "code",
   "execution_count": 29,
   "metadata": {},
   "outputs": [],
   "source": [
    "L = LinearRegression()"
   ]
  },
  {
   "cell_type": "code",
   "execution_count": 30,
   "metadata": {},
   "outputs": [
    {
     "data": {
      "text/html": [
       "<style>#sk-container-id-2 {color: black;}#sk-container-id-2 pre{padding: 0;}#sk-container-id-2 div.sk-toggleable {background-color: white;}#sk-container-id-2 label.sk-toggleable__label {cursor: pointer;display: block;width: 100%;margin-bottom: 0;padding: 0.3em;box-sizing: border-box;text-align: center;}#sk-container-id-2 label.sk-toggleable__label-arrow:before {content: \"▸\";float: left;margin-right: 0.25em;color: #696969;}#sk-container-id-2 label.sk-toggleable__label-arrow:hover:before {color: black;}#sk-container-id-2 div.sk-estimator:hover label.sk-toggleable__label-arrow:before {color: black;}#sk-container-id-2 div.sk-toggleable__content {max-height: 0;max-width: 0;overflow: hidden;text-align: left;background-color: #f0f8ff;}#sk-container-id-2 div.sk-toggleable__content pre {margin: 0.2em;color: black;border-radius: 0.25em;background-color: #f0f8ff;}#sk-container-id-2 input.sk-toggleable__control:checked~div.sk-toggleable__content {max-height: 200px;max-width: 100%;overflow: auto;}#sk-container-id-2 input.sk-toggleable__control:checked~label.sk-toggleable__label-arrow:before {content: \"▾\";}#sk-container-id-2 div.sk-estimator input.sk-toggleable__control:checked~label.sk-toggleable__label {background-color: #d4ebff;}#sk-container-id-2 div.sk-label input.sk-toggleable__control:checked~label.sk-toggleable__label {background-color: #d4ebff;}#sk-container-id-2 input.sk-hidden--visually {border: 0;clip: rect(1px 1px 1px 1px);clip: rect(1px, 1px, 1px, 1px);height: 1px;margin: -1px;overflow: hidden;padding: 0;position: absolute;width: 1px;}#sk-container-id-2 div.sk-estimator {font-family: monospace;background-color: #f0f8ff;border: 1px dotted black;border-radius: 0.25em;box-sizing: border-box;margin-bottom: 0.5em;}#sk-container-id-2 div.sk-estimator:hover {background-color: #d4ebff;}#sk-container-id-2 div.sk-parallel-item::after {content: \"\";width: 100%;border-bottom: 1px solid gray;flex-grow: 1;}#sk-container-id-2 div.sk-label:hover label.sk-toggleable__label {background-color: #d4ebff;}#sk-container-id-2 div.sk-serial::before {content: \"\";position: absolute;border-left: 1px solid gray;box-sizing: border-box;top: 0;bottom: 0;left: 50%;z-index: 0;}#sk-container-id-2 div.sk-serial {display: flex;flex-direction: column;align-items: center;background-color: white;padding-right: 0.2em;padding-left: 0.2em;position: relative;}#sk-container-id-2 div.sk-item {position: relative;z-index: 1;}#sk-container-id-2 div.sk-parallel {display: flex;align-items: stretch;justify-content: center;background-color: white;position: relative;}#sk-container-id-2 div.sk-item::before, #sk-container-id-2 div.sk-parallel-item::before {content: \"\";position: absolute;border-left: 1px solid gray;box-sizing: border-box;top: 0;bottom: 0;left: 50%;z-index: -1;}#sk-container-id-2 div.sk-parallel-item {display: flex;flex-direction: column;z-index: 1;position: relative;background-color: white;}#sk-container-id-2 div.sk-parallel-item:first-child::after {align-self: flex-end;width: 50%;}#sk-container-id-2 div.sk-parallel-item:last-child::after {align-self: flex-start;width: 50%;}#sk-container-id-2 div.sk-parallel-item:only-child::after {width: 0;}#sk-container-id-2 div.sk-dashed-wrapped {border: 1px dashed gray;margin: 0 0.4em 0.5em 0.4em;box-sizing: border-box;padding-bottom: 0.4em;background-color: white;}#sk-container-id-2 div.sk-label label {font-family: monospace;font-weight: bold;display: inline-block;line-height: 1.2em;}#sk-container-id-2 div.sk-label-container {text-align: center;}#sk-container-id-2 div.sk-container {/* jupyter's `normalize.less` sets `[hidden] { display: none; }` but bootstrap.min.css set `[hidden] { display: none !important; }` so we also need the `!important` here to be able to override the default hidden behavior on the sphinx rendered scikit-learn.org. See: https://github.com/scikit-learn/scikit-learn/issues/21755 */display: inline-block !important;position: relative;}#sk-container-id-2 div.sk-text-repr-fallback {display: none;}</style><div id=\"sk-container-id-2\" class=\"sk-top-container\"><div class=\"sk-text-repr-fallback\"><pre>LinearRegression()</pre><b>In a Jupyter environment, please rerun this cell to show the HTML representation or trust the notebook. <br />On GitHub, the HTML representation is unable to render, please try loading this page with nbviewer.org.</b></div><div class=\"sk-container\" hidden><div class=\"sk-item\"><div class=\"sk-estimator sk-toggleable\"><input class=\"sk-toggleable__control sk-hidden--visually\" id=\"sk-estimator-id-2\" type=\"checkbox\" checked><label for=\"sk-estimator-id-2\" class=\"sk-toggleable__label sk-toggleable__label-arrow\">LinearRegression</label><div class=\"sk-toggleable__content\"><pre>LinearRegression()</pre></div></div></div></div></div>"
      ],
      "text/plain": [
       "LinearRegression()"
      ]
     },
     "execution_count": 30,
     "metadata": {},
     "output_type": "execute_result"
    }
   ],
   "source": [
    "L.fit(x,y)"
   ]
  },
  {
   "cell_type": "code",
   "execution_count": 40,
   "metadata": {},
   "outputs": [
    {
     "name": "stdout",
     "output_type": "stream",
     "text": [
      "coeffs = [-2.98395181  0.96378508  2.02432446], intercept = 0.5969070381280994\n"
     ]
    }
   ],
   "source": [
    "print(f\"coeffs = {L.coef_}, intercept = {L.intercept_}\")"
   ]
  },
  {
   "cell_type": "code",
   "execution_count": 41,
   "metadata": {},
   "outputs": [],
   "source": [
    "error = np.linalg.norm(L.predict(x)-y)/N"
   ]
  },
  {
   "cell_type": "code",
   "execution_count": 42,
   "metadata": {},
   "outputs": [
    {
     "name": "stdout",
     "output_type": "stream",
     "text": [
      "0.10851932122175788\n"
     ]
    }
   ],
   "source": [
    "print(error)"
   ]
  },
  {
   "cell_type": "markdown",
   "metadata": {},
   "source": [
    "### Classification"
   ]
  },
  {
   "cell_type": "code",
   "execution_count": 142,
   "metadata": {},
   "outputs": [],
   "source": [
    "x0 = np.random.multivariate_normal([0, 0], [[1, .75],[.75, 1]], 100)\n",
    "x1 = np.random.multivariate_normal([1, -4], [[1, 0],[0, 1]], 100)\n",
    "x2 = np.random.multivariate_normal([-2,-2],[[1,-.5],[-.5,1]],100)"
   ]
  },
  {
   "cell_type": "code",
   "execution_count": 144,
   "metadata": {},
   "outputs": [
    {
     "data": {
      "text/html": [
       "\n",
       "  <div id=\"d5d68707-4c2a-4aff-bcf8-0cc1e753ff26\" data-root-id=\"p2783\" style=\"display: contents;\"></div>\n"
      ]
     },
     "metadata": {},
     "output_type": "display_data"
    },
    {
     "data": {
      "application/javascript": "(function(root) {\n  function embed_document(root) {\n  const docs_json = {\"40b23511-c3a5-40cc-bbe5-fd822e089c6f\":{\"version\":\"3.2.2\",\"title\":\"Bokeh Application\",\"roots\":[{\"type\":\"object\",\"name\":\"Figure\",\"id\":\"p2783\",\"attributes\":{\"x_range\":{\"type\":\"object\",\"name\":\"DataRange1d\",\"id\":\"p2784\"},\"y_range\":{\"type\":\"object\",\"name\":\"DataRange1d\",\"id\":\"p2785\"},\"x_scale\":{\"type\":\"object\",\"name\":\"LinearScale\",\"id\":\"p2792\"},\"y_scale\":{\"type\":\"object\",\"name\":\"LinearScale\",\"id\":\"p2793\"},\"title\":{\"type\":\"object\",\"name\":\"Title\",\"id\":\"p2790\"},\"renderers\":[{\"type\":\"object\",\"name\":\"GlyphRenderer\",\"id\":\"p2817\",\"attributes\":{\"data_source\":{\"type\":\"object\",\"name\":\"ColumnDataSource\",\"id\":\"p2811\",\"attributes\":{\"selected\":{\"type\":\"object\",\"name\":\"Selection\",\"id\":\"p2812\",\"attributes\":{\"indices\":[],\"line_indices\":[]}},\"selection_policy\":{\"type\":\"object\",\"name\":\"UnionRenderers\",\"id\":\"p2813\"},\"data\":{\"type\":\"map\",\"entries\":[[\"x\",{\"type\":\"ndarray\",\"array\":{\"type\":\"bytes\",\"data\":\"QqPmiDtf5L9WA1uJr7nuvyHIHUShyek/4OqT+iDvsr+sMeDSCYHyP+HxRRdbEvC/LBLn+USI8D+V85EBpcbZP05IHcU7C/E/LkUgLUxe8L8w8ZW5cT3aP3onXEa7gfC/abSTURUA8r/SzTZPjVD2PzAUS4NMyZk/rJVg6GIVBEBQN17YUcXyv5fngKN/6eO/Ib/Me+Sb8T+u7TNt2qnEP9YgtAUOK7A/rzOJ011i7b8ymG5HMl/Wv4jg0WJr0c6/ai3m/LpKub/ZuGKUImHhP772B2bu+uI/bej2DcFo4L92pHpuHbvav9ADUI+DS/G/6n4fTktD679tNSwLZJr5P7jnjN7bl/S/MDdm13yZ27/o2qf7pDLCP3IVcRpcfuM/KIixMauoAMAg9rsSIxrovysfwu9WRPo/DDEnopDRwT9Mk2mFU3DLP2HgzQt5sAjAY3ilKkf+AEBkj4PxuHABQOwU9Nhs2fS/5uE8Lqtw7r8IQYuIiBvrP/I1Os+qQeY/AyLTUNGT9z8ZSSZaEPnmv+SEc55e1ea/ojQEtirZA8B5c7sHhb/rvyb7oe92Wbu/SkgEMHkm07++eKI2hrDPP9A1+fei0gBAs1VHNPKO+z9JeRpiwZHgv9qi8uhzB9q/oGV9UkSh+b9eLoSRfwL2vwlPETbnCfK/6epdlKV9w78aD6RJ+Uz5P2h8jquq6t6/etlX6N+C5D9pXZu+iYPsv8Q1e1CygO+/utDbUkCz+79gjYlmmp7Hv1furiQwe9C/JQz7clXC/D+5bsSFkzbVvxKI3UMgjuQ/L3mPXnqk0b9sIDLhJpnqv1yfjDNmReq/TlN92Y2F5D+wgy8x2SDgPxDwXJOl0o4/8tUYYOcV5D+QXpUKZjmQP9FNEEa3dfs/fSLFVjxQ2j87ZZJTDhMBwOZZJ91GZsw/UG4irWBE778ZfRzKCMDUv1CdDp+e/q6/hbLYlrlT7j98vjvknZTgv+RYRrldBtM/XwJn6C1N/L++FF//fG3JPwCbFo8dfeE/XsES1alD+r8sGPG81L+UP/b+1/iED/M/ZkyGo4mnwr8=\"},\"shape\":[100],\"dtype\":\"float64\",\"order\":\"little\"}],[\"y\",{\"type\":\"ndarray\",\"array\":{\"type\":\"bytes\",\"data\":\"WfBqBHiu4b/wWUhI5Mz+v8CK75fQ8uI/nurMcWQe5D8lENnWMjD3P1TaUf2rjsS/PiTpkxlv8j9R0Phv6EPoP5e3T4gJH9Y/eJMVaZU1q78xqJOU4G7qP1hTvkHxzqw/rutfsRSD4L9uSaGTNTvgP0CAbP6ApuY/pdm86JZW/T+koV21bMrzvwEM7ffToee/MIBYQgyE9T/ofQGrKpPoP3Mv3WPXSrK/nhvn/1Rkz78/OFR7TvfiP/Cl9dZ5tJI/L/DZQ+V4pT90CxRCvBndP2rHciKgHvU/J80YdflC3b/I02EOhyvGP+1u07zxPfG/31OEyTT27r8qLdG5lTHwP+kwDslZ/wDAMk60Vs2btr90Qoxy7kTsP2ghX/woKMO/UekcwPpR+L9t+JEfQFfiv6HDagRDIgBAXnQoxOqU8D/+1zWV7b/vv0qcuhVamQDA1t5duUAp8T/RFF7JgyfpP+A/ALk0s7k/aeB8hHEp7L99SkR03S74Pxiw8ecYiPo/FO1fzK2B8D+VGZmA0ZzwvxE+iIIP896/Mt9Zs/1M/r+Yo0VSOVHvv6E/eHHxkN8/wO3cabdf4r+2T+KxSBfwP1tYYkdsuARASMJ+VHU/9T8YhZId9UnVvwdJuDlOP/4/6vdZM5/n2L+HBCenW0n5vxoeJlfIf+G/zHz0qZza2D8YAyoKh8LNP2FJgaqiDe6/OMqYm3aKpT/KaGSIxn/wv5BQA2/+sc+/EmGJls6i6b/2x+jp0LPMP0aFAKuidqY/MZNS6dTQAUDkioqZGeDxv3IG0LvVre4/p7L6JWgJyL+aGvAOZfHkvz01yq6LL+O/TO2CCDdM1T8Ivu8pZxWmPw9MGwESK8S/0/usJxLfzD9veDfA3Lnqv4Nay39covM/HpEM6xz10j+rd8m+UqT+v1xdpIMZkdg/8d/5SjhL8D+8IC2HyJXhP0tQl0KYz9M/YJcmdQjn9D8sQfM48ODdv8wGjvXZwew/BGMynUW4z7+0gNrM/4TyP0A93x2mE/q/iDsK9KC/xD+GBENPSKLLv+Dj/GixVABAjmEnQw8krj8=\"},\"shape\":[100],\"dtype\":\"float64\",\"order\":\"little\"}]]}}},\"view\":{\"type\":\"object\",\"name\":\"CDSView\",\"id\":\"p2818\",\"attributes\":{\"filter\":{\"type\":\"object\",\"name\":\"AllIndices\",\"id\":\"p2819\"}}},\"glyph\":{\"type\":\"object\",\"name\":\"Scatter\",\"id\":\"p2814\",\"attributes\":{\"x\":{\"type\":\"field\",\"field\":\"x\"},\"y\":{\"type\":\"field\",\"field\":\"y\"},\"line_color\":{\"type\":\"value\",\"value\":\"red\"},\"fill_color\":{\"type\":\"value\",\"value\":\"red\"},\"hatch_color\":{\"type\":\"value\",\"value\":\"red\"}}},\"nonselection_glyph\":{\"type\":\"object\",\"name\":\"Scatter\",\"id\":\"p2815\",\"attributes\":{\"x\":{\"type\":\"field\",\"field\":\"x\"},\"y\":{\"type\":\"field\",\"field\":\"y\"},\"line_color\":{\"type\":\"value\",\"value\":\"red\"},\"line_alpha\":{\"type\":\"value\",\"value\":0.1},\"fill_color\":{\"type\":\"value\",\"value\":\"red\"},\"fill_alpha\":{\"type\":\"value\",\"value\":0.1},\"hatch_color\":{\"type\":\"value\",\"value\":\"red\"},\"hatch_alpha\":{\"type\":\"value\",\"value\":0.1}}},\"muted_glyph\":{\"type\":\"object\",\"name\":\"Scatter\",\"id\":\"p2816\",\"attributes\":{\"x\":{\"type\":\"field\",\"field\":\"x\"},\"y\":{\"type\":\"field\",\"field\":\"y\"},\"line_color\":{\"type\":\"value\",\"value\":\"red\"},\"line_alpha\":{\"type\":\"value\",\"value\":0.2},\"fill_color\":{\"type\":\"value\",\"value\":\"red\"},\"fill_alpha\":{\"type\":\"value\",\"value\":0.2},\"hatch_color\":{\"type\":\"value\",\"value\":\"red\"},\"hatch_alpha\":{\"type\":\"value\",\"value\":0.2}}}}},{\"type\":\"object\",\"name\":\"GlyphRenderer\",\"id\":\"p2828\",\"attributes\":{\"data_source\":{\"type\":\"object\",\"name\":\"ColumnDataSource\",\"id\":\"p2822\",\"attributes\":{\"selected\":{\"type\":\"object\",\"name\":\"Selection\",\"id\":\"p2823\",\"attributes\":{\"indices\":[],\"line_indices\":[]}},\"selection_policy\":{\"type\":\"object\",\"name\":\"UnionRenderers\",\"id\":\"p2824\"},\"data\":{\"type\":\"map\",\"entries\":[[\"x\",{\"type\":\"ndarray\",\"array\":{\"type\":\"bytes\",\"data\":\"KGe060ad8j/GeLMmcZLxP/gEUGHYz/M/7P9R9jRRwT+o5OaM0mXGv4xQjyjvKM0/wOFq2itOzT8Aobbne96Bv99uYajYPQdAj7KrOPg67z8EPcgPsofRPyyG5SCjSeg/QH8rF4jcAUD3PTjyltbyP4u52mBZEgDATAAWqEC617+esJadq6fxP5j5eqUdzOO/blTg5gJm7z+uU9rtnvvzP/ruU+/xOAJAbJP5xlBw4b/Szt69Zn/mP2ER2Gz3RPs//OydUqaf9D9C1GPlglj4P5Qcl3kMqM8/xHsLu6GO6D/MFCjkmHLqP+IfqGFqOvE/TiN4FelIAkBRzwjNhSnxPya0lVuC7uq/GmxGgIQc6L9giOVFMMSlv9zteyucU+G/OHNeEKZf2T+sbtx5NezsP8BG+yhlE7k/KImDtSdW8L8n3VVq3NcCQPhEkpBfAvE/UJdvpfugAkDiMEaYCHzcP/i90LzKivU/aDu/jSdwvT/G6A7MNwPwP/CoCTSg1fM/RD87YCrd8D9i82Ke4t3tP4B/GC/CdgBAovRZIbgaB0C6to7pOjvWP4D6eGYPwoE/MmJkHNou9z8vKYbhgEj5PxhnjuLD/vY/sKOnXcnh5j+EVkrcKAzwP8jJPVtOIPI//p92CxrM7T/QUOBk/Ib6P6SKoROy0PA/UD82+OPv3D/2B6z71z/kP/osnoeJitI/vvHYD53B9z80WomHCH7NP+DJ9xGr/7e/SogUnQyw7T8mrQoZjWLQP6h+akLZZO8/HNT5WbLh4b8XU8k/ukn7PxY2XBjBPv4/jGPdkxmW9T/CBgWyFcbiv2wn1W9fHv0/Soc6nIb//T80vrp3c87pP3pXCMaaB/k/ORkLPuNV+D+0KaABDNL6P0cyTze2hfY/Luz09Ugw8T8oHP/ODM/yvxJG93VFRdA/OHbyC3Qq8T/749xqtHfxP2J6Qi4br/s/CJj3BeQ3xr/TQn15hdr1P/2RVJbWhOI/M64Gfyl1/D+b4mZlF54LQEqCdTGMlfE/6jE6lUEr9b9v5JXQNiP3P3aXXSbZQQJAGkhuxwek+L8=\"},\"shape\":[100],\"dtype\":\"float64\",\"order\":\"little\"}],[\"y\",{\"type\":\"ndarray\",\"array\":{\"type\":\"bytes\",\"data\":\"bSUiLHQKB8BKWbXeM5IUwG8wURLg0gPA3rMWTetCAsD5PDrRqt4UwBUKIh5cvBHAKI7R8y8iB8C6k9MXFTEJwM13d4Qt/gjA0tA4LJRn+b9lFxxDOIcPwBJlIv2iUg/AYpYUqdCd+789Yc7ubdISwGRfCXO3ygnAF9dS3sGLBsAQQgClhokVwKOm54YNBBDAyN0LCCZfBcCP/cMIt3UWwGpy7JWtAgvArE0cRtdJCMBXU5KHNiATwEDwBM+94QzAXNO00NYY/L9IZrcGhg8QwIpIK9zJQwnA6DSZ0yfSFMCfEr90sogPwLAT64AN6BPA7Djio6zrBsAVVMJjqoAVwJHYgFWwkBDA57ngj3aZDMA/z6OM+AAQwH8UzMG6jRHA/naltr3cEMBWXZjO9kAUwAgRCkKs4hHA2lV+IZ+fB8ADJd1oCLwMwPFtWxoiAxHAR1PehFBnA8DrXDHOqb4QwB2sUeu2MhXAOkEs7rjuBcAGlKrCDPAUwPKaCD/+DxHAIpchjUcPE8C0/aZUd6MUwPSZkHPC2ArAA1iO94HJEMBEXdEm5UETwLh4ujhxrgnALYe/Lj1UE8AwWJdDBREIwEa57fXb/AfA4TSJbqbWDcB5xzcJ+FQKwAYAQhuiOxHAUvlXu/PTFcClUvwFEwgLwDfOc/f1shHApOkqsCM2EMBk8+th4kcUwGLFlh+4XBDAHOHJ28ytDsDEdDTSGWkFwPYb/eqllxLANjGRfw37/b8xLRLhrXwRwMLpnLQ6ghDArNuplzwXEcBakPvDwrERwFOzBjWCigvArsK4f5GgCsBmbmGndUwMwFLUKUgzrw/AdpF/TPQFFMB2BXWP6FwQwDggStO+tQjAPsgcpkw5/b9maCImQ7YYwFZe6/1fSBPAule1TTqvFMB+62Uk8k0XwNBpRpNTbRHADINnYs6EF8BoiGJvEN8LwEnlDGudIxPAnhQNvs22CcAjkvQQH5sKwI761lrXcxTABxZehWiLFcBieuWu8RcKwNPDuRx1tA3AEp9lRri0C8Cn95Xz1aQSwLA9IPbNtQzAbl6HjGvRFcA=\"},\"shape\":[100],\"dtype\":\"float64\",\"order\":\"little\"}]]}}},\"view\":{\"type\":\"object\",\"name\":\"CDSView\",\"id\":\"p2829\",\"attributes\":{\"filter\":{\"type\":\"object\",\"name\":\"AllIndices\",\"id\":\"p2830\"}}},\"glyph\":{\"type\":\"object\",\"name\":\"Scatter\",\"id\":\"p2825\",\"attributes\":{\"x\":{\"type\":\"field\",\"field\":\"x\"},\"y\":{\"type\":\"field\",\"field\":\"y\"},\"line_color\":{\"type\":\"value\",\"value\":\"blue\"},\"fill_color\":{\"type\":\"value\",\"value\":\"blue\"},\"hatch_color\":{\"type\":\"value\",\"value\":\"blue\"}}},\"nonselection_glyph\":{\"type\":\"object\",\"name\":\"Scatter\",\"id\":\"p2826\",\"attributes\":{\"x\":{\"type\":\"field\",\"field\":\"x\"},\"y\":{\"type\":\"field\",\"field\":\"y\"},\"line_color\":{\"type\":\"value\",\"value\":\"blue\"},\"line_alpha\":{\"type\":\"value\",\"value\":0.1},\"fill_color\":{\"type\":\"value\",\"value\":\"blue\"},\"fill_alpha\":{\"type\":\"value\",\"value\":0.1},\"hatch_color\":{\"type\":\"value\",\"value\":\"blue\"},\"hatch_alpha\":{\"type\":\"value\",\"value\":0.1}}},\"muted_glyph\":{\"type\":\"object\",\"name\":\"Scatter\",\"id\":\"p2827\",\"attributes\":{\"x\":{\"type\":\"field\",\"field\":\"x\"},\"y\":{\"type\":\"field\",\"field\":\"y\"},\"line_color\":{\"type\":\"value\",\"value\":\"blue\"},\"line_alpha\":{\"type\":\"value\",\"value\":0.2},\"fill_color\":{\"type\":\"value\",\"value\":\"blue\"},\"fill_alpha\":{\"type\":\"value\",\"value\":0.2},\"hatch_color\":{\"type\":\"value\",\"value\":\"blue\"},\"hatch_alpha\":{\"type\":\"value\",\"value\":0.2}}}}},{\"type\":\"object\",\"name\":\"GlyphRenderer\",\"id\":\"p2838\",\"attributes\":{\"data_source\":{\"type\":\"object\",\"name\":\"ColumnDataSource\",\"id\":\"p2832\",\"attributes\":{\"selected\":{\"type\":\"object\",\"name\":\"Selection\",\"id\":\"p2833\",\"attributes\":{\"indices\":[],\"line_indices\":[]}},\"selection_policy\":{\"type\":\"object\",\"name\":\"UnionRenderers\",\"id\":\"p2834\"},\"data\":{\"type\":\"map\",\"entries\":[[\"x\",{\"type\":\"ndarray\",\"array\":{\"type\":\"bytes\",\"data\":\"SkEtP1Y0CsAA6QuGQOedP//1g+TxkwPAiEjg94YxAsCNolq4RFcGwMImerXaHeC/hFi0XMeg9L8q60wemhwAwCE/hjw2Z/G/zP8JxU+m4r/IhnN73uTyv66qEkCdEum/BHOLaf8K6b8yCGZeNJT0v9DP+yPo88y/U9EyPIhp8L9VXECkEY/8v5JzQO9lrP+/RUS3YxPK+b8f0iesRxYGwMP1jB/E2fe/gAqNJxwaCMDjrYu7TZIIwFWBZJekBgTAgthyvUwXBMBF5VTQ7sgAwDomDK2EUwDAVxGQWbcG8L+Iw1gJhev4v/QlWBl94AzAFL30BsNj8D+dYFUZV1r+v12Ohn2kjAPAKN/5FvIs9L9UnAKHgVv+v7iDEv+3UAHAZCt3EGXRA8BATRdnfGANwCgVnV5FtxDAv33rTMI0BMCwZ30HV0Pwv5zxZCjFngPAUeRfy8xtBsAFe+5zmz0MwJD2yEs3cd2/yLVMZHE/AcA8h2eSz6D9v5aZmFiE8fm/H6mOuzqqAMDA3Uk8v6fXv9MRLdp37AfAZC9PJqy3878JztJZVMH1v7X3N9AVUfG/YubHqWwHAMDrcJ/C5kb6v4NtIazHWP+/ZC/mN2/m4b/ABfZ1XyL4v2T1oZMNDxHAhQ6OR85AEcAUG5qVO+8BwGm7NXM7MAHA1ydkRLVYBcBpnAj57J4DwCCtUjiUWP6/CmtrcA30AMBt1iBvs170v652+OLW/Py/O5VL4u6fB8DTsriCESj9v8RscVLV8f6/rBCW692hB8B0pF0cwGr+v4/qQ/x/fgXAfcIvjseN+r/WniL7nn0BwAUnxid6VQvAaB/2hzLR/L9W3gcn2Uv/v1CDjk0L7dC/rfSoYXCIAsDkxjigI2f8v6V/CjS0dA/AIDGTY0Ddsz9jOfA8gAAMwIJ9ZSUN3em/AF5upqifdz/wIYJqfFLvv5bgwThv5Pq/afTLullcBMBxLEzx6uf8v/BxW3rJTPm/zpGFgXZY/b/Yuh3yg3f+v6wb2FRwt+C/xsSUsQbU9b9AUMqemDz1v0ILbUystwDA8x1QZGiu8r8=\"},\"shape\":[100],\"dtype\":\"float64\",\"order\":\"little\"}],[\"y\",{\"type\":\"ndarray\",\"array\":{\"type\":\"bytes\",\"data\":\"xoUkzKmG7r9e47uDmRYQwDKVc851Nfu/rDwO9U30A8DAm7+m1fCzP0OEG6XobAHA8sMhyIfz8L9Z/JXQquD2v2Qd+5ybwwbAhHk1FSru+79Ak0oluZHCv8srT2yhB/i/eATICq7+BMD2cku/7I7+v4Xa3WLwp/q/QPbqicav279v8e2Z9YLzv/xA0Q2E9NC/GiOM7033B8DuI6aN/1Pmv/RT+RERJey/DL+m3QzMBsBsJLly7UoBwLVl17Vq7QTAPPqJUgj98b8v8GFm/pILwFp3NbiCpfS/T9xQmah7AsAR54MqItzzvzz8NquqVvy/1JjhIBxjEsAKccrijib6v8s3os1yCfi/8b3w7Ld8/7+o4TbSo4ADwMlogsuNKRDA05P6JpTUAcDE+FfI/Wvcv0Qkpl/sE/S/3g5tzUVfAsCKX7PAewkSwOF5mPGgDwHAWr6NvBXoAcDIxuHhJcTlPwS2lcJAgAXAnFEBOCjr978/51Yo7ioBwMcQY8tLBv2/8M3e2r0VBMCwjq3e9Xj4v6FjEkS7UP+/kj/mWUHu8b/CheaRqu77v34wUKfRIQzATGjDqYuXAMDonBwZa8YAwNXMuwVYxQDALWAxTHC6CMDtGhCnGO0JwGwNDa0jC++/MLY0Sz3zxb9fc6uUIXYCwI79GR+OF/a/Lr8cZzGm/7+g68rd824HwKD0YlJm9rQ/Mdco6QgTC8DYwyQrTOz4v5D7AnfPYRDAhAo9lda+5r+QLAnZwRwAwFWOpeh1BQnAm6Rf+rhD+79Ad+9xaN7Ov24KT1LUKgXATm4IhohV+b99Rye+96/yv2LKl7xdd+u/4rpIfYgeCMDzTBbGrhX1v0ydfPY3fwbAolZSgJVmA8CMR8cyI0QCwCzCNbksENa/dCLv/OeuDsBKvdEz6c70vxpJu1845QLAm0DYYiyRFMCU5ItpevoDwJJAb35KmgPAPzsTfhp3/7/uEYiHUDUMwABc6AVJNb8/RhyuU60GAsCdgew5CRH4v0t20kP7YxLAri1IxSsGAsA43rerR2Xlv94nrfu61Pa/vPuTXSZR8r8=\"},\"shape\":[100],\"dtype\":\"float64\",\"order\":\"little\"}]]}}},\"view\":{\"type\":\"object\",\"name\":\"CDSView\",\"id\":\"p2839\",\"attributes\":{\"filter\":{\"type\":\"object\",\"name\":\"AllIndices\",\"id\":\"p2840\"}}},\"glyph\":{\"type\":\"object\",\"name\":\"Scatter\",\"id\":\"p2835\",\"attributes\":{\"x\":{\"type\":\"field\",\"field\":\"x\"},\"y\":{\"type\":\"field\",\"field\":\"y\"},\"line_color\":{\"type\":\"value\",\"value\":\"green\"},\"fill_color\":{\"type\":\"value\",\"value\":\"green\"},\"hatch_color\":{\"type\":\"value\",\"value\":\"green\"}}},\"nonselection_glyph\":{\"type\":\"object\",\"name\":\"Scatter\",\"id\":\"p2836\",\"attributes\":{\"x\":{\"type\":\"field\",\"field\":\"x\"},\"y\":{\"type\":\"field\",\"field\":\"y\"},\"line_color\":{\"type\":\"value\",\"value\":\"green\"},\"line_alpha\":{\"type\":\"value\",\"value\":0.1},\"fill_color\":{\"type\":\"value\",\"value\":\"green\"},\"fill_alpha\":{\"type\":\"value\",\"value\":0.1},\"hatch_color\":{\"type\":\"value\",\"value\":\"green\"},\"hatch_alpha\":{\"type\":\"value\",\"value\":0.1}}},\"muted_glyph\":{\"type\":\"object\",\"name\":\"Scatter\",\"id\":\"p2837\",\"attributes\":{\"x\":{\"type\":\"field\",\"field\":\"x\"},\"y\":{\"type\":\"field\",\"field\":\"y\"},\"line_color\":{\"type\":\"value\",\"value\":\"green\"},\"line_alpha\":{\"type\":\"value\",\"value\":0.2},\"fill_color\":{\"type\":\"value\",\"value\":\"green\"},\"fill_alpha\":{\"type\":\"value\",\"value\":0.2},\"hatch_color\":{\"type\":\"value\",\"value\":\"green\"},\"hatch_alpha\":{\"type\":\"value\",\"value\":0.2}}}}}],\"toolbar\":{\"type\":\"object\",\"name\":\"Toolbar\",\"id\":\"p2791\",\"attributes\":{\"tools\":[{\"type\":\"object\",\"name\":\"PanTool\",\"id\":\"p2804\"},{\"type\":\"object\",\"name\":\"WheelZoomTool\",\"id\":\"p2805\"},{\"type\":\"object\",\"name\":\"BoxZoomTool\",\"id\":\"p2806\",\"attributes\":{\"overlay\":{\"type\":\"object\",\"name\":\"BoxAnnotation\",\"id\":\"p2807\",\"attributes\":{\"syncable\":false,\"level\":\"overlay\",\"visible\":false,\"left_units\":\"canvas\",\"right_units\":\"canvas\",\"bottom_units\":\"canvas\",\"top_units\":\"canvas\",\"line_color\":\"black\",\"line_alpha\":1.0,\"line_width\":2,\"line_dash\":[4,4],\"fill_color\":\"lightgrey\",\"fill_alpha\":0.5}}}},{\"type\":\"object\",\"name\":\"SaveTool\",\"id\":\"p2808\"},{\"type\":\"object\",\"name\":\"ResetTool\",\"id\":\"p2809\"},{\"type\":\"object\",\"name\":\"HelpTool\",\"id\":\"p2810\"}]}},\"left\":[{\"type\":\"object\",\"name\":\"LinearAxis\",\"id\":\"p2799\",\"attributes\":{\"ticker\":{\"type\":\"object\",\"name\":\"BasicTicker\",\"id\":\"p2800\",\"attributes\":{\"mantissas\":[1,2,5]}},\"formatter\":{\"type\":\"object\",\"name\":\"BasicTickFormatter\",\"id\":\"p2801\"},\"major_label_policy\":{\"type\":\"object\",\"name\":\"AllLabels\",\"id\":\"p2802\"}}}],\"below\":[{\"type\":\"object\",\"name\":\"LinearAxis\",\"id\":\"p2794\",\"attributes\":{\"ticker\":{\"type\":\"object\",\"name\":\"BasicTicker\",\"id\":\"p2795\",\"attributes\":{\"mantissas\":[1,2,5]}},\"formatter\":{\"type\":\"object\",\"name\":\"BasicTickFormatter\",\"id\":\"p2796\"},\"major_label_policy\":{\"type\":\"object\",\"name\":\"AllLabels\",\"id\":\"p2797\"}}}],\"center\":[{\"type\":\"object\",\"name\":\"Grid\",\"id\":\"p2798\",\"attributes\":{\"axis\":{\"id\":\"p2794\"}}},{\"type\":\"object\",\"name\":\"Grid\",\"id\":\"p2803\",\"attributes\":{\"dimension\":1,\"axis\":{\"id\":\"p2799\"}}},{\"type\":\"object\",\"name\":\"Legend\",\"id\":\"p2820\",\"attributes\":{\"items\":[{\"type\":\"object\",\"name\":\"LegendItem\",\"id\":\"p2821\",\"attributes\":{\"label\":{\"type\":\"value\",\"value\":\"x0\"},\"renderers\":[{\"id\":\"p2817\"}]}},{\"type\":\"object\",\"name\":\"LegendItem\",\"id\":\"p2831\",\"attributes\":{\"label\":{\"type\":\"value\",\"value\":\"x1\"},\"renderers\":[{\"id\":\"p2828\"}]}},{\"type\":\"object\",\"name\":\"LegendItem\",\"id\":\"p2841\",\"attributes\":{\"label\":{\"type\":\"value\",\"value\":\"x2\"},\"renderers\":[{\"id\":\"p2838\"}]}}]}}]}}]}};\n  const render_items = [{\"docid\":\"40b23511-c3a5-40cc-bbe5-fd822e089c6f\",\"roots\":{\"p2783\":\"d5d68707-4c2a-4aff-bcf8-0cc1e753ff26\"},\"root_ids\":[\"p2783\"]}];\n  root.Bokeh.embed.embed_items_notebook(docs_json, render_items);\n  }\n  if (root.Bokeh !== undefined) {\n    embed_document(root);\n  } else {\n    let attempts = 0;\n    const timer = setInterval(function(root) {\n      if (root.Bokeh !== undefined) {\n        clearInterval(timer);\n        embed_document(root);\n      } else {\n        attempts++;\n        if (attempts > 100) {\n          clearInterval(timer);\n          console.log(\"Bokeh: ERROR: Unable to run BokehJS code because BokehJS library is missing\");\n        }\n      }\n    }, 10, root)\n  }\n})(window);",
      "application/vnd.bokehjs_exec.v0+json": ""
     },
     "metadata": {
      "application/vnd.bokehjs_exec.v0+json": {
       "id": "p2783"
      }
     },
     "output_type": "display_data"
    }
   ],
   "source": [
    "F = figure()\n",
    "F.scatter(x=x0[:,0],y=x0[:,1],color='red',legend_label='x0')\n",
    "F.scatter(x=x1[:,0],y=x1[:,1],color='blue',legend_label='x1')\n",
    "F.scatter(x=x2[:,0],y=x2[:,1],color='green',legend_label='x2')\n",
    "\n",
    "show(F)"
   ]
  },
  {
   "cell_type": "code",
   "execution_count": 148,
   "metadata": {},
   "outputs": [
    {
     "data": {
      "text/html": [
       "<style>#sk-container-id-8 {color: black;}#sk-container-id-8 pre{padding: 0;}#sk-container-id-8 div.sk-toggleable {background-color: white;}#sk-container-id-8 label.sk-toggleable__label {cursor: pointer;display: block;width: 100%;margin-bottom: 0;padding: 0.3em;box-sizing: border-box;text-align: center;}#sk-container-id-8 label.sk-toggleable__label-arrow:before {content: \"▸\";float: left;margin-right: 0.25em;color: #696969;}#sk-container-id-8 label.sk-toggleable__label-arrow:hover:before {color: black;}#sk-container-id-8 div.sk-estimator:hover label.sk-toggleable__label-arrow:before {color: black;}#sk-container-id-8 div.sk-toggleable__content {max-height: 0;max-width: 0;overflow: hidden;text-align: left;background-color: #f0f8ff;}#sk-container-id-8 div.sk-toggleable__content pre {margin: 0.2em;color: black;border-radius: 0.25em;background-color: #f0f8ff;}#sk-container-id-8 input.sk-toggleable__control:checked~div.sk-toggleable__content {max-height: 200px;max-width: 100%;overflow: auto;}#sk-container-id-8 input.sk-toggleable__control:checked~label.sk-toggleable__label-arrow:before {content: \"▾\";}#sk-container-id-8 div.sk-estimator input.sk-toggleable__control:checked~label.sk-toggleable__label {background-color: #d4ebff;}#sk-container-id-8 div.sk-label input.sk-toggleable__control:checked~label.sk-toggleable__label {background-color: #d4ebff;}#sk-container-id-8 input.sk-hidden--visually {border: 0;clip: rect(1px 1px 1px 1px);clip: rect(1px, 1px, 1px, 1px);height: 1px;margin: -1px;overflow: hidden;padding: 0;position: absolute;width: 1px;}#sk-container-id-8 div.sk-estimator {font-family: monospace;background-color: #f0f8ff;border: 1px dotted black;border-radius: 0.25em;box-sizing: border-box;margin-bottom: 0.5em;}#sk-container-id-8 div.sk-estimator:hover {background-color: #d4ebff;}#sk-container-id-8 div.sk-parallel-item::after {content: \"\";width: 100%;border-bottom: 1px solid gray;flex-grow: 1;}#sk-container-id-8 div.sk-label:hover label.sk-toggleable__label {background-color: #d4ebff;}#sk-container-id-8 div.sk-serial::before {content: \"\";position: absolute;border-left: 1px solid gray;box-sizing: border-box;top: 0;bottom: 0;left: 50%;z-index: 0;}#sk-container-id-8 div.sk-serial {display: flex;flex-direction: column;align-items: center;background-color: white;padding-right: 0.2em;padding-left: 0.2em;position: relative;}#sk-container-id-8 div.sk-item {position: relative;z-index: 1;}#sk-container-id-8 div.sk-parallel {display: flex;align-items: stretch;justify-content: center;background-color: white;position: relative;}#sk-container-id-8 div.sk-item::before, #sk-container-id-8 div.sk-parallel-item::before {content: \"\";position: absolute;border-left: 1px solid gray;box-sizing: border-box;top: 0;bottom: 0;left: 50%;z-index: -1;}#sk-container-id-8 div.sk-parallel-item {display: flex;flex-direction: column;z-index: 1;position: relative;background-color: white;}#sk-container-id-8 div.sk-parallel-item:first-child::after {align-self: flex-end;width: 50%;}#sk-container-id-8 div.sk-parallel-item:last-child::after {align-self: flex-start;width: 50%;}#sk-container-id-8 div.sk-parallel-item:only-child::after {width: 0;}#sk-container-id-8 div.sk-dashed-wrapped {border: 1px dashed gray;margin: 0 0.4em 0.5em 0.4em;box-sizing: border-box;padding-bottom: 0.4em;background-color: white;}#sk-container-id-8 div.sk-label label {font-family: monospace;font-weight: bold;display: inline-block;line-height: 1.2em;}#sk-container-id-8 div.sk-label-container {text-align: center;}#sk-container-id-8 div.sk-container {/* jupyter's `normalize.less` sets `[hidden] { display: none; }` but bootstrap.min.css set `[hidden] { display: none !important; }` so we also need the `!important` here to be able to override the default hidden behavior on the sphinx rendered scikit-learn.org. See: https://github.com/scikit-learn/scikit-learn/issues/21755 */display: inline-block !important;position: relative;}#sk-container-id-8 div.sk-text-repr-fallback {display: none;}</style><div id=\"sk-container-id-8\" class=\"sk-top-container\"><div class=\"sk-text-repr-fallback\"><pre>KNeighborsClassifier()</pre><b>In a Jupyter environment, please rerun this cell to show the HTML representation or trust the notebook. <br />On GitHub, the HTML representation is unable to render, please try loading this page with nbviewer.org.</b></div><div class=\"sk-container\" hidden><div class=\"sk-item\"><div class=\"sk-estimator sk-toggleable\"><input class=\"sk-toggleable__control sk-hidden--visually\" id=\"sk-estimator-id-8\" type=\"checkbox\" checked><label for=\"sk-estimator-id-8\" class=\"sk-toggleable__label sk-toggleable__label-arrow\">KNeighborsClassifier</label><div class=\"sk-toggleable__content\"><pre>KNeighborsClassifier()</pre></div></div></div></div></div>"
      ],
      "text/plain": [
       "KNeighborsClassifier()"
      ]
     },
     "execution_count": 148,
     "metadata": {},
     "output_type": "execute_result"
    }
   ],
   "source": [
    "from sklearn.neighbors import KNeighborsClassifier\n",
    "colors = ['red','blue','green']\n",
    "X = np.vstack([x0,x1,x2])\n",
    "Y = np.array([0]*100+[1]*100+[2]*100)\n",
    "training_data = ColumnDataSource(data=dict(x=X[:,0],y=X[:,1],color=['red']*100+['blue']*100+['green']*100))\n",
    "KN = KNeighborsClassifier(n_neighbors=5)\n",
    "KN.fit(X,Y)\n"
   ]
  },
  {
   "cell_type": "code",
   "execution_count": 146,
   "metadata": {},
   "outputs": [],
   "source": [
    "y0 = np.random.multivariate_normal([0, 0], [[1, .75],[.75, 1]], 10)\n",
    "y1 = np.random.multivariate_normal([1, -4], [[1, 0],[0, 1]], 10)\n",
    "y2 = np.random.multivariate_normal([-2,-2],[[1,-.5],[-.5,1]],10)"
   ]
  },
  {
   "cell_type": "code",
   "execution_count": 155,
   "metadata": {},
   "outputs": [
    {
     "name": "stdout",
     "output_type": "stream",
     "text": [
      "   x  y  color\n",
      "0 -1 -2  green\n",
      "[[  1 233 213 227  32]]\n"
     ]
    },
    {
     "data": {
      "text/html": [
       "\n",
       "  <div id=\"d6b267ec-b932-4671-82dc-fbde22674ae0\" data-root-id=\"p3278\" style=\"display: contents;\"></div>\n"
      ]
     },
     "metadata": {},
     "output_type": "display_data"
    },
    {
     "data": {
      "application/javascript": "(function(root) {\n  function embed_document(root) {\n  const docs_json = {\"fe8369cd-1cc9-48b1-932f-152f04278beb\":{\"version\":\"3.2.2\",\"title\":\"Bokeh Application\",\"roots\":[{\"type\":\"object\",\"name\":\"Figure\",\"id\":\"p3278\",\"attributes\":{\"x_range\":{\"type\":\"object\",\"name\":\"DataRange1d\",\"id\":\"p3279\"},\"y_range\":{\"type\":\"object\",\"name\":\"DataRange1d\",\"id\":\"p3280\"},\"x_scale\":{\"type\":\"object\",\"name\":\"LinearScale\",\"id\":\"p3287\"},\"y_scale\":{\"type\":\"object\",\"name\":\"LinearScale\",\"id\":\"p3288\"},\"title\":{\"type\":\"object\",\"name\":\"Title\",\"id\":\"p3285\"},\"renderers\":[{\"type\":\"object\",\"name\":\"GlyphRenderer\",\"id\":\"p3312\",\"attributes\":{\"data_source\":{\"type\":\"object\",\"name\":\"ColumnDataSource\",\"id\":\"p3275\",\"attributes\":{\"selected\":{\"type\":\"object\",\"name\":\"Selection\",\"id\":\"p3276\",\"attributes\":{\"indices\":[],\"line_indices\":[]}},\"selection_policy\":{\"type\":\"object\",\"name\":\"UnionRenderers\",\"id\":\"p3277\"},\"data\":{\"type\":\"map\",\"entries\":[[\"x\",{\"type\":\"ndarray\",\"array\":{\"type\":\"bytes\",\"data\":\"/////w==\"},\"shape\":[1],\"dtype\":\"int32\",\"order\":\"little\"}],[\"y\",{\"type\":\"ndarray\",\"array\":{\"type\":\"bytes\",\"data\":\"/v///w==\"},\"shape\":[1],\"dtype\":\"int32\",\"order\":\"little\"}],[\"color\",[\"green\"]]]}}},\"view\":{\"type\":\"object\",\"name\":\"CDSView\",\"id\":\"p3313\",\"attributes\":{\"filter\":{\"type\":\"object\",\"name\":\"AllIndices\",\"id\":\"p3314\"}}},\"glyph\":{\"type\":\"object\",\"name\":\"Scatter\",\"id\":\"p3309\",\"attributes\":{\"x\":{\"type\":\"field\",\"field\":\"x\"},\"y\":{\"type\":\"field\",\"field\":\"y\"},\"size\":{\"type\":\"value\",\"value\":10},\"line_color\":{\"type\":\"field\",\"field\":\"color\"},\"fill_color\":{\"type\":\"field\",\"field\":\"color\"},\"hatch_color\":{\"type\":\"field\",\"field\":\"color\"}}},\"nonselection_glyph\":{\"type\":\"object\",\"name\":\"Scatter\",\"id\":\"p3310\",\"attributes\":{\"x\":{\"type\":\"field\",\"field\":\"x\"},\"y\":{\"type\":\"field\",\"field\":\"y\"},\"size\":{\"type\":\"value\",\"value\":10},\"line_color\":{\"type\":\"field\",\"field\":\"color\"},\"line_alpha\":{\"type\":\"value\",\"value\":0.1},\"fill_color\":{\"type\":\"field\",\"field\":\"color\"},\"fill_alpha\":{\"type\":\"value\",\"value\":0.1},\"hatch_color\":{\"type\":\"field\",\"field\":\"color\"},\"hatch_alpha\":{\"type\":\"value\",\"value\":0.1}}},\"muted_glyph\":{\"type\":\"object\",\"name\":\"Scatter\",\"id\":\"p3311\",\"attributes\":{\"x\":{\"type\":\"field\",\"field\":\"x\"},\"y\":{\"type\":\"field\",\"field\":\"y\"},\"size\":{\"type\":\"value\",\"value\":10},\"line_color\":{\"type\":\"field\",\"field\":\"color\"},\"line_alpha\":{\"type\":\"value\",\"value\":0.2},\"fill_color\":{\"type\":\"field\",\"field\":\"color\"},\"fill_alpha\":{\"type\":\"value\",\"value\":0.2},\"hatch_color\":{\"type\":\"field\",\"field\":\"color\"},\"hatch_alpha\":{\"type\":\"value\",\"value\":0.2}}}}},{\"type\":\"object\",\"name\":\"GlyphRenderer\",\"id\":\"p3321\",\"attributes\":{\"data_source\":{\"type\":\"object\",\"name\":\"ColumnDataSource\",\"id\":\"p2921\",\"attributes\":{\"selected\":{\"type\":\"object\",\"name\":\"Selection\",\"id\":\"p2922\",\"attributes\":{\"indices\":[],\"line_indices\":[]}},\"selection_policy\":{\"type\":\"object\",\"name\":\"UnionRenderers\",\"id\":\"p2923\"},\"data\":{\"type\":\"map\",\"entries\":[[\"x\",{\"type\":\"ndarray\",\"array\":{\"type\":\"bytes\",\"data\":\"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\"},\"shape\":[300],\"dtype\":\"float64\",\"order\":\"little\"}],[\"y\",{\"type\":\"ndarray\",\"array\":{\"type\":\"bytes\",\"data\":\"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\"},\"shape\":[300],\"dtype\":\"float64\",\"order\":\"little\"}],[\"color\",[\"red\",\"red\",\"red\",\"red\",\"red\",\"red\",\"red\",\"red\",\"red\",\"red\",\"red\",\"red\",\"red\",\"red\",\"red\",\"red\",\"red\",\"red\",\"red\",\"red\",\"red\",\"red\",\"red\",\"red\",\"red\",\"red\",\"red\",\"red\",\"red\",\"red\",\"red\",\"red\",\"red\",\"red\",\"red\",\"red\",\"red\",\"red\",\"red\",\"red\",\"red\",\"red\",\"red\",\"red\",\"red\",\"red\",\"red\",\"red\",\"red\",\"red\",\"red\",\"red\",\"red\",\"red\",\"red\",\"red\",\"red\",\"red\",\"red\",\"red\",\"red\",\"red\",\"red\",\"red\",\"red\",\"red\",\"red\",\"red\",\"red\",\"red\",\"red\",\"red\",\"red\",\"red\",\"red\",\"red\",\"red\",\"red\",\"red\",\"red\",\"red\",\"red\",\"red\",\"red\",\"red\",\"red\",\"red\",\"red\",\"red\",\"red\",\"red\",\"red\",\"red\",\"red\",\"red\",\"red\",\"red\",\"red\",\"red\",\"red\",\"blue\",\"blue\",\"blue\",\"blue\",\"blue\",\"blue\",\"blue\",\"blue\",\"blue\",\"blue\",\"blue\",\"blue\",\"blue\",\"blue\",\"blue\",\"blue\",\"blue\",\"blue\",\"blue\",\"blue\",\"blue\",\"blue\",\"blue\",\"blue\",\"blue\",\"blue\",\"blue\",\"blue\",\"blue\",\"blue\",\"blue\",\"blue\",\"blue\",\"blue\",\"blue\",\"blue\",\"blue\",\"blue\",\"blue\",\"blue\",\"blue\",\"blue\",\"blue\",\"blue\",\"blue\",\"blue\",\"blue\",\"blue\",\"blue\",\"blue\",\"blue\",\"blue\",\"blue\",\"blue\",\"blue\",\"blue\",\"blue\",\"blue\",\"blue\",\"blue\",\"blue\",\"blue\",\"blue\",\"blue\",\"blue\",\"blue\",\"blue\",\"blue\",\"blue\",\"blue\",\"blue\",\"blue\",\"blue\",\"blue\",\"blue\",\"blue\",\"blue\",\"blue\",\"blue\",\"blue\",\"blue\",\"blue\",\"blue\",\"blue\",\"blue\",\"blue\",\"blue\",\"blue\",\"blue\",\"blue\",\"blue\",\"blue\",\"blue\",\"blue\",\"blue\",\"blue\",\"blue\",\"blue\",\"blue\",\"blue\",\"green\",\"green\",\"green\",\"green\",\"green\",\"green\",\"green\",\"green\",\"green\",\"green\",\"green\",\"green\",\"green\",\"green\",\"green\",\"green\",\"green\",\"green\",\"green\",\"green\",\"green\",\"green\",\"green\",\"green\",\"green\",\"green\",\"green\",\"green\",\"green\",\"green\",\"green\",\"green\",\"green\",\"green\",\"green\",\"green\",\"green\",\"green\",\"green\",\"green\",\"green\",\"green\",\"green\",\"green\",\"green\",\"green\",\"green\",\"green\",\"green\",\"green\",\"green\",\"green\",\"green\",\"green\",\"green\",\"green\",\"green\",\"green\",\"green\",\"green\",\"green\",\"green\",\"green\",\"green\",\"green\",\"green\",\"green\",\"green\",\"green\",\"green\",\"green\",\"green\",\"green\",\"green\",\"green\",\"green\",\"green\",\"green\",\"green\",\"green\",\"green\",\"green\",\"green\",\"green\",\"green\",\"green\",\"green\",\"green\",\"green\",\"green\",\"green\",\"green\",\"green\",\"green\",\"green\",\"green\",\"green\",\"green\",\"green\",\"green\"]]]}}},\"view\":{\"type\":\"object\",\"name\":\"CDSView\",\"id\":\"p3322\",\"attributes\":{\"filter\":{\"type\":\"object\",\"name\":\"AllIndices\",\"id\":\"p3323\"}}},\"glyph\":{\"type\":\"object\",\"name\":\"Scatter\",\"id\":\"p3318\",\"attributes\":{\"x\":{\"type\":\"field\",\"field\":\"x\"},\"y\":{\"type\":\"field\",\"field\":\"y\"},\"line_color\":{\"type\":\"field\",\"field\":\"color\"},\"fill_color\":{\"type\":\"field\",\"field\":\"color\"},\"hatch_color\":{\"type\":\"field\",\"field\":\"color\"}}},\"nonselection_glyph\":{\"type\":\"object\",\"name\":\"Scatter\",\"id\":\"p3319\",\"attributes\":{\"x\":{\"type\":\"field\",\"field\":\"x\"},\"y\":{\"type\":\"field\",\"field\":\"y\"},\"line_color\":{\"type\":\"field\",\"field\":\"color\"},\"line_alpha\":{\"type\":\"value\",\"value\":0.1},\"fill_color\":{\"type\":\"field\",\"field\":\"color\"},\"fill_alpha\":{\"type\":\"value\",\"value\":0.1},\"hatch_color\":{\"type\":\"field\",\"field\":\"color\"},\"hatch_alpha\":{\"type\":\"value\",\"value\":0.1}}},\"muted_glyph\":{\"type\":\"object\",\"name\":\"Scatter\",\"id\":\"p3320\",\"attributes\":{\"x\":{\"type\":\"field\",\"field\":\"x\"},\"y\":{\"type\":\"field\",\"field\":\"y\"},\"line_color\":{\"type\":\"field\",\"field\":\"color\"},\"line_alpha\":{\"type\":\"value\",\"value\":0.2},\"fill_color\":{\"type\":\"field\",\"field\":\"color\"},\"fill_alpha\":{\"type\":\"value\",\"value\":0.2},\"hatch_color\":{\"type\":\"field\",\"field\":\"color\"},\"hatch_alpha\":{\"type\":\"value\",\"value\":0.2}}}}},{\"type\":\"object\",\"name\":\"GlyphRenderer\",\"id\":\"p3330\",\"attributes\":{\"data_source\":{\"type\":\"object\",\"name\":\"ColumnDataSource\",\"id\":\"p3324\",\"attributes\":{\"selected\":{\"type\":\"object\",\"name\":\"Selection\",\"id\":\"p3325\",\"attributes\":{\"indices\":[],\"line_indices\":[]}},\"selection_policy\":{\"type\":\"object\",\"name\":\"UnionRenderers\",\"id\":\"p3326\"},\"data\":{\"type\":\"map\",\"entries\":[[\"x\",{\"type\":\"ndarray\",\"array\":{\"type\":\"bytes\",\"data\":\"VgNbia+57r8o3/kW8iz0vzIIZl40lPS/VxGQWbcG8L+454ze25f0vw==\"},\"shape\":[5],\"dtype\":\"float64\",\"order\":\"little\"}],[\"y\",{\"type\":\"ndarray\",\"array\":{\"type\":\"bytes\",\"data\":\"8FlISOTM/r/xvfDst3z/v/ZyS7/sjv6/T9xQmah7AsDpMA7JWf8AwA==\"},\"shape\":[5],\"dtype\":\"float64\",\"order\":\"little\"}]]}}},\"view\":{\"type\":\"object\",\"name\":\"CDSView\",\"id\":\"p3331\",\"attributes\":{\"filter\":{\"type\":\"object\",\"name\":\"AllIndices\",\"id\":\"p3332\"}}},\"glyph\":{\"type\":\"object\",\"name\":\"Scatter\",\"id\":\"p3327\",\"attributes\":{\"x\":{\"type\":\"field\",\"field\":\"x\"},\"y\":{\"type\":\"field\",\"field\":\"y\"},\"size\":{\"type\":\"value\",\"value\":10},\"line_color\":{\"type\":\"value\",\"value\":\"#1f77b4\"},\"line_alpha\":{\"type\":\"value\",\"value\":0.3},\"fill_color\":{\"type\":\"value\",\"value\":\"#1f77b4\"},\"fill_alpha\":{\"type\":\"value\",\"value\":0.3},\"hatch_alpha\":{\"type\":\"value\",\"value\":0.3}}},\"nonselection_glyph\":{\"type\":\"object\",\"name\":\"Scatter\",\"id\":\"p3328\",\"attributes\":{\"x\":{\"type\":\"field\",\"field\":\"x\"},\"y\":{\"type\":\"field\",\"field\":\"y\"},\"size\":{\"type\":\"value\",\"value\":10},\"line_color\":{\"type\":\"value\",\"value\":\"#1f77b4\"},\"line_alpha\":{\"type\":\"value\",\"value\":0.1},\"fill_color\":{\"type\":\"value\",\"value\":\"#1f77b4\"},\"fill_alpha\":{\"type\":\"value\",\"value\":0.1},\"hatch_alpha\":{\"type\":\"value\",\"value\":0.1}}},\"muted_glyph\":{\"type\":\"object\",\"name\":\"Scatter\",\"id\":\"p3329\",\"attributes\":{\"x\":{\"type\":\"field\",\"field\":\"x\"},\"y\":{\"type\":\"field\",\"field\":\"y\"},\"size\":{\"type\":\"value\",\"value\":10},\"line_color\":{\"type\":\"value\",\"value\":\"#1f77b4\"},\"line_alpha\":{\"type\":\"value\",\"value\":0.2},\"fill_color\":{\"type\":\"value\",\"value\":\"#1f77b4\"},\"fill_alpha\":{\"type\":\"value\",\"value\":0.2},\"hatch_alpha\":{\"type\":\"value\",\"value\":0.2}}}}}],\"toolbar\":{\"type\":\"object\",\"name\":\"Toolbar\",\"id\":\"p3286\",\"attributes\":{\"tools\":[{\"type\":\"object\",\"name\":\"PanTool\",\"id\":\"p3299\"},{\"type\":\"object\",\"name\":\"WheelZoomTool\",\"id\":\"p3300\"},{\"type\":\"object\",\"name\":\"BoxZoomTool\",\"id\":\"p3301\",\"attributes\":{\"overlay\":{\"type\":\"object\",\"name\":\"BoxAnnotation\",\"id\":\"p3302\",\"attributes\":{\"syncable\":false,\"level\":\"overlay\",\"visible\":false,\"left_units\":\"canvas\",\"right_units\":\"canvas\",\"bottom_units\":\"canvas\",\"top_units\":\"canvas\",\"line_color\":\"black\",\"line_alpha\":1.0,\"line_width\":2,\"line_dash\":[4,4],\"fill_color\":\"lightgrey\",\"fill_alpha\":0.5}}}},{\"type\":\"object\",\"name\":\"SaveTool\",\"id\":\"p3303\"},{\"type\":\"object\",\"name\":\"ResetTool\",\"id\":\"p3304\"},{\"type\":\"object\",\"name\":\"HelpTool\",\"id\":\"p3305\"}]}},\"left\":[{\"type\":\"object\",\"name\":\"LinearAxis\",\"id\":\"p3294\",\"attributes\":{\"ticker\":{\"type\":\"object\",\"name\":\"BasicTicker\",\"id\":\"p3295\",\"attributes\":{\"mantissas\":[1,2,5]}},\"formatter\":{\"type\":\"object\",\"name\":\"BasicTickFormatter\",\"id\":\"p3296\"},\"major_label_policy\":{\"type\":\"object\",\"name\":\"AllLabels\",\"id\":\"p3297\"}}}],\"below\":[{\"type\":\"object\",\"name\":\"LinearAxis\",\"id\":\"p3289\",\"attributes\":{\"ticker\":{\"type\":\"object\",\"name\":\"BasicTicker\",\"id\":\"p3290\",\"attributes\":{\"mantissas\":[1,2,5]}},\"formatter\":{\"type\":\"object\",\"name\":\"BasicTickFormatter\",\"id\":\"p3291\"},\"major_label_policy\":{\"type\":\"object\",\"name\":\"AllLabels\",\"id\":\"p3292\"}}}],\"center\":[{\"type\":\"object\",\"name\":\"Grid\",\"id\":\"p3293\",\"attributes\":{\"axis\":{\"id\":\"p3289\"}}},{\"type\":\"object\",\"name\":\"Grid\",\"id\":\"p3298\",\"attributes\":{\"dimension\":1,\"axis\":{\"id\":\"p3294\"}}}]}}]}};\n  const render_items = [{\"docid\":\"fe8369cd-1cc9-48b1-932f-152f04278beb\",\"roots\":{\"p3278\":\"d6b267ec-b932-4671-82dc-fbde22674ae0\"},\"root_ids\":[\"p3278\"]}];\n  root.Bokeh.embed.embed_items_notebook(docs_json, render_items);\n  }\n  if (root.Bokeh !== undefined) {\n    embed_document(root);\n  } else {\n    let attempts = 0;\n    const timer = setInterval(function(root) {\n      if (root.Bokeh !== undefined) {\n        clearInterval(timer);\n        embed_document(root);\n      } else {\n        attempts++;\n        if (attempts > 100) {\n          clearInterval(timer);\n          console.log(\"Bokeh: ERROR: Unable to run BokehJS code because BokehJS library is missing\");\n        }\n      }\n    }, 10, root)\n  }\n})(window);",
      "application/vnd.bokehjs_exec.v0+json": ""
     },
     "metadata": {
      "application/vnd.bokehjs_exec.v0+json": {
       "id": "p3278"
      }
     },
     "output_type": "display_data"
    }
   ],
   "source": [
    "test = np.array([-1,-2]).reshape(1,2)\n",
    "predicted = KN.predict(Y)\n",
    "neighbors = KN.kneighbors(Y)\n",
    "\n",
    "datadict = {'x':test[:,0],'y':test[:,1],'color':[colors[i] for i in predicted]}\n",
    "source = ColumnDataSource(data=datadict)\n",
    "print(source.to_df())\n",
    "print(neighbors[1])\n",
    "G=figure()\n",
    "G.scatter(x='x',y='y',color='color',source=source,size=10)\n",
    "G.scatter(x='x',y='y',color='color',source=training_data)\n",
    "G.scatter(x=X[neighbors[1][0]][:,0],y=X[neighbors[1][0]][:,1],size=10,alpha=.3)\n",
    "\n",
    "show(G)"
   ]
  },
  {
   "cell_type": "code",
   "execution_count": null,
   "metadata": {},
   "outputs": [],
   "source": []
  }
 ],
 "metadata": {
  "kernelspec": {
   "display_name": "base",
   "language": "python",
   "name": "python3"
  },
  "language_info": {
   "codemirror_mode": {
    "name": "ipython",
    "version": 3
   },
   "file_extension": ".py",
   "mimetype": "text/x-python",
   "name": "python",
   "nbconvert_exporter": "python",
   "pygments_lexer": "ipython3",
   "version": "3.11.5"
  }
 },
 "nbformat": 4,
 "nbformat_minor": 2
}
