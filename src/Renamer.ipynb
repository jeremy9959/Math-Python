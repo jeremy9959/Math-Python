{
 "cells": [
  {
   "cell_type": "code",
   "execution_count": null,
   "metadata": {},
   "outputs": [],
   "source": [
    "## Made by Dustin Huo with lots of help from Chat-GPT\n",
    "\n",
    "import pandas as pd\n",
    "import os\n",
    "import re\n",
    "\n",
    "# Load the Excel file into a DataFrame\n",
    "excel_file_path = '~/Downloads/roster.xlsx'\n",
    "df = pd.read_excel(excel_file_path, names=['First', 'Last', 'netid'], header=None)\n",
    "\n",
    "# Directory containing the files to be renamed\n",
    "files_directory = '/Users/dustinhuo/Downloads/Assignment1'\n",
    "\n",
    "# Regular expression pattern to extract netID from file names\n",
    "netid_pattern = re.compile(r'_([a-zA-Z]{3}\\d{5})_attempt')\n",
    "\n",
    "# Iterate through the rows of the DataFrame\n",
    "for index, row in df.iterrows():\n",
    "    first_name = row['First']\n",
    "    last_name = row['Last']\n",
    "    netid = row['netid']\n",
    "\n",
    "    # Iterate through files in the directory\n",
    "    for filename in os.listdir(files_directory):\n",
    "        # Search for netID in the file names using the regular expression pattern\n",
    "        netid_match = netid_pattern.search(filename)\n",
    "\n",
    "        if netid_match and netid_match.group(1) == netid:\n",
    "            # Construct the old and new file paths\n",
    "            old_file_path = os.path.join(files_directory, filename)\n",
    "            new_file_path = os.path.join(files_directory, f\"{first_name}_{last_name}.xlsx\")\n",
    "\n",
    "            # Rename the file using the first and last name\n",
    "            os.rename(old_file_path, new_file_path)\n",
    "            print(f\"Renamed {old_file_path} to {new_file_path}\")\n",
    "            break  # Stop searching for the current netID once a match is found\n",
    "\n",
    "    else:\n",
    "        print(f\"File not found for netID: {netid}\")\n"
   ]
  }
 ],
 "metadata": {
  "kernelspec": {
   "display_name": "base",
   "language": "python",
   "name": "python3"
  },
  "language_info": {
   "codemirror_mode": {
    "name": "ipython",
    "version": 3
   },
   "file_extension": ".py",
   "mimetype": "text/x-python",
   "name": "python",
   "nbconvert_exporter": "python",
   "pygments_lexer": "ipython3",
   "version": "3.11.5"
  }
 },
 "nbformat": 4,
 "nbformat_minor": 2
}
